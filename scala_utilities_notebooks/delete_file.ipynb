{
 "cells": [
  {
   "cell_type": "code",
   "execution_count": 1,
   "metadata": {},
   "outputs": [
    {
     "name": "stdout",
     "output_type": "stream",
     "text": [
      "Starting Spark application\n"
     ]
    },
    {
     "data": {
      "text/html": [
       "<table>\n",
       "<tr><th>ID</th><th>YARN Application ID</th><th>Kind</th><th>State</th><th>Spark UI</th><th>Driver log</th><th>Current session?</th></tr><tr><td>161</td><td>application_1553135043314_0162</td><td>spark</td><td>idle</td><td><a target=\"_blank\" href=\"https://sparkmlb.azurehdinsight.net/yarnui/hn/proxy/application_1553135043314_0162/\">Link</a></td><td><a target=\"_blank\" href=\"http://wn4-sparkm.q33fbvhpxvyuni0y4g53g3xvyg.bx.internal.cloudapp.net:30060/node/containerlogs/container_e04_1553135043314_0162_01_000001/livy\">Link</a></td><td>✔</td></tr></table>"
      ],
      "text/plain": [
       "<IPython.core.display.HTML object>"
      ]
     },
     "metadata": {},
     "output_type": "display_data"
    },
    {
     "name": "stdout",
     "output_type": "stream",
     "text": [
      "SparkSession available as 'spark'.\n",
      "Start"
     ]
    }
   ],
   "source": [
    "println(\"Start\")"
   ]
  },
  {
   "cell_type": "code",
   "execution_count": 4,
   "metadata": {},
   "outputs": [
    {
     "name": "stdout",
     "output_type": "stream",
     "text": [
      "import java.nio.file.{Paths, Files}"
     ]
    }
   ],
   "source": [
    "import org.apache.spark.sql.{DataFrame, SparkSession}\n",
    "import org.apache.spark.sql.functions._\n",
    "import spark.implicits._\n",
    "import java.nio.file.{Paths, Files}"
   ]
  },
  {
   "cell_type": "code",
   "execution_count": 13,
   "metadata": {},
   "outputs": [
    {
     "name": "stderr",
     "output_type": "stream",
     "text": [
      "<console>:13: error: value exists is not a member of java.nio.file.Files\n",
      "         def check = if (f.exists) Some(f) else None //returns \"Maybe\" monad\n",
      "                           ^\n",
      "<console>:14: error: value delete is not a member of java.nio.file.Files\n",
      "         def remove = if (f.delete()) Some(f) else None //returns \"Maybe\" monad\n",
      "                            ^\n"
     ]
    }
   ],
   "source": [
    "implicit class FileMonads(f: File) {\n",
    "  def check = if (f.exists) Some(f) else None //returns \"Maybe\" monad\n",
    "  def remove = if (f.delete()) Some(f) else None //returns \"Maybe\" monad\n",
    "}\n",
    "\n",
    "for {\n",
    "  foundFile <- new File(path).check\n",
    "  deletedFile <- foundFile.remove\n",
    "} yield deletedFile"
   ]
  },
  {
   "cell_type": "code",
   "execution_count": 12,
   "metadata": {},
   "outputs": [
    {
     "name": "stdout",
     "output_type": "stream",
     "text": [
      "res7: Boolean = false"
     ]
    }
   ],
   "source": [
    "Files.exists(Paths.get(\"C://Users\"))"
   ]
  },
  {
   "cell_type": "code",
   "execution_count": null,
   "metadata": {},
   "outputs": [],
   "source": []
  }
 ],
 "metadata": {
  "kernelspec": {
   "display_name": "Spark",
   "language": "",
   "name": "sparkkernel"
  },
  "language_info": {
   "codemirror_mode": "text/x-scala",
   "mimetype": "text/x-scala",
   "name": "scala",
   "pygments_lexer": "scala"
  }
 },
 "nbformat": 4,
 "nbformat_minor": 2
}
