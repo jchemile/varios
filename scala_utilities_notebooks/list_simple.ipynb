{
 "cells": [
  {
   "cell_type": "code",
   "execution_count": 1,
   "metadata": {},
   "outputs": [
    {
     "name": "stdout",
     "output_type": "stream",
     "text": [
      "Starting Spark application\n"
     ]
    },
    {
     "data": {
      "text/html": [
       "<table>\n",
       "<tr><th>ID</th><th>YARN Application ID</th><th>Kind</th><th>State</th><th>Spark UI</th><th>Driver log</th><th>Current session?</th></tr><tr><td>164</td><td>application_1553135043314_0165</td><td>spark</td><td>idle</td><td><a target=\"_blank\" href=\"https://sparkmlb.azurehdinsight.net/yarnui/hn/proxy/application_1553135043314_0165/\">Link</a></td><td><a target=\"_blank\" href=\"http://wn7-sparkm.q33fbvhpxvyuni0y4g53g3xvyg.bx.internal.cloudapp.net:30060/node/containerlogs/container_e04_1553135043314_0165_01_000001/livy\">Link</a></td><td>✔</td></tr></table>"
      ],
      "text/plain": [
       "<IPython.core.display.HTML object>"
      ]
     },
     "metadata": {},
     "output_type": "display_data"
    },
    {
     "name": "stdout",
     "output_type": "stream",
     "text": [
      "SparkSession available as 'spark'.\n",
      "Start"
     ]
    }
   ],
   "source": [
    "println(\"Start\")"
   ]
  },
  {
   "cell_type": "markdown",
   "metadata": {},
   "source": [
    "Last and stand-alone function"
   ]
  },
  {
   "cell_type": "code",
   "execution_count": 4,
   "metadata": {},
   "outputs": [
    {
     "name": "stdout",
     "output_type": "stream",
     "text": [
      "a: List[Int] = List(13, 17, 99, 54)"
     ]
    }
   ],
   "source": [
    "val a = List(13, 17, 99, 54)"
   ]
  },
  {
   "cell_type": "code",
   "execution_count": null,
   "metadata": {},
   "outputs": [],
   "source": []
  },
  {
   "cell_type": "code",
   "execution_count": 5,
   "metadata": {},
   "outputs": [
    {
     "name": "stdout",
     "output_type": "stream",
     "text": [
      "last: [T](xs: List[T])T"
     ]
    }
   ],
   "source": [
    "def last[T](xs: List[T]): T =xs match {\n",
    "    case List() => throw new Error(\"last of empty list\")\n",
    "    case List(x) => x\n",
    "    case y :: ys => last(ys)\n",
    "}"
   ]
  },
  {
   "cell_type": "code",
   "execution_count": 6,
   "metadata": {},
   "outputs": [
    {
     "name": "stdout",
     "output_type": "stream",
     "text": [
      "res2: Int = 54"
     ]
    }
   ],
   "source": [
    "last(a)"
   ]
  },
  {
   "cell_type": "code",
   "execution_count": null,
   "metadata": {},
   "outputs": [],
   "source": []
  },
  {
   "cell_type": "code",
   "execution_count": 8,
   "metadata": {},
   "outputs": [
    {
     "name": "stdout",
     "output_type": "stream",
     "text": [
      "init: [T](xs: List[T])List[T]"
     ]
    }
   ],
   "source": [
    "def init[T](xs: List[T]): List[T] = xs match {\n",
    "    case List() => throw new Error(\"init of empty list\")\n",
    "    case List() => List()\n",
    "    case y :: ys => y :: init(ys) \n",
    "}"
   ]
  },
  {
   "cell_type": "code",
   "execution_count": 10,
   "metadata": {},
   "outputs": [
    {
     "name": "stderr",
     "output_type": "stream",
     "text": [
      "java.lang.Error: init of empty list\n",
      "  at init(<console>:24)\n",
      "  at init(<console>:26)\n",
      "  at init(<console>:26)\n",
      "  at init(<console>:26)\n",
      "  at init(<console>:26)\n",
      "  ... 50 elided\n"
     ]
    }
   ],
   "source": [
    "init(a)"
   ]
  },
  {
   "cell_type": "code",
   "execution_count": null,
   "metadata": {},
   "outputs": [],
   "source": []
  },
  {
   "cell_type": "code",
   "execution_count": 12,
   "metadata": {},
   "outputs": [
    {
     "name": "stderr",
     "output_type": "stream",
     "text": [
      "<console>:25: error: recursive method concat needs result type\n",
      "           case z :: zs => z :: concat(zs, ys)\n",
      "                                ^\n"
     ]
    }
   ],
   "source": [
    "def concat[T](xs: List[T], ys: List[T]) =  xs match {\n",
    "    case List() => ys\n",
    "    case z :: zs => z :: concat(zs, ys)\n",
    "}"
   ]
  },
  {
   "cell_type": "code",
   "execution_count": null,
   "metadata": {},
   "outputs": [],
   "source": []
  },
  {
   "cell_type": "code",
   "execution_count": 14,
   "metadata": {},
   "outputs": [
    {
     "name": "stdout",
     "output_type": "stream",
     "text": [
      "reverse: [T](xs: List[T])List[T]"
     ]
    }
   ],
   "source": [
    "def reverse[T](xs: List[T]): List[T] = xs match {\n",
    "    case List() => xs\n",
    "    case y :: ys => reverse(ys) ++ List(y)\n",
    "}"
   ]
  },
  {
   "cell_type": "code",
   "execution_count": null,
   "metadata": {},
   "outputs": [],
   "source": []
  },
  {
   "cell_type": "code",
   "execution_count": 15,
   "metadata": {},
   "outputs": [
    {
     "name": "stdout",
     "output_type": "stream",
     "text": [
      "removeAt: [T](n: Int, xs: List[Int])List[Int]"
     ]
    }
   ],
   "source": [
    "def removeAt[T](n: Int, xs: List[Int]) = (xs take n) ::: (xs drop n+1)"
   ]
  },
  {
   "cell_type": "code",
   "execution_count": null,
   "metadata": {},
   "outputs": [],
   "source": []
  }
 ],
 "metadata": {
  "kernelspec": {
   "display_name": "Spark",
   "language": "",
   "name": "sparkkernel"
  },
  "language_info": {
   "codemirror_mode": "text/x-scala",
   "mimetype": "text/x-scala",
   "name": "scala",
   "pygments_lexer": "scala"
  }
 },
 "nbformat": 4,
 "nbformat_minor": 2
}
