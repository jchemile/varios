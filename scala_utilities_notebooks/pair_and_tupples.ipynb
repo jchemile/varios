{
 "cells": [
  {
   "cell_type": "code",
   "execution_count": 1,
   "metadata": {},
   "outputs": [
    {
     "name": "stdout",
     "output_type": "stream",
     "text": [
      "Starting Spark application\n"
     ]
    },
    {
     "data": {
      "text/html": [
       "<table>\n",
       "<tr><th>ID</th><th>YARN Application ID</th><th>Kind</th><th>State</th><th>Spark UI</th><th>Driver log</th><th>Current session?</th></tr><tr><td>166</td><td>application_1553135043314_0167</td><td>spark</td><td>idle</td><td><a target=\"_blank\" href=\"https://sparkmlb.azurehdinsight.net/yarnui/hn/proxy/application_1553135043314_0167/\">Link</a></td><td><a target=\"_blank\" href=\"http://wn6-sparkm.q33fbvhpxvyuni0y4g53g3xvyg.bx.internal.cloudapp.net:30060/node/containerlogs/container_e04_1553135043314_0167_01_000001/livy\">Link</a></td><td>✔</td></tr></table>"
      ],
      "text/plain": [
       "<IPython.core.display.HTML object>"
      ]
     },
     "metadata": {},
     "output_type": "display_data"
    },
    {
     "name": "stdout",
     "output_type": "stream",
     "text": [
      "SparkSession available as 'spark'.\n",
      "Spark"
     ]
    }
   ],
   "source": [
    "println(\"Spark\")"
   ]
  },
  {
   "cell_type": "code",
   "execution_count": null,
   "metadata": {},
   "outputs": [],
   "source": []
  },
  {
   "cell_type": "code",
   "execution_count": 4,
   "metadata": {},
   "outputs": [
    {
     "name": "stderr",
     "output_type": "stream",
     "text": [
      "<console>:29: error: recursive method merge needs result type\n",
      "                     if(x < y) x :: merge(xs1, ys)\n",
      "                                    ^\n"
     ]
    }
   ],
   "source": [
    "def merge(xs: List[Int], ys: List[Int]) =\n",
    "  xs match {\n",
    "      case Nil => ys\n",
    "      case x :: xs1 => ys match {\n",
    "          case Nil => xs\n",
    "          case y :: ys1 =>\n",
    "              if(x < y) x :: merge(xs1, ys)\n",
    "              else y :: merge(xs, ys1)\n",
    "      }\n",
    "  }"
   ]
  },
  {
   "cell_type": "code",
   "execution_count": null,
   "metadata": {},
   "outputs": [],
   "source": []
  },
  {
   "cell_type": "code",
   "execution_count": 3,
   "metadata": {},
   "outputs": [
    {
     "name": "stdout",
     "output_type": "stream",
     "text": [
      "msort: (xs: List[Int])List[Int]"
     ]
    }
   ],
   "source": [
    "def msort(xs: List[Int]): List[Int] = {\n",
    "    val n = xs.length/2\n",
    "    if (n == 0) xs\n",
    "    else {\n",
    "        def merge(xs: List[Int], ys: List[Int]) = ???\n",
    "        val(fst, snd) = xs splitAt n\n",
    "        merge(msort(fst), msort(snd))\n",
    "    }\n",
    "}"
   ]
  },
  {
   "cell_type": "code",
   "execution_count": null,
   "metadata": {},
   "outputs": [],
   "source": []
  },
  {
   "cell_type": "code",
   "execution_count": 5,
   "metadata": {},
   "outputs": [
    {
     "name": "stderr",
     "output_type": "stream",
     "text": [
      "<console>:3: error: 'case' expected but identifier found.\n",
      "        ???\n",
      "        ^\n"
     ]
    }
   ],
   "source": [
    "def merge(xs: List[Int], ys: List[Int]): List[Int] ={\n",
    "    (xs, ys) match {\n",
    "        ???\n",
    "    }\n",
    "}"
   ]
  },
  {
   "cell_type": "code",
   "execution_count": null,
   "metadata": {},
   "outputs": [],
   "source": []
  }
 ],
 "metadata": {
  "kernelspec": {
   "display_name": "Spark",
   "language": "",
   "name": "sparkkernel"
  },
  "language_info": {
   "codemirror_mode": "text/x-scala",
   "mimetype": "text/x-scala",
   "name": "scala",
   "pygments_lexer": "scala"
  }
 },
 "nbformat": 4,
 "nbformat_minor": 2
}
