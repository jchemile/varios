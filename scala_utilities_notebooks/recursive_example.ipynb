{
 "cells": [
  {
   "cell_type": "code",
   "execution_count": 1,
   "metadata": {},
   "outputs": [
    {
     "name": "stdout",
     "output_type": "stream",
     "text": [
      "Starting Spark application\n"
     ]
    },
    {
     "data": {
      "text/html": [
       "<table>\n",
       "<tr><th>ID</th><th>YARN Application ID</th><th>Kind</th><th>State</th><th>Spark UI</th><th>Driver log</th><th>Current session?</th></tr><tr><td>127</td><td>application_1553135043314_0128</td><td>spark</td><td>idle</td><td><a target=\"_blank\" href=\"https://sparkmlb.azurehdinsight.net/yarnui/hn/proxy/application_1553135043314_0128/\">Link</a></td><td><a target=\"_blank\" href=\"http://wn3-sparkm.q33fbvhpxvyuni0y4g53g3xvyg.bx.internal.cloudapp.net:30060/node/containerlogs/container_e04_1553135043314_0128_01_000001/livy\">Link</a></td><td>✔</td></tr></table>"
      ],
      "text/plain": [
       "<IPython.core.display.HTML object>"
      ]
     },
     "metadata": {},
     "output_type": "display_data"
    },
    {
     "name": "stdout",
     "output_type": "stream",
     "text": [
      "SparkSession available as 'spark'.\n",
      "Start"
     ]
    }
   ],
   "source": [
    "println(\"Start\")"
   ]
  },
  {
   "cell_type": "markdown",
   "metadata": {},
   "source": [
    "Way to do a recursive Function. Code copy from: https://alvinalexander.com/scala/scala-recursion-examples-recursive-programming"
   ]
  },
  {
   "cell_type": "code",
   "execution_count": 4,
   "metadata": {},
   "outputs": [
    {
     "name": "stdout",
     "output_type": "stream",
     "text": [
      "lista: List[Int] = List(1, 2, 4, 5, 8)"
     ]
    }
   ],
   "source": [
    "val lista = List(1,2,4,5,8)"
   ]
  },
  {
   "cell_type": "code",
   "execution_count": 10,
   "metadata": {},
   "outputs": [
    {
     "name": "stdout",
     "output_type": "stream",
     "text": [
      "sum: (ints: List[Int])Int"
     ]
    }
   ],
   "source": [
    "def sum(ints: List[Int]): Int = ints match {\n",
    "    case Nil => 0\n",
    "    case x :: tail => x + sum(tail)\n",
    "}"
   ]
  },
  {
   "cell_type": "code",
   "execution_count": 12,
   "metadata": {},
   "outputs": [
    {
     "name": "stdout",
     "output_type": "stream",
     "text": [
      "sum2: (ints: List[Int])Int"
     ]
    }
   ],
   "source": [
    "def sum2(ints: List[Int]): Int = {\n",
    "    def sumAccumulator(ints: List[Int], accum: Int): Int = {\n",
    "        ints match {\n",
    "            case Nil => accum\n",
    "            case x :: tail => sumAccumulator(tail, accum + x)\n",
    "        }\n",
    "    }\n",
    "    sumAccumulator(ints, 0)\n",
    "}"
   ]
  },
  {
   "cell_type": "code",
   "execution_count": 13,
   "metadata": {},
   "outputs": [
    {
     "name": "stdout",
     "output_type": "stream",
     "text": [
      "sum3: (xs: List[Int])Int"
     ]
    }
   ],
   "source": [
    "def sum3(xs: List[Int]): Int = {\n",
    "    if (xs.isEmpty) 0\n",
    "    else xs.head + sum3(xs.tail)\n",
    "}"
   ]
  },
  {
   "cell_type": "code",
   "execution_count": 14,
   "metadata": {},
   "outputs": [
    {
     "name": "stdout",
     "output_type": "stream",
     "text": [
      "res6: Int = 20"
     ]
    }
   ],
   "source": [
    "sum(lista)"
   ]
  },
  {
   "cell_type": "code",
   "execution_count": 17,
   "metadata": {},
   "outputs": [
    {
     "name": "stdout",
     "output_type": "stream",
     "text": [
      "res9: Int = 20"
     ]
    }
   ],
   "source": [
    "sum2(lista)"
   ]
  },
  {
   "cell_type": "code",
   "execution_count": 18,
   "metadata": {},
   "outputs": [
    {
     "name": "stdout",
     "output_type": "stream",
     "text": [
      "res10: Int = 20"
     ]
    }
   ],
   "source": [
    "sum3(lista)"
   ]
  },
  {
   "cell_type": "code",
   "execution_count": 20,
   "metadata": {},
   "outputs": [
    {
     "name": "stdout",
     "output_type": "stream",
     "text": [
      "sumWithReduce: (ints: List[Int])Int"
     ]
    }
   ],
   "source": [
    "def sumWithReduce(ints: List[Int]) = {\n",
    "    ints.reduceLeft(_+_)\n",
    "}"
   ]
  },
  {
   "cell_type": "code",
   "execution_count": 21,
   "metadata": {},
   "outputs": [
    {
     "name": "stdout",
     "output_type": "stream",
     "text": [
      "res11: Int = 20"
     ]
    }
   ],
   "source": [
    "sumWithReduce(lista)"
   ]
  },
  {
   "cell_type": "code",
   "execution_count": null,
   "metadata": {},
   "outputs": [],
   "source": []
  }
 ],
 "metadata": {
  "kernelspec": {
   "display_name": "Spark",
   "language": "",
   "name": "sparkkernel"
  },
  "language_info": {
   "codemirror_mode": "text/x-scala",
   "mimetype": "text/x-scala",
   "name": "scala",
   "pygments_lexer": "scala"
  }
 },
 "nbformat": 4,
 "nbformat_minor": 2
}
