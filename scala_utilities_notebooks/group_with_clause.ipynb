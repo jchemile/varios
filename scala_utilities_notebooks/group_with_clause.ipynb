{
 "cells": [
  {
   "cell_type": "code",
   "execution_count": 1,
   "metadata": {},
   "outputs": [
    {
     "name": "stdout",
     "output_type": "stream",
     "text": [
      "Starting Spark application\n"
     ]
    },
    {
     "data": {
      "text/html": [
       "<table>\n",
       "<tr><th>ID</th><th>YARN Application ID</th><th>Kind</th><th>State</th><th>Spark UI</th><th>Driver log</th><th>Current session?</th></tr><tr><td>57</td><td>application_1553135043314_0058</td><td>spark</td><td>idle</td><td><a target=\"_blank\" href=\"https://sparkmlb.azurehdinsight.net/yarnui/hn/proxy/application_1553135043314_0058/\">Link</a></td><td><a target=\"_blank\" href=\"http://wn6-sparkm.q33fbvhpxvyuni0y4g53g3xvyg.bx.internal.cloudapp.net:30060/node/containerlogs/container_e04_1553135043314_0058_01_000001/livy\">Link</a></td><td>✔</td></tr></table>"
      ],
      "text/plain": [
       "<IPython.core.display.HTML object>"
      ]
     },
     "metadata": {},
     "output_type": "display_data"
    },
    {
     "name": "stdout",
     "output_type": "stream",
     "text": [
      "SparkSession available as 'spark'.\n",
      "res1: org.apache.spark.sql.SparkSession = org.apache.spark.sql.SparkSession@2d77cdd6"
     ]
    }
   ],
   "source": [
    "spark"
   ]
  },
  {
   "cell_type": "code",
   "execution_count": 2,
   "metadata": {},
   "outputs": [
    {
     "name": "stdout",
     "output_type": "stream",
     "text": [
      "a: org.apache.spark.sql.DataFrame = [dept_no: string, emp_name: string ... 2 more fields]"
     ]
    }
   ],
   "source": [
    "val a = Seq(\n",
    "            (\"10\", \"MILLER\", \"1300\", \"2017-11-03\"),\n",
    "            (\"30\", \"Martin\", \"1250\", \"2017-11-21\")\n",
    "           ).toDF(\"dept_no\",\"emp_name\",\"sal\",\"date\")"
   ]
  },
  {
   "cell_type": "code",
   "execution_count": 3,
   "metadata": {},
   "outputs": [
    {
     "name": "stdout",
     "output_type": "stream",
     "text": [
      "+-------+--------+----+----------+\n",
      "|dept_no|emp_name| sal|      date|\n",
      "+-------+--------+----+----------+\n",
      "|     10|  MILLER|1300|2017-11-03|\n",
      "|     30|  Martin|1250|2017-11-21|\n",
      "+-------+--------+----+----------+"
     ]
    }
   ],
   "source": [
    "a.show"
   ]
  },
  {
   "cell_type": "code",
   "execution_count": 4,
   "metadata": {},
   "outputs": [
    {
     "name": "stdout",
     "output_type": "stream",
     "text": [
      "lst: org.apache.spark.sql.DataFrame = [value: string]"
     ]
    }
   ],
   "source": [
    "val lst = List(\"10\", \"Susan\").toDF"
   ]
  },
  {
   "cell_type": "code",
   "execution_count": 6,
   "metadata": {},
   "outputs": [
    {
     "name": "stdout",
     "output_type": "stream",
     "text": [
      "import org.apache.spark.sql.Row"
     ]
    }
   ],
   "source": [
    "import org.apache.spark.sql.Row"
   ]
  },
  {
   "cell_type": "code",
   "execution_count": 7,
   "metadata": {},
   "outputs": [
    {
     "name": "stdout",
     "output_type": "stream",
     "text": [
      "solution: org.apache.spark.sql.DataFrame = [dept_no: string, emp_name: string ... 3 more fields]"
     ]
    }
   ],
   "source": [
    "val data = a.rdd.zip(lst.rdd).map { case (l, r) => Row.fromSeq(l.toSeq ++ r.toSeq) }\n",
    "import org.apache.spark.sql.types.StructType\n",
    "val schema = StructType(a.schema.fields ++ lst.schema.fields)\n",
    "val solution = spark.createDataFrame(data, schema)"
   ]
  },
  {
   "cell_type": "code",
   "execution_count": 8,
   "metadata": {},
   "outputs": [
    {
     "name": "stdout",
     "output_type": "stream",
     "text": [
      "+-------+--------+----+----------+-----+\n",
      "|dept_no|emp_name| sal|      date|value|\n",
      "+-------+--------+----+----------+-----+\n",
      "|     10|  MILLER|1300|2017-11-03|   10|\n",
      "|     30|  Martin|1250|2017-11-21|Susan|\n",
      "+-------+--------+----+----------+-----+"
     ]
    }
   ],
   "source": [
    "solution.show"
   ]
  },
  {
   "cell_type": "code",
   "execution_count": null,
   "metadata": {},
   "outputs": [],
   "source": []
  }
 ],
 "metadata": {
  "kernelspec": {
   "display_name": "Spark",
   "language": "",
   "name": "sparkkernel"
  },
  "language_info": {
   "codemirror_mode": "text/x-scala",
   "mimetype": "text/x-scala",
   "name": "scala",
   "pygments_lexer": "scala"
  }
 },
 "nbformat": 4,
 "nbformat_minor": 2
}
