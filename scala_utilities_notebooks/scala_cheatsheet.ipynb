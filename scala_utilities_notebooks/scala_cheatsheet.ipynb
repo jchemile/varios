{
 "cells": [
  {
   "cell_type": "code",
   "execution_count": 1,
   "metadata": {},
   "outputs": [
    {
     "name": "stdout",
     "output_type": "stream",
     "text": [
      "Starting Spark application\n"
     ]
    },
    {
     "data": {
      "text/html": [
       "<table>\n",
       "<tr><th>ID</th><th>YARN Application ID</th><th>Kind</th><th>State</th><th>Spark UI</th><th>Driver log</th><th>Current session?</th></tr><tr><td>52</td><td>application_1553135043314_0053</td><td>spark</td><td>idle</td><td><a target=\"_blank\" href=\"https://sparkmlb.azurehdinsight.net/yarnui/hn/proxy/application_1553135043314_0053/\">Link</a></td><td><a target=\"_blank\" href=\"http://wn0-sparkm.q33fbvhpxvyuni0y4g53g3xvyg.bx.internal.cloudapp.net:30060/node/containerlogs/container_e04_1553135043314_0053_01_000001/livy\">Link</a></td><td>✔</td></tr></table>"
      ],
      "text/plain": [
       "<IPython.core.display.HTML object>"
      ]
     },
     "metadata": {},
     "output_type": "display_data"
    },
    {
     "name": "stdout",
     "output_type": "stream",
     "text": [
      "SparkSession available as 'spark'.\n",
      "res1: org.apache.spark.sql.SparkSession = org.apache.spark.sql.SparkSession@15da30cc"
     ]
    }
   ],
   "source": [
    "spark"
   ]
  },
  {
   "cell_type": "markdown",
   "metadata": {},
   "source": [
    "Variables"
   ]
  },
  {
   "cell_type": "code",
   "execution_count": 4,
   "metadata": {},
   "outputs": [
    {
     "name": "stdout",
     "output_type": "stream",
     "text": [
      "example: Int"
     ]
    }
   ],
   "source": [
    "def example = 2 // evaluated when called"
   ]
  },
  {
   "cell_type": "code",
   "execution_count": 5,
   "metadata": {},
   "outputs": [
    {
     "name": "stdout",
     "output_type": "stream",
     "text": [
      "example: Int = 2"
     ]
    }
   ],
   "source": [
    "val example = 2 // evaluated inmmediatly"
   ]
  },
  {
   "cell_type": "code",
   "execution_count": 6,
   "metadata": {},
   "outputs": [
    {
     "name": "stdout",
     "output_type": "stream",
     "text": [
      "example: Int = <lazy>"
     ]
    }
   ],
   "source": [
    "lazy val example = 2 // evaluated when needed"
   ]
  },
  {
   "cell_type": "markdown",
   "metadata": {},
   "source": [
    "Functions"
   ]
  },
  {
   "cell_type": "code",
   "execution_count": 8,
   "metadata": {},
   "outputs": [
    {
     "name": "stdout",
     "output_type": "stream",
     "text": [
      "square: (x: Double)Unit"
     ]
    }
   ],
   "source": [
    "def square(x: Double) = {} //call by value"
   ]
  },
  {
   "cell_type": "code",
   "execution_count": 9,
   "metadata": {},
   "outputs": [
    {
     "name": "stdout",
     "output_type": "stream",
     "text": [
      "square: (x: => Double)Unit"
     ]
    }
   ],
   "source": [
    "def square(x: => Double) = {} //call by name"
   ]
  },
  {
   "cell_type": "code",
   "execution_count": 10,
   "metadata": {},
   "outputs": [
    {
     "name": "stdout",
     "output_type": "stream",
     "text": [
      "myFct: (bindings: Int*)Unit"
     ]
    }
   ],
   "source": [
    "def myFct(bindings: Int*) = {} // Bindings is a sequences of int, containing a  varying # of arguments"
   ]
  },
  {
   "cell_type": "markdown",
   "metadata": {},
   "source": [
    "Higher order functions - There are functions that take a function as a parameter or return function"
   ]
  },
  {
   "cell_type": "code",
   "execution_count": 13,
   "metadata": {},
   "outputs": [
    {
     "name": "stderr",
     "output_type": "stream",
     "text": [
      "<console>:3: error: illegal start of statement\n",
      "  def sumf(a: Int, b: Int): Int = {...}\n",
      "                                   ^\n"
     ]
    }
   ],
   "source": [
    "//Sum() return a function thatn takes two integers and return an integer\n",
    "def sum(f: Int => Int): (Int, Int) => Int = {  \n",
    "  def sumf(a: Int, b: Int): Int = {...}  \n",
    "  sumf  \n",
    "} "
   ]
  },
  {
   "cell_type": "code",
   "execution_count": 14,
   "metadata": {},
   "outputs": [
    {
     "name": "stderr",
     "output_type": "stream",
     "text": [
      "<console>:24: error: type mismatch;\n",
      " found   : Unit\n",
      " required: Int\n",
      "       def sum(f: Int => Int)(a:Int, b:Int): Int = {}\n",
      "                                                   ^\n"
     ]
    }
   ],
   "source": [
    "//same as above. Its type is (Int => Int) => (Int, Int) => Int\n",
    "def sum(f: Int => Int)(a:Int, b:Int): Int = {}"
   ]
  },
  {
   "cell_type": "markdown",
   "metadata": {},
   "source": [
    "# Collections in Scala"
   ]
  },
  {
   "cell_type": "markdown",
   "metadata": {},
   "source": [
    "List"
   ]
  },
  {
   "cell_type": "code",
   "execution_count": 23,
   "metadata": {},
   "outputs": [
    {
     "name": "stdout",
     "output_type": "stream",
     "text": [
      "fruitList: List[String] = List(apples, Oranges, pears)"
     ]
    }
   ],
   "source": [
    "val fruitList = List(\"apples\", \"Oranges\", \"pears\")"
   ]
  },
  {
   "cell_type": "code",
   "execution_count": 18,
   "metadata": {},
   "outputs": [
    {
     "name": "stdout",
     "output_type": "stream",
     "text": [
      "fruit: List[String] = List(apples, oranges, pears)"
     ]
    }
   ],
   "source": [
    "val fruit = \"apples\" :: (\"oranges\":: (\"pears\":: Nil))"
   ]
  },
  {
   "cell_type": "code",
   "execution_count": 19,
   "metadata": {},
   "outputs": [
    {
     "name": "stdout",
     "output_type": "stream",
     "text": [
      "res7: String = apples"
     ]
    }
   ],
   "source": [
    "fruit.head"
   ]
  },
  {
   "cell_type": "code",
   "execution_count": 20,
   "metadata": {},
   "outputs": [
    {
     "name": "stdout",
     "output_type": "stream",
     "text": [
      "res8: List[String] = List(oranges, pears)"
     ]
    }
   ],
   "source": [
    "fruit.tail"
   ]
  },
  {
   "cell_type": "code",
   "execution_count": 21,
   "metadata": {},
   "outputs": [
    {
     "name": "stdout",
     "output_type": "stream",
     "text": [
      "empty: List[Nothing] = List()"
     ]
    }
   ],
   "source": [
    "val empty = List()"
   ]
  },
  {
   "cell_type": "code",
   "execution_count": 22,
   "metadata": {},
   "outputs": [
    {
     "name": "stdout",
     "output_type": "stream",
     "text": [
      "empty: scala.collection.immutable.Nil.type = List()"
     ]
    }
   ],
   "source": [
    "val empty = Nil"
   ]
  },
  {
   "cell_type": "markdown",
   "metadata": {},
   "source": [
    "Vector"
   ]
  },
  {
   "cell_type": "markdown",
   "metadata": {},
   "source": [
    "https://www.coursera.org/learn/progfun1/supplement/Sauv3/cheat-sheet"
   ]
  },
  {
   "cell_type": "code",
   "execution_count": null,
   "metadata": {},
   "outputs": [],
   "source": []
  }
 ],
 "metadata": {
  "kernelspec": {
   "display_name": "Spark",
   "language": "",
   "name": "sparkkernel"
  },
  "language_info": {
   "codemirror_mode": "text/x-scala",
   "mimetype": "text/x-scala",
   "name": "scala",
   "pygments_lexer": "scala"
  }
 },
 "nbformat": 4,
 "nbformat_minor": 2
}
