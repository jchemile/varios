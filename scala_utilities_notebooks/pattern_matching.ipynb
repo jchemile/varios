{
 "cells": [
  {
   "cell_type": "code",
   "execution_count": 1,
   "metadata": {},
   "outputs": [
    {
     "name": "stdout",
     "output_type": "stream",
     "text": [
      "Starting Spark application\n"
     ]
    },
    {
     "data": {
      "text/html": [
       "<table>\n",
       "<tr><th>ID</th><th>YARN Application ID</th><th>Kind</th><th>State</th><th>Spark UI</th><th>Driver log</th><th>Current session?</th></tr><tr><td>138</td><td>application_1553135043314_0139</td><td>spark</td><td>idle</td><td><a target=\"_blank\" href=\"https://sparkmlb.azurehdinsight.net/yarnui/hn/proxy/application_1553135043314_0139/\">Link</a></td><td><a target=\"_blank\" href=\"http://wn7-sparkm.q33fbvhpxvyuni0y4g53g3xvyg.bx.internal.cloudapp.net:30060/node/containerlogs/container_e04_1553135043314_0139_01_000001/livy\">Link</a></td><td>✔</td></tr></table>"
      ],
      "text/plain": [
       "<IPython.core.display.HTML object>"
      ]
     },
     "metadata": {},
     "output_type": "display_data"
    },
    {
     "name": "stdout",
     "output_type": "stream",
     "text": [
      "SparkSession available as 'spark'.\n",
      "Start"
     ]
    }
   ],
   "source": [
    "println(\"Start\")"
   ]
  },
  {
   "cell_type": "markdown",
   "metadata": {},
   "source": [
    "# Pattern Matching"
   ]
  },
  {
   "cell_type": "markdown",
   "metadata": {},
   "source": [
    "Patter Matching is using in, some way, a replace for a switch in some language. But have the possibility to make\n",
    "complex patter matching, for example, adding conditional statements."
   ]
  },
  {
   "cell_type": "markdown",
   "metadata": {},
   "source": [
    "In Scala the patter matching can include types, wildcards, sequences, regular expressions, even a deep inspection of an object's state."
   ]
  },
  {
   "cell_type": "markdown",
   "metadata": {},
   "source": [
    "### Flypping a coin"
   ]
  },
  {
   "cell_type": "code",
   "execution_count": 3,
   "metadata": {},
   "outputs": [
    {
     "name": "stdout",
     "output_type": "stream",
     "text": [
      "bools: Seq[Boolean] = List(true, false)"
     ]
    }
   ],
   "source": [
    "val bools = Seq(true, false)"
   ]
  },
  {
   "cell_type": "code",
   "execution_count": 6,
   "metadata": {},
   "outputs": [
    {
     "name": "stdout",
     "output_type": "stream",
     "text": [
      "Got heads\n",
      "Got tails"
     ]
    }
   ],
   "source": [
    "for (bool <- bools){\n",
    "    bool match {\n",
    "        case true => println(\"Got heads\")\n",
    "        case false => println(\"Got tails\")\n",
    "    }\n",
    "}"
   ]
  },
  {
   "cell_type": "markdown",
   "metadata": {},
   "source": [
    "From the type of the list the compiler knows that there are two possible case: __true__ and __false__. So, if the match is not exhaustive you'll receive an error."
   ]
  },
  {
   "cell_type": "code",
   "execution_count": 7,
   "metadata": {},
   "outputs": [
    {
     "name": "stderr",
     "output_type": "stream",
     "text": [
      "<console>:27: warning: match may not be exhaustive.\n",
      "It would fail on the following input: false\n",
      "           bool match {\n",
      "           ^\n",
      "Got heads\n",
      "scala.MatchError: false (of class java.lang.Boolean)\n",
      "  at $anonfun$1.apply(<console>:27)\n",
      "  at $anonfun$1.apply(<console>:26)\n",
      "  at scala.collection.immutable.List.foreach(List.scala:381)\n",
      "  ... 50 elided\n"
     ]
    }
   ],
   "source": [
    "for (bool <- bools){\n",
    "    bool match {\n",
    "        case true => println(\"Got heads\")\n",
    "        //case false => println(\"Got tails\")\n",
    "    }\n",
    "}"
   ]
  },
  {
   "cell_type": "markdown",
   "metadata": {},
   "source": [
    "### Match on a Specific Type"
   ]
  },
  {
   "cell_type": "code",
   "execution_count": 9,
   "metadata": {},
   "outputs": [
    {
     "name": "stdout",
     "output_type": "stream",
     "text": [
      "int 1\n",
      "other int: 2\n",
      "a double: 2.7\n",
      "string one\n",
      "other string: two\n",
      "unexpected value: 'four"
     ]
    }
   ],
   "source": [
    "for {\n",
    "    x <- Seq(1, 2, 2.7, \"one\",  \"two\", 'four)\n",
    "}{\n",
    "    val str = x match {\n",
    "        case 1           => \"int 1\"\n",
    "        case i: Int      => \"other int: \" + i\n",
    "        case d: Double   => \"a double: \" + x\n",
    "        case \"one\"       => \"string one\"\n",
    "        case s: String   => \"other string: \" + s\n",
    "        case unexpected  => \"unexpected value: \" + unexpected\n",
    "    }\n",
    "    println(str)\n",
    "}"
   ]
  },
  {
   "cell_type": "markdown",
   "metadata": {},
   "source": [
    "The compiler assumes that a term that start with __capital letter__ is a __type name__, while a term that begins with a __lowercase letter__ is assumed to be the __name of the variable__"
   ]
  },
  {
   "cell_type": "code",
   "execution_count": 10,
   "metadata": {},
   "outputs": [
    {
     "name": "stdout",
     "output_type": "stream",
     "text": [
      "<console>:28: warning: patterns after a variable pattern cannot match (SLS 8.1.1)\n",
      "If you intended to match against parameter y of method checkY, you must use backticks, like: case `y` =>\n",
      "                   case y => \"found y!\"\n",
      "                        ^\n",
      "<console>:29: warning: unreachable code due to variable pattern 'y' on line 28\n",
      "                   case i: Int => \"int: \" + i\n",
      "                                          ^\n",
      "<console>:29: warning: unreachable code\n",
      "                   case i: Int => \"int: \" + i\n",
      "                                          ^\n",
      "checkY: (y: Int)Unit"
     ]
    }
   ],
   "source": [
    "def checkY(y: Int) = {\n",
    "    for {\n",
    "        x <- Seq(99, 100, 101)\n",
    "    } {\n",
    "        val str = x match {\n",
    "            case y => \"found y!\"\n",
    "            case i: Int => \"int: \" + i\n",
    "        }\n",
    "        println(str)\n",
    "    }\n",
    "}"
   ]
  },
  {
   "cell_type": "markdown",
   "metadata": {},
   "source": [
    "Continue here: https://www.oreilly.com/library/view/programming-scala-2nd/9781491950135/ch04.html"
   ]
  },
  {
   "cell_type": "code",
   "execution_count": null,
   "metadata": {},
   "outputs": [],
   "source": []
  },
  {
   "cell_type": "markdown",
   "metadata": {},
   "source": [
    "Combine two lists in an alternating fashion"
   ]
  },
  {
   "cell_type": "code",
   "execution_count": null,
   "metadata": {},
   "outputs": [],
   "source": [
    "val list1 = List(\"Mary\", \"a\", \"lamb\")\n",
    "val list2 = List(\"had\", \"little\")"
   ]
  },
  {
   "cell_type": "code",
   "execution_count": null,
   "metadata": {},
   "outputs": [],
   "source": [
    "def intersperse[A](a : List[A], b : List[A]): List[A] = a match {\n",
    "  case first :: rest => first :: intersperse(b, rest)\n",
    "  case _             => b\n",
    "}"
   ]
  },
  {
   "cell_type": "markdown",
   "metadata": {},
   "source": [
    "Normal Patter Matching"
   ]
  },
  {
   "cell_type": "code",
   "execution_count": null,
   "metadata": {},
   "outputs": [],
   "source": [
    "def matchTest(x: Int): String = x match {\n",
    "  case 1 => \"one\"\n",
    "  case 2 => \"two\"\n",
    "  case _ => \"many\"\n",
    "}"
   ]
  },
  {
   "cell_type": "code",
   "execution_count": null,
   "metadata": {},
   "outputs": [],
   "source": [
    "println(matchTest(3))"
   ]
  },
  {
   "cell_type": "code",
   "execution_count": null,
   "metadata": {},
   "outputs": [],
   "source": [
    "println(matchTest(1))"
   ]
  },
  {
   "cell_type": "markdown",
   "metadata": {},
   "source": [
    "Patter Matching with a tupple."
   ]
  },
  {
   "cell_type": "code",
   "execution_count": null,
   "metadata": {},
   "outputs": [],
   "source": [
    "def matchTest2((Int, Int): String = x match {\n",
    "  case (1,_) => \"one\"\n",
    "  case (2,_) => \"two\"\n",
    "  case _ => \"many\"\n",
    "}"
   ]
  },
  {
   "cell_type": "code",
   "execution_count": null,
   "metadata": {},
   "outputs": [],
   "source": [
    "_"
   ]
  }
 ],
 "metadata": {
  "kernelspec": {
   "display_name": "Spark",
   "language": "",
   "name": "sparkkernel"
  },
  "language_info": {
   "codemirror_mode": "text/x-scala",
   "mimetype": "text/x-scala",
   "name": "scala",
   "pygments_lexer": "scala"
  }
 },
 "nbformat": 4,
 "nbformat_minor": 2
}
