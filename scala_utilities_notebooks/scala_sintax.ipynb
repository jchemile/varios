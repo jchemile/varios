{
 "cells": [
  {
   "cell_type": "code",
   "execution_count": 1,
   "metadata": {},
   "outputs": [
    {
     "name": "stdout",
     "output_type": "stream",
     "text": [
      "Starting Spark application\n"
     ]
    },
    {
     "data": {
      "text/html": [
       "<table>\n",
       "<tr><th>ID</th><th>YARN Application ID</th><th>Kind</th><th>State</th><th>Spark UI</th><th>Driver log</th><th>Current session?</th></tr><tr><td>28</td><td>application_1553135043314_0029</td><td>spark</td><td>idle</td><td><a target=\"_blank\" href=\"https://sparkmlb.azurehdinsight.net/yarnui/hn/proxy/application_1553135043314_0029/\">Link</a></td><td><a target=\"_blank\" href=\"http://wn9-sparkm.q33fbvhpxvyuni0y4g53g3xvyg.bx.internal.cloudapp.net:30060/node/containerlogs/container_e04_1553135043314_0029_01_000001/livy\">Link</a></td><td>✔</td></tr></table>"
      ],
      "text/plain": [
       "<IPython.core.display.HTML object>"
      ]
     },
     "metadata": {},
     "output_type": "display_data"
    },
    {
     "name": "stdout",
     "output_type": "stream",
     "text": [
      "SparkSession available as 'spark'.\n",
      "defined object StartSpark"
     ]
    }
   ],
   "source": [
    "object StartSpark{\n",
    "    def main(args: Array[String]){\n",
    "        \n",
    "    }\n",
    "}"
   ]
  },
  {
   "cell_type": "markdown",
   "metadata": {},
   "source": [
    "Tutorial: https://www.journaldev.com/7444/introduction-to-scala-programming-language"
   ]
  },
  {
   "cell_type": "markdown",
   "metadata": {},
   "source": [
    "# Scala Sintax"
   ]
  },
  {
   "cell_type": "markdown",
   "metadata": {},
   "source": [
    "First Object "
   ]
  },
  {
   "cell_type": "code",
   "execution_count": 2,
   "metadata": {},
   "outputs": [
    {
     "name": "stdout",
     "output_type": "stream",
     "text": [
      "defined object HelloWorld"
     ]
    }
   ],
   "source": [
    "object HelloWorld{\n",
    "    def main(args: Array[String]){\n",
    "        println(\"Hello World!!\")\n",
    "    }\n",
    "}"
   ]
  },
  {
   "cell_type": "code",
   "execution_count": 3,
   "metadata": {},
   "outputs": [
    {
     "name": "stdout",
     "output_type": "stream",
     "text": [
      "Hello World!!"
     ]
    }
   ],
   "source": [
    "HelloWorld.main(null)"
   ]
  },
  {
   "cell_type": "markdown",
   "metadata": {},
   "source": [
    "Class"
   ]
  },
  {
   "cell_type": "markdown",
   "metadata": {},
   "source": [
    "Class and Object in Scala: https://stackoverflow.com/questions/1755345/difference-between-object-and-class-in-scala"
   ]
  },
  {
   "cell_type": "code",
   "execution_count": 6,
   "metadata": {},
   "outputs": [
    {
     "name": "stdout",
     "output_type": "stream",
     "text": [
      "defined class Student"
     ]
    }
   ],
   "source": [
    "class Student(){\n",
    "    var total:Int = 0\n",
    "    def calculateTotal(ma1:Int,ma2:Int){\n",
    "        total = ma1 + ma2 \n",
    "    }\n",
    "    override def toString(): String = \"(\"+ total +\")\"\n",
    "}"
   ]
  },
  {
   "cell_type": "markdown",
   "metadata": {},
   "source": [
    "Create an object of the student Class"
   ]
  },
  {
   "cell_type": "code",
   "execution_count": 13,
   "metadata": {},
   "outputs": [
    {
     "name": "stdout",
     "output_type": "stream",
     "text": [
      "defined object test_student"
     ]
    }
   ],
   "source": [
    "object test_student{\n",
    "    def main(args:Array[String]){\n",
    "        val totalMarks = new Student()\n",
    "        totalMarks.calculateTotal(55,60)\n",
    "        println(\"Grand Total Marks: \" + totalMarks)\n",
    "    }\n",
    "}"
   ]
  },
  {
   "cell_type": "markdown",
   "metadata": {},
   "source": [
    "Call the student Created"
   ]
  },
  {
   "cell_type": "code",
   "execution_count": 14,
   "metadata": {},
   "outputs": [
    {
     "name": "stdout",
     "output_type": "stream",
     "text": [
      "Grand Total Marks: (115)"
     ]
    }
   ],
   "source": [
    "test_student.main(null)"
   ]
  },
  {
   "cell_type": "markdown",
   "metadata": {},
   "source": [
    "Singleton Objects in Scala"
   ]
  },
  {
   "cell_type": "code",
   "execution_count": 18,
   "metadata": {},
   "outputs": [
    {
     "name": "stdout",
     "output_type": "stream",
     "text": [
      "defined object Test"
     ]
    }
   ],
   "source": [
    "object Test{\n",
    "    def say(){\n",
    "        println(\"Hi, this is a test\")\n",
    "    }\n",
    "}"
   ]
  },
  {
   "cell_type": "code",
   "execution_count": 19,
   "metadata": {},
   "outputs": [
    {
     "name": "stdout",
     "output_type": "stream",
     "text": [
      "Hi, this is a test"
     ]
    }
   ],
   "source": [
    "Test.say()"
   ]
  },
  {
   "cell_type": "markdown",
   "metadata": {},
   "source": [
    "Random Code"
   ]
  },
  {
   "cell_type": "code",
   "execution_count": null,
   "metadata": {},
   "outputs": [],
   "source": [
    "https://www.journaldev.com/7578/scala-data-types-example-tutorial"
   ]
  },
  {
   "cell_type": "code",
   "execution_count": null,
   "metadata": {},
   "outputs": [],
   "source": [
    "def f(x: Any) = println(x)"
   ]
  },
  {
   "cell_type": "code",
   "execution_count": null,
   "metadata": {},
   "outputs": [],
   "source": [
    "f(\"Hola\")"
   ]
  },
  {
   "cell_type": "code",
   "execution_count": null,
   "metadata": {},
   "outputs": [],
   "source": [
    "println(\"Step 1: How to initialize a sequence of donut prices\")"
   ]
  },
  {
   "cell_type": "code",
   "execution_count": null,
   "metadata": {},
   "outputs": [],
   "source": [
    "val prices: Seq[Double] = Seq(1.5, 2.0, 2.5)\n",
    "println(s\"Donut prices = $prices\")"
   ]
  },
  {
   "cell_type": "code",
   "execution_count": null,
   "metadata": {},
   "outputs": [],
   "source": [
    "var x = 0\n",
    "while(x < 10){\n",
    "    println(\"Hello, world!\", x)\n",
    "    x = x + 1\n",
    "}"
   ]
  },
  {
   "cell_type": "code",
   "execution_count": null,
   "metadata": {},
   "outputs": [],
   "source": []
  }
 ],
 "metadata": {
  "kernelspec": {
   "display_name": "Spark",
   "language": "",
   "name": "sparkkernel"
  },
  "language_info": {
   "codemirror_mode": "text/x-scala",
   "mimetype": "text/x-scala",
   "name": "scala",
   "pygments_lexer": "scala"
  }
 },
 "nbformat": 4,
 "nbformat_minor": 2
}
