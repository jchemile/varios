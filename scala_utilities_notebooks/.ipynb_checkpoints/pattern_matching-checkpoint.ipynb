{
 "cells": [
  {
   "cell_type": "code",
   "execution_count": 2,
   "metadata": {},
   "outputs": [
    {
     "name": "stdout",
     "output_type": "stream",
     "text": [
      "Start\n"
     ]
    }
   ],
   "source": [
    "println(\"Start\")"
   ]
  },
  {
   "cell_type": "markdown",
   "metadata": {},
   "source": [
    "Write Function that take marks and return the GPA (Grade Point Average). <br>\n",
    "Using __Patter Matching__"
   ]
  },
  {
   "cell_type": "code",
   "execution_count": 3,
   "metadata": {},
   "outputs": [
    {
     "data": {
      "text/plain": [
       "convertor_1: (marks: Int)Int\r\n"
      ]
     },
     "execution_count": 3,
     "metadata": {},
     "output_type": "execute_result"
    }
   ],
   "source": [
    "def convertor_1(marks:Int): Int = marks match {\n",
    "    case _ if marks < 50 => 0\n",
    "    case _ if marks >= 50 && marks < 58 => 1\n",
    "    case _ if marks >= 58 && marks < 70 => 2\n",
    "    case _ if marks >= 70 && marks < 85 => 3\n",
    "    case _ if marks >= 85 => 4\n",
    " }"
   ]
  },
  {
   "cell_type": "code",
   "execution_count": 4,
   "metadata": {},
   "outputs": [
    {
     "name": "stdout",
     "output_type": "stream",
     "text": [
      "Mark: 0. Have a GPA: 0\n",
      "Mark: 10. Have a GPA: 0\n",
      "Mark: 20. Have a GPA: 0\n",
      "Mark: 30. Have a GPA: 0\n",
      "Mark: 40. Have a GPA: 0\n",
      "Mark: 50. Have a GPA: 1\n",
      "Mark: 60. Have a GPA: 2\n",
      "Mark: 70. Have a GPA: 3\n",
      "Mark: 80. Have a GPA: 3\n",
      "Mark: 90. Have a GPA: 4\n"
     ]
    },
    {
     "data": {
      "text/plain": [
       "count: Int = 100\r\n"
      ]
     },
     "execution_count": 4,
     "metadata": {},
     "output_type": "execute_result"
    }
   ],
   "source": [
    "var count = 0\n",
    "while(count < 100){\n",
    "    println(\"Mark: \" + count + \". Have a GPA: \" + convertor_1(count))\n",
    "    count = count + 10\n",
    "}"
   ]
  },
  {
   "cell_type": "code",
   "execution_count": 5,
   "metadata": {},
   "outputs": [
    {
     "data": {
      "text/plain": [
       "convertor: (marks: Int)Int\r\n"
      ]
     },
     "execution_count": 5,
     "metadata": {},
     "output_type": "execute_result"
    }
   ],
   "source": [
    "def convertor(marks : Int) : Int =\n",
    "  Seq(50, 58, 70, 85, Int.MaxValue).indexWhere(marks < _)"
   ]
  },
  {
   "cell_type": "code",
   "execution_count": 10,
   "metadata": {},
   "outputs": [
    {
     "name": "stdout",
     "output_type": "stream",
     "text": [
      "Mark: 0. Have a GPA: 0\n",
      "Mark: 10. Have a GPA: 0\n",
      "Mark: 20. Have a GPA: 0\n",
      "Mark: 30. Have a GPA: 0\n",
      "Mark: 40. Have a GPA: 0\n",
      "Mark: 50. Have a GPA: 1\n",
      "Mark: 60. Have a GPA: 2\n",
      "Mark: 70. Have a GPA: 3\n",
      "Mark: 80. Have a GPA: 3\n",
      "Mark: 90. Have a GPA: 4\n"
     ]
    },
    {
     "data": {
      "text/plain": [
       "count: Int = 100\r\n"
      ]
     },
     "execution_count": 10,
     "metadata": {},
     "output_type": "execute_result"
    }
   ],
   "source": [
    "var count = 0\n",
    "do {\n",
    "    println(\"Mark: \" + count + \". Have a GPA: \" + convertor(count))\n",
    "    count = count + 10\n",
    "} while(count < 100)"
   ]
  },
  {
   "cell_type": "code",
   "execution_count": null,
   "metadata": {},
   "outputs": [],
   "source": []
  }
 ],
 "metadata": {
  "kernelspec": {
   "display_name": "spylon-kernel",
   "language": "scala",
   "name": "spylon-kernel"
  },
  "language_info": {
   "codemirror_mode": "text/x-scala",
   "file_extension": ".scala",
   "help_links": [
    {
     "text": "MetaKernel Magics",
     "url": "https://github.com/calysto/metakernel/blob/master/metakernel/magics/README.md"
    }
   ],
   "mimetype": "text/x-scala",
   "name": "scala",
   "pygments_lexer": "scala",
   "version": "0.4.1"
  }
 },
 "nbformat": 4,
 "nbformat_minor": 2
}
