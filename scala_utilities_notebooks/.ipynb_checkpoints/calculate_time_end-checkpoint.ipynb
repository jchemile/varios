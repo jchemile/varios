{
 "cells": [
  {
   "cell_type": "code",
   "execution_count": 1,
   "metadata": {},
   "outputs": [
    {
     "data": {
      "text/plain": [
       "Intitializing Scala interpreter ..."
      ]
     },
     "metadata": {},
     "output_type": "display_data"
    },
    {
     "data": {
      "text/plain": [
       "Spark Web UI available at http://DESKTOP-AJ0MJTE:4040\n",
       "SparkContext available as 'sc' (version = 2.4.2, master = local[*], app id = local-1557681959063)\n",
       "SparkSession available as 'spark'\n"
      ]
     },
     "metadata": {},
     "output_type": "display_data"
    },
    {
     "name": "stdout",
     "output_type": "stream",
     "text": [
      "Start\n"
     ]
    }
   ],
   "source": [
    "println(\"Start\")"
   ]
  },
  {
   "cell_type": "code",
   "execution_count": 2,
   "metadata": {},
   "outputs": [
    {
     "data": {
      "text/plain": [
       "import org.apache.spark.sql.functions._\r\n",
       "import org.apache.spark.sql.expressions.Window\r\n",
       "import spark.implicits._\r\n"
      ]
     },
     "execution_count": 2,
     "metadata": {},
     "output_type": "execute_result"
    }
   ],
   "source": [
    "import org.apache.spark.sql.functions._\n",
    "import org.apache.spark.sql.expressions.Window\n",
    "import spark.implicits._"
   ]
  },
  {
   "cell_type": "code",
   "execution_count": 3,
   "metadata": {},
   "outputs": [
    {
     "data": {
      "text/plain": [
       "df: org.apache.spark.sql.DataFrame = [event_id: int, event_time: string ... 1 more field]\r\n"
      ]
     },
     "execution_count": 3,
     "metadata": {},
     "output_type": "execute_result"
    }
   ],
   "source": [
    "val df = Seq(\n",
    "  (101, \"2019-04-01 09:00\", 800),\n",
    "  (101, \"2019-04-01 09:30\", 1800),\n",
    "  (101, \"2019-04-01 10:00\", 2700),\n",
    "  (101, \"2019-04-01 12:00\", 1000),\n",
    "  (101, \"2019-04-01 13:00\", 1000),\n",
    "  (220, \"2019-04-02 10:00\", 1500),\n",
    "  (220, \"2019-04-02 10:30\", 2400)\n",
    ").toDF(\"event_id\", \"event_time\", \"event_duration\")"
   ]
  },
  {
   "cell_type": "code",
   "execution_count": 4,
   "metadata": {},
   "outputs": [
    {
     "name": "stdout",
     "output_type": "stream",
     "text": [
      "+--------+----------------+--------------+\n",
      "|event_id|      event_time|event_duration|\n",
      "+--------+----------------+--------------+\n",
      "|     101|2019-04-01 09:00|           800|\n",
      "|     101|2019-04-01 09:30|          1800|\n",
      "|     101|2019-04-01 10:00|          2700|\n",
      "|     101|2019-04-01 12:00|          1000|\n",
      "|     101|2019-04-01 13:00|          1000|\n",
      "|     220|2019-04-02 10:00|          1500|\n",
      "|     220|2019-04-02 10:30|          2400|\n",
      "+--------+----------------+--------------+\n",
      "\n"
     ]
    }
   ],
   "source": [
    "df.show"
   ]
  },
  {
   "cell_type": "markdown",
   "metadata": {},
   "source": [
    "https://stackoverflow.com/questions/55697170/spark-calculate-event-end-time-on-30-minute-intervals-based-on-start-time-and-d"
   ]
  },
  {
   "cell_type": "markdown",
   "metadata": {},
   "source": [
    "Create a UDF to compute the next closest 30-minute event end-time event_ts_end using the java.time API"
   ]
  },
  {
   "cell_type": "markdown",
   "metadata": {},
   "source": [
    "Use Window function lag for event time from previous row"
   ]
  },
  {
   "cell_type": "markdown",
   "metadata": {},
   "source": [
    "Use when/otherwise to generate column event_ts_start with a null value if the event time difference from the previous row is 30 minutes"
   ]
  },
  {
   "cell_type": "markdown",
   "metadata": {},
   "source": [
    "Use Window function last(event_ts_start, ignoreNulls=true) to backfill nulls with the last event_ts_start value"
   ]
  },
  {
   "cell_type": "markdown",
   "metadata": {},
   "source": [
    "Group data by event_ts_start to aggregate event_duration and event_ts_end"
   ]
  },
  {
   "cell_type": "code",
   "execution_count": null,
   "metadata": {},
   "outputs": [],
   "source": []
  }
 ],
 "metadata": {
  "kernelspec": {
   "display_name": "spylon-kernel",
   "language": "scala",
   "name": "spylon-kernel"
  },
  "language_info": {
   "codemirror_mode": "text/x-scala",
   "file_extension": ".scala",
   "help_links": [
    {
     "text": "MetaKernel Magics",
     "url": "https://github.com/calysto/metakernel/blob/master/metakernel/magics/README.md"
    }
   ],
   "mimetype": "text/x-scala",
   "name": "scala",
   "pygments_lexer": "scala",
   "version": "0.4.1"
  }
 },
 "nbformat": 4,
 "nbformat_minor": 2
}
