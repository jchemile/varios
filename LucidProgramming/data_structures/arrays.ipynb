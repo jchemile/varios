{
 "cells": [
  {
   "cell_type": "code",
   "execution_count": 1,
   "metadata": {},
   "outputs": [],
   "source": [
    "#ARRAY 1: Array Advance"
   ]
  },
  {
   "cell_type": "code",
   "execution_count": 2,
   "metadata": {},
   "outputs": [],
   "source": [
    "def array_advance(A):\n",
    "    furthest_reached = 0\n",
    "    last_idx = len(A) - 1\n",
    "    i = 0\n",
    "    while i <= furthest_reached and furthest_reached < last_idx:\n",
    "        furthest_reached = max(furthest_reached, A[i] + i)\n",
    "        i+=1\n",
    "    return furthest_reached >= last_idx"
   ]
  },
  {
   "cell_type": "code",
   "execution_count": 3,
   "metadata": {},
   "outputs": [],
   "source": [
    "A1 = [3,3,1,0,2,0,1]\n",
    "A2 = [3,2,0,0,2,0,1]"
   ]
  },
  {
   "cell_type": "code",
   "execution_count": 4,
   "metadata": {},
   "outputs": [
    {
     "name": "stdout",
     "output_type": "stream",
     "text": [
      "True\n",
      "False\n"
     ]
    }
   ],
   "source": [
    "print(array_advance(A1))\n",
    "print(array_advance(A2))"
   ]
  },
  {
   "cell_type": "code",
   "execution_count": 5,
   "metadata": {},
   "outputs": [],
   "source": [
    "#ARRAY 2: Arbitrary Precision Increment"
   ]
  },
  {
   "cell_type": "code",
   "execution_count": 6,
   "metadata": {},
   "outputs": [],
   "source": [
    "def plus_one(A):\n",
    "    A[-1] += 1\n",
    "    for i in reversed(range(1,len(A))):\n",
    "        if A[i] != 10:\n",
    "            break\n",
    "        A[i] = 0\n",
    "        A[i-1] +=1\n",
    "    if A[0] == 10:\n",
    "        A[0] = 1\n",
    "        A.append(0)\n",
    "    return A"
   ]
  },
  {
   "cell_type": "code",
   "execution_count": 7,
   "metadata": {},
   "outputs": [],
   "source": [
    "A1 = [1,4,9]\n",
    "A2 = [9,9,9]"
   ]
  },
  {
   "cell_type": "code",
   "execution_count": 8,
   "metadata": {},
   "outputs": [
    {
     "name": "stdout",
     "output_type": "stream",
     "text": [
      "[1, 5, 0]\n",
      "[1, 0, 0, 0]\n"
     ]
    }
   ],
   "source": [
    "print(plus_one(A1))\n",
    "print(plus_one(A2))"
   ]
  },
  {
   "cell_type": "code",
   "execution_count": 9,
   "metadata": {},
   "outputs": [],
   "source": [
    "#ARRAY 3 - Two Sum Problem\n",
    "#Given a sorted array of integers. Return the two numbers such that\n",
    "#they add up to a specific target. You may assume that each input\n",
    "#would have exactly one solution, and you may not use the same element twice"
   ]
  },
  {
   "cell_type": "code",
   "execution_count": 10,
   "metadata": {},
   "outputs": [],
   "source": [
    "A = [-2,1,2,4,7,11]\n",
    "target = 13"
   ]
  },
  {
   "cell_type": "code",
   "execution_count": 11,
   "metadata": {},
   "outputs": [],
   "source": [
    "#Force approach - \n",
    "#Time Complexity: O(n^2)\n",
    "#Space Complexity: O(1)\n",
    "def two_sum_brute_force(A, target):\n",
    "    for i in range(len(A)-1):\n",
    "        for j in range(i+1, len(A)):\n",
    "            if A[i] + A[j] == target:\n",
    "                print(A[i], \" \" ,A[j])\n",
    "                return True;\n",
    "    return False\n",
    "            "
   ]
  },
  {
   "cell_type": "code",
   "execution_count": 12,
   "metadata": {},
   "outputs": [
    {
     "name": "stdout",
     "output_type": "stream",
     "text": [
      "2   11\n",
      "True\n"
     ]
    }
   ],
   "source": [
    "print(two_sum_brute_force(A,target))"
   ]
  },
  {
   "cell_type": "code",
   "execution_count": 13,
   "metadata": {},
   "outputs": [
    {
     "name": "stdout",
     "output_type": "stream",
     "text": [
      "False\n"
     ]
    }
   ],
   "source": [
    "print(two_sum_brute_force(A,20))"
   ]
  },
  {
   "cell_type": "code",
   "execution_count": 14,
   "metadata": {},
   "outputs": [],
   "source": [
    "A = [2,4,6]\n",
    "target = 10"
   ]
  },
  {
   "cell_type": "code",
   "execution_count": 15,
   "metadata": {},
   "outputs": [],
   "source": [
    "#Time Complexity: On\n",
    "#Space Complexity: On\n",
    "def two_sum_hash_table(A, target):\n",
    "    ht = dict()\n",
    "    for i in range(len(A)):\n",
    "        if A[i] in ht:\n",
    "            print(ht[A[i]], A[i])\n",
    "            return True\n",
    "        else:\n",
    "            ht[target - A[i]] = A[i]\n",
    "    return False"
   ]
  },
  {
   "cell_type": "code",
   "execution_count": 16,
   "metadata": {},
   "outputs": [
    {
     "name": "stdout",
     "output_type": "stream",
     "text": [
      "4 6\n",
      "True\n"
     ]
    }
   ],
   "source": [
    "print(two_sum_hash_table(A, target))"
   ]
  },
  {
   "cell_type": "code",
   "execution_count": 17,
   "metadata": {},
   "outputs": [],
   "source": [
    "#Time Complexity: O(n)\n",
    "#Space Complexity: O(1)\n",
    "def two_sum(A, target):\n",
    "    i = 0\n",
    "    j = len(A) - 1\n",
    "    \n",
    "    while i <= j:\n",
    "        if A[i] + A[j] == target:\n",
    "            print(A[i], A[j])\n",
    "            return True\n",
    "        elif A[i] + A[j] < target:\n",
    "            i += 1\n",
    "        else: #A[i] + A[j] < target\n",
    "            j -= 1\n",
    "    return False"
   ]
  },
  {
   "cell_type": "code",
   "execution_count": 18,
   "metadata": {},
   "outputs": [
    {
     "name": "stdout",
     "output_type": "stream",
     "text": [
      "4 6\n",
      "True\n"
     ]
    }
   ],
   "source": [
    "print(two_sum(A,target))"
   ]
  },
  {
   "cell_type": "code",
   "execution_count": null,
   "metadata": {},
   "outputs": [],
   "source": []
  }
 ],
 "metadata": {
  "kernelspec": {
   "display_name": "Python 3",
   "language": "python",
   "name": "python3"
  },
  "language_info": {
   "codemirror_mode": {
    "name": "ipython",
    "version": 3
   },
   "file_extension": ".py",
   "mimetype": "text/x-python",
   "name": "python",
   "nbconvert_exporter": "python",
   "pygments_lexer": "ipython3",
   "version": "3.6.5"
  }
 },
 "nbformat": 4,
 "nbformat_minor": 2
}
