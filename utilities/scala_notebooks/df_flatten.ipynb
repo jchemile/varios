{
 "cells": [
  {
   "cell_type": "code",
   "execution_count": 1,
   "metadata": {},
   "outputs": [
    {
     "data": {
      "text/plain": [
       "Intitializing Scala interpreter ..."
      ]
     },
     "metadata": {},
     "output_type": "display_data"
    },
    {
     "data": {
      "text/plain": [
       "Spark Web UI available at http://LAPTOP-D4GN0MQF:4040\n",
       "SparkContext available as 'sc' (version = 2.3.0, master = local[*], app id = local-1571759122958)\n",
       "SparkSession available as 'spark'\n"
      ]
     },
     "metadata": {},
     "output_type": "display_data"
    },
    {
     "name": "stdout",
     "output_type": "stream",
     "text": [
      "start\n"
     ]
    }
   ],
   "source": [
    "println(\"start\")"
   ]
  },
  {
   "cell_type": "code",
   "execution_count": 2,
   "metadata": {},
   "outputs": [
    {
     "data": {
      "text/plain": [
       "import org.apache.spark.sql.functions.explode\n"
      ]
     },
     "execution_count": 2,
     "metadata": {},
     "output_type": "execute_result"
    }
   ],
   "source": [
    "import org.apache.spark.sql.functions.explode"
   ]
  },
  {
   "cell_type": "code",
   "execution_count": 3,
   "metadata": {},
   "outputs": [
    {
     "data": {
      "text/plain": [
       "inputDF: org.apache.spark.sql.DataFrame = [name: string, roll: string ... 1 more field]\n"
      ]
     },
     "execution_count": 3,
     "metadata": {},
     "output_type": "execute_result"
    }
   ],
   "source": [
    " val inputDF = Seq(\n",
    "      (\"sam\", \"ta1i3dfk4\", \"xy|av|mm\"),\n",
    "      (\"royc\", \"rfhqdbnb3\", \"a\"),\n",
    "      (\"alcaly\", \"rfhqdbnb3\", \"xx|zz\")\n",
    "    ).toDF(\"name\", \"roll\", \"subjectIDs\")"
   ]
  },
  {
   "cell_type": "code",
   "execution_count": 4,
   "metadata": {},
   "outputs": [
    {
     "name": "stdout",
     "output_type": "stream",
     "text": [
      "+------+---------+----------+\n",
      "|  name|     roll|subjectIDs|\n",
      "+------+---------+----------+\n",
      "|   sam|ta1i3dfk4|  xy|av|mm|\n",
      "|  royc|rfhqdbnb3|         a|\n",
      "|alcaly|rfhqdbnb3|     xx|zz|\n",
      "+------+---------+----------+\n",
      "\n"
     ]
    }
   ],
   "source": [
    "inputDF.show"
   ]
  },
  {
   "cell_type": "code",
   "execution_count": 15,
   "metadata": {},
   "outputs": [
    {
     "data": {
      "text/plain": [
       "import org.apache.spark.sql.types._\r\n",
       "res11: Array[(String, String)] = Array((name,StringType))\n"
      ]
     },
     "execution_count": 15,
     "metadata": {},
     "output_type": "execute_result"
    },
    {
     "name": "stdout",
     "output_type": "stream",
     "text": [
      "2019-10-22 13:34:20 WARN  Executor:87 - Issue communicating with driver in heartbeater\r\n",
      "org.apache.spark.rpc.RpcTimeoutException: Futures timed out after [10 seconds]. This timeout is controlled by spark.executor.heartbeatInterval\r\n",
      "\tat org.apache.spark.rpc.RpcTimeout.org$apache$spark$rpc$RpcTimeout$$createRpcTimeoutException(RpcTimeout.scala:47)\r\n",
      "\tat org.apache.spark.rpc.RpcTimeout$$anonfun$addMessageIfTimeout$1.applyOrElse(RpcTimeout.scala:62)\r\n",
      "\tat org.apache.spark.rpc.RpcTimeout$$anonfun$addMessageIfTimeout$1.applyOrElse(RpcTimeout.scala:58)\r\n",
      "\tat scala.runtime.AbstractPartialFunction.apply(AbstractPartialFunction.scala:36)\r\n",
      "\tat org.apache.spark.rpc.RpcTimeout.awaitResult(RpcTimeout.scala:76)\r\n",
      "\tat org.apache.spark.rpc.RpcEndpointRef.askSync(RpcEndpointRef.scala:92)\r\n",
      "\tat org.apache.spark.executor.Executor.org$apache$spark$executor$Executor$$reportHeartBeat(Executor.scala:785)\r\n",
      "\tat org.apache.spark.executor.Executor$$anon$2$$anonfun$run$1.apply$mcV$sp(Executor.scala:814)\r\n",
      "\tat org.apache.spark.executor.Executor$$anon$2$$anonfun$run$1.apply(Executor.scala:814)\r\n",
      "\tat org.apache.spark.executor.Executor$$anon$2$$anonfun$run$1.apply(Executor.scala:814)\r\n",
      "\tat org.apache.spark.util.Utils$.logUncaughtExceptions(Utils.scala:1988)\r\n",
      "\tat org.apache.spark.executor.Executor$$anon$2.run(Executor.scala:814)\r\n",
      "\tat java.util.concurrent.Executors$RunnableAdapter.call(Executors.java:511)\r\n",
      "\tat java.util.concurrent.FutureTask.runAndReset(FutureTask.java:308)\r\n",
      "\tat java.util.concurrent.ScheduledThreadPoolExecutor$ScheduledFutureTask.access$301(ScheduledThreadPoolExecutor.java:180)\r\n",
      "\tat java.util.concurrent.ScheduledThreadPoolExecutor$ScheduledFutureTask.run(ScheduledThreadPoolExecutor.java:294)\r\n",
      "\tat java.util.concurrent.ThreadPoolExecutor.runWorker(ThreadPoolExecutor.java:1149)\r\n",
      "\tat java.util.concurrent.ThreadPoolExecutor$Worker.run(ThreadPoolExecutor.java:624)\r\n",
      "\tat java.lang.Thread.run(Thread.java:748)\r\n",
      "Caused by: java.util.concurrent.TimeoutException: Futures timed out after [10 seconds]\r\n",
      "\tat scala.concurrent.impl.Promise$DefaultPromise.ready(Promise.scala:219)\r\n",
      "\tat scala.concurrent.impl.Promise$DefaultPromise.result(Promise.scala:223)\r\n",
      "\tat org.apache.spark.util.ThreadUtils$.awaitResult(ThreadUtils.scala:201)\r\n",
      "\tat org.apache.spark.rpc.RpcTimeout.awaitResult(RpcTimeout.scala:75)\r\n",
      "\t... 14 more\r\n"
     ]
    }
   ],
   "source": [
    "import org.apache.spark.sql.types._\n",
    "inputDF.select(\"name\").dtypes"
   ]
  },
  {
   "cell_type": "code",
   "execution_count": 24,
   "metadata": {},
   "outputs": [
    {
     "data": {
      "text/plain": [
       "result: org.apache.spark.sql.DataFrame = [name: string, roll: string ... 1 more field]\n"
      ]
     },
     "execution_count": 24,
     "metadata": {},
     "output_type": "execute_result"
    }
   ],
   "source": [
    "val result = inputDF.withColumn(\"subjectIDs\", split(col(\"subjectIDs\"), \"\\\\|\"))"
   ]
  },
  {
   "cell_type": "code",
   "execution_count": 25,
   "metadata": {},
   "outputs": [
    {
     "name": "stdout",
     "output_type": "stream",
     "text": [
      "+------+---------+------------+\n",
      "|  name|     roll|  subjectIDs|\n",
      "+------+---------+------------+\n",
      "|   sam|ta1i3dfk4|[xy, av, mm]|\n",
      "|  royc|rfhqdbnb3|         [a]|\n",
      "|alcaly|rfhqdbnb3|    [xx, zz]|\n",
      "+------+---------+------------+\n",
      "\n"
     ]
    }
   ],
   "source": [
    "result.show"
   ]
  },
  {
   "cell_type": "code",
   "execution_count": 27,
   "metadata": {},
   "outputs": [
    {
     "data": {
      "text/plain": [
       "finalDF: org.apache.spark.sql.DataFrame = [name: string, roll: string ... 1 more field]\n"
      ]
     },
     "execution_count": 27,
     "metadata": {},
     "output_type": "execute_result"
    }
   ],
   "source": [
    "val finalDF = result.withColumn(\"subjectIDs\", explode(col(\"subjectIDs\")))"
   ]
  },
  {
   "cell_type": "code",
   "execution_count": 28,
   "metadata": {},
   "outputs": [
    {
     "name": "stdout",
     "output_type": "stream",
     "text": [
      "+------+---------+----------+\n",
      "|  name|     roll|subjectIDs|\n",
      "+------+---------+----------+\n",
      "|   sam|ta1i3dfk4|        xy|\n",
      "|   sam|ta1i3dfk4|        av|\n",
      "|   sam|ta1i3dfk4|        mm|\n",
      "|  royc|rfhqdbnb3|         a|\n",
      "|alcaly|rfhqdbnb3|        xx|\n",
      "|alcaly|rfhqdbnb3|        zz|\n",
      "+------+---------+----------+\n",
      "\n"
     ]
    }
   ],
   "source": [
    "finalDF.show"
   ]
  },
  {
   "cell_type": "code",
   "execution_count": null,
   "metadata": {},
   "outputs": [],
   "source": []
  }
 ],
 "metadata": {
  "kernelspec": {
   "display_name": "spylon-kernel",
   "language": "scala",
   "name": "spylon-kernel"
  },
  "language_info": {
   "codemirror_mode": "text/x-scala",
   "file_extension": ".scala",
   "help_links": [
    {
     "text": "MetaKernel Magics",
     "url": "https://metakernel.readthedocs.io/en/latest/source/README.html"
    }
   ],
   "mimetype": "text/x-scala",
   "name": "scala",
   "pygments_lexer": "scala",
   "version": "0.4.1"
  }
 },
 "nbformat": 4,
 "nbformat_minor": 2
}
