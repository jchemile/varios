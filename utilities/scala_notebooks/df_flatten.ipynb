{
 "cells": [
  {
   "cell_type": "code",
   "execution_count": 2,
   "metadata": {},
   "outputs": [
    {
     "name": "stdout",
     "output_type": "stream",
     "text": [
      "start\n"
     ]
    }
   ],
   "source": [
    "println(\"start\")"
   ]
  },
  {
   "cell_type": "code",
   "execution_count": 9,
   "metadata": {},
   "outputs": [
    {
     "data": {
      "text/plain": [
       "import org.apache.spark.sql.functions.explode\n"
      ]
     },
     "execution_count": 9,
     "metadata": {},
     "output_type": "execute_result"
    }
   ],
   "source": [
    "import org.apache.spark.sql.functions.explode"
   ]
  },
  {
   "cell_type": "code",
   "execution_count": 13,
   "metadata": {},
   "outputs": [
    {
     "data": {
      "text/plain": [
       "inputDF: org.apache.spark.sql.DataFrame = [name: string, roll: string ... 1 more field]\n"
      ]
     },
     "execution_count": 13,
     "metadata": {},
     "output_type": "execute_result"
    }
   ],
   "source": [
    " val inputDF = Seq(\n",
    "      (\"sam\", \"ta1i3dfk4\", \"xy|av|mm\"),\n",
    "      (\"royc\", \"rfhqdbnb3\", \"a\"),\n",
    "      (\"alcaly\", \"rfhqdbnb3\", \"xx|zz\")\n",
    "    ).toDF(\"name\", \"roll\", \"subjectIDs\")"
   ]
  },
  {
   "cell_type": "code",
   "execution_count": 14,
   "metadata": {},
   "outputs": [
    {
     "name": "stdout",
     "output_type": "stream",
     "text": [
      "+------+---------+----------+\n",
      "|  name|     roll|subjectIDs|\n",
      "+------+---------+----------+\n",
      "|   sam|ta1i3dfk4|  xy|av|mm|\n",
      "|  royc|rfhqdbnb3|         a|\n",
      "|alcaly|rfhqdbnb3|     xx|zz|\n",
      "+------+---------+----------+\n",
      "\n"
     ]
    }
   ],
   "source": [
    "inputDF.show"
   ]
  },
  {
   "cell_type": "code",
   "execution_count": 24,
   "metadata": {},
   "outputs": [
    {
     "data": {
      "text/plain": [
       "result: org.apache.spark.sql.DataFrame = [name: string, roll: string ... 1 more field]\n"
      ]
     },
     "execution_count": 24,
     "metadata": {},
     "output_type": "execute_result"
    }
   ],
   "source": [
    "val result = inputDF.withColumn(\"subjectIDs\", split(col(\"subjectIDs\"), \"\\\\|\"))"
   ]
  },
  {
   "cell_type": "code",
   "execution_count": 25,
   "metadata": {},
   "outputs": [
    {
     "name": "stdout",
     "output_type": "stream",
     "text": [
      "+------+---------+------------+\n",
      "|  name|     roll|  subjectIDs|\n",
      "+------+---------+------------+\n",
      "|   sam|ta1i3dfk4|[xy, av, mm]|\n",
      "|  royc|rfhqdbnb3|         [a]|\n",
      "|alcaly|rfhqdbnb3|    [xx, zz]|\n",
      "+------+---------+------------+\n",
      "\n"
     ]
    }
   ],
   "source": [
    "result.show"
   ]
  },
  {
   "cell_type": "code",
   "execution_count": 27,
   "metadata": {},
   "outputs": [
    {
     "data": {
      "text/plain": [
       "finalDF: org.apache.spark.sql.DataFrame = [name: string, roll: string ... 1 more field]\n"
      ]
     },
     "execution_count": 27,
     "metadata": {},
     "output_type": "execute_result"
    }
   ],
   "source": [
    "val finalDF = result.withColumn(\"subjectIDs\", explode(col(\"subjectIDs\")))"
   ]
  },
  {
   "cell_type": "code",
   "execution_count": 28,
   "metadata": {},
   "outputs": [
    {
     "name": "stdout",
     "output_type": "stream",
     "text": [
      "+------+---------+----------+\n",
      "|  name|     roll|subjectIDs|\n",
      "+------+---------+----------+\n",
      "|   sam|ta1i3dfk4|        xy|\n",
      "|   sam|ta1i3dfk4|        av|\n",
      "|   sam|ta1i3dfk4|        mm|\n",
      "|  royc|rfhqdbnb3|         a|\n",
      "|alcaly|rfhqdbnb3|        xx|\n",
      "|alcaly|rfhqdbnb3|        zz|\n",
      "+------+---------+----------+\n",
      "\n"
     ]
    }
   ],
   "source": [
    "finalDF.show"
   ]
  },
  {
   "cell_type": "code",
   "execution_count": null,
   "metadata": {},
   "outputs": [],
   "source": []
  }
 ],
 "metadata": {
  "kernelspec": {
   "display_name": "spylon-kernel",
   "language": "scala",
   "name": "spylon-kernel"
  },
  "language_info": {
   "codemirror_mode": "text/x-scala",
   "file_extension": ".scala",
   "help_links": [
    {
     "text": "MetaKernel Magics",
     "url": "https://metakernel.readthedocs.io/en/latest/source/README.html"
    }
   ],
   "mimetype": "text/x-scala",
   "name": "scala",
   "pygments_lexer": "scala",
   "version": "0.4.1"
  }
 },
 "nbformat": 4,
 "nbformat_minor": 2
}
