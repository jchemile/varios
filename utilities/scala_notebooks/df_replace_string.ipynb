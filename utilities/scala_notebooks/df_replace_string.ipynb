{
 "cells": [
  {
   "cell_type": "code",
   "execution_count": 1,
   "metadata": {},
   "outputs": [
    {
     "data": {
      "text/plain": [
       "Intitializing Scala interpreter ..."
      ]
     },
     "metadata": {},
     "output_type": "display_data"
    },
    {
     "data": {
      "text/plain": [
       "Spark Web UI available at http://LAPTOP-D4GN0MQF:4044\n",
       "SparkContext available as 'sc' (version = 2.3.0, master = local[*], app id = local-1564583089803)\n",
       "SparkSession available as 'spark'\n"
      ]
     },
     "metadata": {},
     "output_type": "display_data"
    },
    {
     "name": "stdout",
     "output_type": "stream",
     "text": [
      "Start\n"
     ]
    }
   ],
   "source": [
    "println(\"Start\")"
   ]
  },
  {
   "cell_type": "code",
   "execution_count": 2,
   "metadata": {},
   "outputs": [
    {
     "name": "stdout",
     "output_type": "stream",
     "text": [
      "import org.apache.spark.sql.functions._"
     ]
    }
   ],
   "source": [
    "import spark.implicits._\n",
    "import org.apache.spark.sql.functions._"
   ]
  },
  {
   "cell_type": "code",
   "execution_count": 3,
   "metadata": {},
   "outputs": [
    {
     "name": "stdout",
     "output_type": "stream",
     "text": [
      "df: org.apache.spark.sql.DataFrame = [mycol: string]"
     ]
    }
   ],
   "source": [
    "val df = Seq(\"12 https://jhafi.com xyza@gmail.com\",\n",
    "  \"12 https://jhafi.com xyza@gmail.com\",\n",
    "  \"12 https://jhafi.com xyza@gmail.com\",\n",
    "  \"12 https://jhafi.com xyza@gmail.com\").toDF(\"mycol\")"
   ]
  },
  {
   "cell_type": "code",
   "execution_count": 5,
   "metadata": {},
   "outputs": [
    {
     "name": "stdout",
     "output_type": "stream",
     "text": [
      "+--------------------+\n",
      "|               mycol|\n",
      "+--------------------+\n",
      "|12 https://jhafi....|\n",
      "|12 https://jhafi....|\n",
      "|12 https://jhafi....|\n",
      "|12 https://jhafi....|\n",
      "+--------------------+"
     ]
    }
   ],
   "source": [
    "df.show()"
   ]
  },
  {
   "cell_type": "code",
   "execution_count": 6,
   "metadata": {},
   "outputs": [
    {
     "name": "stdout",
     "output_type": "stream",
     "text": [
      "+------------------------+\n",
      "|mycol                   |\n",
      "+------------------------+\n",
      "|12 PHTEXTURL PHTEXTEMAIL|\n",
      "|12 PHTEXTURL PHTEXTEMAIL|\n",
      "|12 PHTEXTURL PHTEXTEMAIL|\n",
      "|12 PHTEXTURL PHTEXTEMAIL|\n",
      "+------------------------+"
     ]
    }
   ],
   "source": [
    "val email = \"\"\"(?i)\\b[A-Z0-9._%+-]+@[A-Z0-9.-]+\\.[A-Z]{2,4}\\b\"\"\"\n",
    "val url =\"(https?:\\\\/\\\\/(?:www\\\\.|(?!www))[a-zA-Z0-9][a-zA-Z0-9-]+[a-zA-Z0-9]\\\\.[^\\\\s]{2,}|www\\\\.[a-zA-Z0-9][a-zA-Z0-9-]+[a-zA-Z0-9]\\\\.[^\\\\s]{2,}|https?:\\\\/\\\\/(?:www\\\\.|(?!www))[a-zA-Z0-9]+\\\\.[^\\\\s]{2,}|www\\\\.[a-zA-Z0-9]+\\\\.[^\\\\s]{2,})\"\n",
    "\n",
    "val urlRegexExpression = regexp_replace($\"mycol\", url, \"PHTEXTURL\")\n",
    "val emailRegexExpression = regexp_replace($\"mycol\", email, \"PHTEXTEMAIL\")\n",
    "\n",
    "df.withColumn(\"mycol\", emailRegexExpression).withColumn(\"mycol\", urlRegexExpression).show(false)"
   ]
  },
  {
   "cell_type": "code",
   "execution_count": null,
   "metadata": {},
   "outputs": [],
   "source": []
  }
 ],
 "metadata": {
  "kernelspec": {
   "display_name": "spylon-kernel",
   "language": "scala",
   "name": "spylon-kernel"
  },
  "language_info": {
   "codemirror_mode": "text/x-scala",
   "file_extension": ".scala",
   "help_links": [
    {
     "text": "MetaKernel Magics",
     "url": "https://metakernel.readthedocs.io/en/latest/source/README.html"
    }
   ],
   "mimetype": "text/x-scala",
   "name": "scala",
   "pygments_lexer": "scala",
   "version": "0.4.1"
  }
 },
 "nbformat": 4,
 "nbformat_minor": 2
}
