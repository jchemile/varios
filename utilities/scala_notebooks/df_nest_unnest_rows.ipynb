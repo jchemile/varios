{
 "cells": [
  {
   "cell_type": "code",
   "execution_count": 1,
   "metadata": {},
   "outputs": [
    {
     "data": {
      "text/plain": [
       "Intitializing Scala interpreter ..."
      ]
     },
     "metadata": {},
     "output_type": "display_data"
    },
    {
     "data": {
      "text/plain": [
       "Spark Web UI available at http://LAPTOP-D4GN0MQF:4041\n",
       "SparkContext available as 'sc' (version = 2.3.0, master = local[*], app id = local-1566836612462)\n",
       "SparkSession available as 'spark'\n"
      ]
     },
     "metadata": {},
     "output_type": "display_data"
    },
    {
     "name": "stdout",
     "output_type": "stream",
     "text": [
      "Start\n"
     ]
    }
   ],
   "source": [
    "println(\"Start\")"
   ]
  },
  {
   "cell_type": "code",
   "execution_count": 2,
   "metadata": {},
   "outputs": [
    {
     "data": {
      "text/plain": [
       "df: org.apache.spark.sql.DataFrame = [PERSON_ID: string, LAST_NAME: string ... 3 more fields]\n"
      ]
     },
     "execution_count": 2,
     "metadata": {},
     "output_type": "execute_result"
    }
   ],
   "source": [
    "val df = Seq(\n",
    "  (\"1005\", \"Miley\", \"John\", \"Spain\", \"Barceleona\"),\n",
    "  (\"1009\", \"Rodney\", \"Justin\", \"France\", \"Paris\"),\n",
    "  (\"1009\", \"Rodney\", \"Justin\", \"France\", \"Creteil\")\n",
    ").toDF(\"PERSON_ID\", \"LAST_NAME\", \"FIRST_NAME\", \"COUNTRY\", \"CITY\")"
   ]
  },
  {
   "cell_type": "code",
   "execution_count": 3,
   "metadata": {},
   "outputs": [
    {
     "data": {
      "text/plain": [
       "newCols: List[String] = List(id, lastName, name, country, city)\n"
      ]
     },
     "execution_count": 3,
     "metadata": {},
     "output_type": "execute_result"
    }
   ],
   "source": [
    "val newCols = List(\"id\", \"lastName\", \"name\", \"country\",  \"city\")"
   ]
  },
  {
   "cell_type": "code",
   "execution_count": 4,
   "metadata": {},
   "outputs": [
    {
     "data": {
      "text/plain": [
       "resultDF: org.apache.spark.sql.DataFrame = [id: string, name: string ... 2 more fields]\n"
      ]
     },
     "execution_count": 4,
     "metadata": {},
     "output_type": "execute_result"
    }
   ],
   "source": [
    "val resultDF = df.select(df.columns.zip(newCols).map(c => col(c._1).as(c._2)):_*)\n",
    "                                .groupBy(\"id\", \"name\", \"lastName\")\n",
    "                                .agg(collect_list(struct($\"city\",$\"country\")).as(\"address\"))\n",
    "                                "
   ]
  },
  {
   "cell_type": "code",
   "execution_count": 5,
   "metadata": {},
   "outputs": [
    {
     "name": "stdout",
     "output_type": "stream",
     "text": [
      "+----+------+--------+--------------------+\n",
      "|  id|  name|lastName|             address|\n",
      "+----+------+--------+--------------------+\n",
      "|1005|  John|   Miley|[[Barceleona, Spa...|\n",
      "|1009|Justin|  Rodney|[[Paris, France],...|\n",
      "+----+------+--------+--------------------+\n",
      "\n"
     ]
    }
   ],
   "source": [
    "resultDF.show"
   ]
  },
  {
   "cell_type": "code",
   "execution_count": 6,
   "metadata": {},
   "outputs": [
    {
     "name": "stdout",
     "output_type": "stream",
     "text": [
      "root\n",
      " |-- id: string (nullable = true)\n",
      " |-- name: string (nullable = true)\n",
      " |-- lastName: string (nullable = true)\n",
      " |-- address: array (nullable = true)\n",
      " |    |-- element: struct (containsNull = true)\n",
      " |    |    |-- city: string (nullable = true)\n",
      " |    |    |-- country: string (nullable = true)\n",
      "\n"
     ]
    }
   ],
   "source": [
    "resultDF.printSchema()"
   ]
  },
  {
   "cell_type": "code",
   "execution_count": null,
   "metadata": {},
   "outputs": [],
   "source": []
  }
 ],
 "metadata": {
  "kernelspec": {
   "display_name": "spylon-kernel",
   "language": "scala",
   "name": "spylon-kernel"
  },
  "language_info": {
   "codemirror_mode": "text/x-scala",
   "file_extension": ".scala",
   "help_links": [
    {
     "text": "MetaKernel Magics",
     "url": "https://metakernel.readthedocs.io/en/latest/source/README.html"
    }
   ],
   "mimetype": "text/x-scala",
   "name": "scala",
   "pygments_lexer": "scala",
   "version": "0.4.1"
  }
 },
 "nbformat": 4,
 "nbformat_minor": 2
}
