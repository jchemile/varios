{
 "cells": [
  {
   "cell_type": "code",
   "execution_count": 1,
   "metadata": {},
   "outputs": [
    {
     "data": {
      "text/plain": [
       "Intitializing Scala interpreter ..."
      ]
     },
     "metadata": {},
     "output_type": "display_data"
    },
    {
     "data": {
      "text/plain": [
       "Spark Web UI available at http://LAPTOP-D4GN0MQF:4040\n",
       "SparkContext available as 'sc' (version = 2.3.0, master = local[*], app id = local-1572295216561)\n",
       "SparkSession available as 'spark'\n"
      ]
     },
     "metadata": {},
     "output_type": "display_data"
    },
    {
     "name": "stdout",
     "output_type": "stream",
     "text": [
      "2019-10-28 17:40:15 WARN  NativeCodeLoader:62 - Unable to load native-hadoop library for your platform... using builtin-java classes where applicable\n",
      "Start\n"
     ]
    }
   ],
   "source": [
    "println(\"Start\")"
   ]
  },
  {
   "cell_type": "markdown",
   "metadata": {},
   "source": [
    "# Imports"
   ]
  },
  {
   "cell_type": "code",
   "execution_count": 2,
   "metadata": {},
   "outputs": [
    {
     "data": {
      "text/plain": [
       "import org.apache.spark.sql.expressions.Window\r\n",
       "import org.apache.spark.sql.{DataFrame, SparkSession}\r\n",
       "import org.apache.spark.sql.functions.max\n"
      ]
     },
     "execution_count": 2,
     "metadata": {},
     "output_type": "execute_result"
    }
   ],
   "source": [
    "import org.apache.spark.sql.expressions.Window\n",
    "import org.apache.spark.sql.{DataFrame, SparkSession}\n",
    "import org.apache.spark.sql.functions.max"
   ]
  },
  {
   "cell_type": "code",
   "execution_count": 3,
   "metadata": {},
   "outputs": [
    {
     "ename": "<console>",
     "evalue": "36: error: value toDF is not a member of Seq[Product with Serializable]\r",
     "output_type": "error",
     "traceback": [
      "<console>:36: error: value toDF is not a member of Seq[Product with Serializable]\r",
      "possible cause: maybe a semicolon is missing before `value toDF'?\r",
      "         (4,2, null, null, null) ).toDF(\"index\", \"category\", \"col1\", \"col2\", \"col3\")\r",
      "                                   ^",
      ""
     ]
    }
   ],
   "source": [
    "val df = Seq(\n",
    "  (1,1, null, null, null ), \n",
    "  (2,1, null, null, null ), \n",
    "  (3,1, null, null, null ), \n",
    "  (4,1,\"123.12\", \"124.52\", \"95.98\" ), \n",
    "  (5,1, \"452.12\", \"478.65\", \"1865.12\" ), \n",
    "  (1,2,\"2014.21\", \"147\", \"265\"), \n",
    "  (2,2, \"1457\", \"12483.00\", \"215.21\"), \n",
    "  (null, null, null, null),\n",
    "  (4,2, null, null, null) ).toDF(\"index\", \"category\", \"col1\", \"col2\", \"col3\")"
   ]
  },
  {
   "cell_type": "code",
   "execution_count": null,
   "metadata": {},
   "outputs": [],
   "source": [
    "df.show"
   ]
  },
  {
   "cell_type": "code",
   "execution_count": null,
   "metadata": {},
   "outputs": [],
   "source": [
    "val cols = Seq(\"col1\", \"col2\", \"col3\")"
   ]
  },
  {
   "cell_type": "code",
   "execution_count": null,
   "metadata": {},
   "outputs": [],
   "source": [
    "val beforeWindow = Window\n",
    "    .partitionBy(\"category\")\n",
    "    .orderBy(\"index\")\n",
    "    .rangeBetween(Window.unboundedPreceding, Window.currentRow)"
   ]
  },
  {
   "cell_type": "code",
   "execution_count": null,
   "metadata": {},
   "outputs": [],
   "source": [
    "val afterWindow = Window\n",
    "    .partitionBy(\"category\")\n",
    "    .orderBy(\"index\")\n",
    "    .rangeBetween(Window.currentRow, Window.unboundedFollowing)"
   ]
  },
  {
   "cell_type": "code",
   "execution_count": null,
   "metadata": {},
   "outputs": [],
   "source": [
    "val result = cols.foldLeft(df)((updated, columnName) => \n",
    "        updated.withColumn(columnName,\n",
    "                          coalesce(col(columnName),\n",
    "                          last(columnName, ignoreNulls = true).over(beforeWindow),\n",
    "                          first(columnName, ignoreNulls = true).over(afterWindow)\n",
    "                          ))\n",
    ")"
   ]
  },
  {
   "cell_type": "code",
   "execution_count": null,
   "metadata": {},
   "outputs": [],
   "source": [
    "result.show(false)"
   ]
  },
  {
   "cell_type": "code",
   "execution_count": null,
   "metadata": {},
   "outputs": [],
   "source": []
  }
 ],
 "metadata": {
  "kernelspec": {
   "display_name": "spylon-kernel",
   "language": "scala",
   "name": "spylon-kernel"
  },
  "language_info": {
   "codemirror_mode": "text/x-scala",
   "file_extension": ".scala",
   "help_links": [
    {
     "text": "MetaKernel Magics",
     "url": "https://metakernel.readthedocs.io/en/latest/source/README.html"
    }
   ],
   "mimetype": "text/x-scala",
   "name": "scala",
   "pygments_lexer": "scala",
   "version": "0.4.1"
  }
 },
 "nbformat": 4,
 "nbformat_minor": 2
}
