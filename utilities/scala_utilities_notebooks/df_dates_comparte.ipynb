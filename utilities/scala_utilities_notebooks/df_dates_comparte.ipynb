{
 "cells": [
  {
   "cell_type": "code",
   "execution_count": 1,
   "metadata": {},
   "outputs": [
    {
     "data": {
      "text/plain": [
       "Intitializing Scala interpreter ..."
      ]
     },
     "metadata": {},
     "output_type": "display_data"
    },
    {
     "data": {
      "text/plain": [
       "Spark Web UI available at http://LAPTOP-D4GN0MQF:4040\n",
       "SparkContext available as 'sc' (version = 2.3.0, master = local[*], app id = local-1564666848913)\n",
       "SparkSession available as 'spark'\n"
      ]
     },
     "metadata": {},
     "output_type": "display_data"
    },
    {
     "name": "stdout",
     "output_type": "stream",
     "text": [
      "start\n"
     ]
    }
   ],
   "source": [
    "println(\"start\")"
   ]
  },
  {
   "cell_type": "code",
   "execution_count": 2,
   "metadata": {},
   "outputs": [
    {
     "data": {
      "text/plain": [
       "import org.apache.spark.sql.functions.{to_date, col, max, when, date_add, lit}\n"
      ]
     },
     "execution_count": 2,
     "metadata": {},
     "output_type": "execute_result"
    }
   ],
   "source": [
    "import org.apache.spark.sql.functions.{to_date, col, max, when, date_add, lit}"
   ]
  },
  {
   "cell_type": "code",
   "execution_count": 5,
   "metadata": {},
   "outputs": [
    {
     "data": {
      "text/plain": [
       "data: Seq[(String, String, String)] = List((2019-01-01,2019-01,a), (2019-01-01,2019-01,b), (2019-01-02,2019-01,a), (2019-01-02,2019-01,b))\n"
      ]
     },
     "execution_count": 5,
     "metadata": {},
     "output_type": "execute_result"
    }
   ],
   "source": [
    "val data = Seq((\"2019-01-01\", \"2019-01\", \"a\"),\n",
    "               (\"2019-01-01\", \"2019-01\", \"b\"),\n",
    "               (\"2019-01-02\", \"2019-01\", \"a\"),\n",
    "               (\"2019-01-02\", \"2019-01\", \"b\"))"
   ]
  },
  {
   "cell_type": "code",
   "execution_count": 8,
   "metadata": {},
   "outputs": [
    {
     "ename": "<console>",
     "evalue": "27: error: not found: value StructField\r",
     "output_type": "error",
     "traceback": [
      "<console>:27: error: not found: value StructField\r",
      "       val df = spark.createDataFrame(spark.sparkContext.parallelize(data), (List(StructField(\"transaction_created_date\", StringType, false),\r",
      "                                                                                  ^",
      "<console>:27: error: not found: value StringType\r",
      "       val df = spark.createDataFrame(spark.sparkContext.parallelize(data), (List(StructField(\"transaction_created_date\", StringType, false),\r",
      "                                                                                                                          ^",
      "<console>:28: error: not found: value StringType\r",
      "             (\"txn_mth\", StringType, false),\r",
      "                         ^",
      "<console>:29: error: not found: value StringType\r",
      "             (\"ColA\", StringType, false))))\r",
      "                      ^",
      ""
     ]
    }
   ],
   "source": [
    "    val df = spark.createDataFrame(spark.sparkContext.parallelize(data), (List(StructField(\"transaction_created_date\", StringType, false),\n",
    "      (\"txn_mth\", StringType, false),\n",
    "      (\"ColA\", StringType, false))))"
   ]
  },
  {
   "cell_type": "code",
   "execution_count": null,
   "metadata": {},
   "outputs": [],
   "source": []
  }
 ],
 "metadata": {
  "kernelspec": {
   "display_name": "spylon-kernel",
   "language": "scala",
   "name": "spylon-kernel"
  },
  "language_info": {
   "codemirror_mode": "text/x-scala",
   "file_extension": ".scala",
   "help_links": [
    {
     "text": "MetaKernel Magics",
     "url": "https://metakernel.readthedocs.io/en/latest/source/README.html"
    }
   ],
   "mimetype": "text/x-scala",
   "name": "scala",
   "pygments_lexer": "scala",
   "version": "0.4.1"
  }
 },
 "nbformat": 4,
 "nbformat_minor": 2
}
