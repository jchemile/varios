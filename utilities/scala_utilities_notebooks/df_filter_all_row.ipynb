{
 "cells": [
  {
   "cell_type": "code",
   "execution_count": 1,
   "metadata": {},
   "outputs": [
    {
     "data": {
      "text/plain": [
       "Intitializing Scala interpreter ..."
      ]
     },
     "metadata": {},
     "output_type": "display_data"
    },
    {
     "data": {
      "text/plain": [
       "Spark Web UI available at http://LAPTOP-D4GN0MQF:4040\n",
       "SparkContext available as 'sc' (version = 2.3.0, master = local[*], app id = local-1560958091302)\n",
       "SparkSession available as 'spark'\n"
      ]
     },
     "metadata": {},
     "output_type": "display_data"
    },
    {
     "name": "stdout",
     "output_type": "stream",
     "text": [
      "start\n"
     ]
    }
   ],
   "source": [
    "println(\"start\")"
   ]
  },
  {
   "cell_type": "code",
   "execution_count": 2,
   "metadata": {},
   "outputs": [
    {
     "data": {
      "text/plain": [
       "import org.apache.spark.sql.{DataFrame, SparkSession}\r\n",
       "import org.apache.spark.sql.functions._\r\n",
       "import org.apache.spark.sql.expressions.Window\r\n",
       "import spark.implicits._\n"
      ]
     },
     "execution_count": 2,
     "metadata": {},
     "output_type": "execute_result"
    }
   ],
   "source": [
    "import org.apache.spark.sql.{DataFrame, SparkSession}\n",
    "import org.apache.spark.sql.functions._\n",
    "import org.apache.spark.sql.expressions.Window\n",
    "import spark.implicits._"
   ]
  },
  {
   "cell_type": "code",
   "execution_count": 8,
   "metadata": {},
   "outputs": [
    {
     "data": {
      "text/plain": [
       "example_df: org.apache.spark.sql.DataFrame = [id: string, datetrack: string ... 3 more fields]\n"
      ]
     },
     "execution_count": 8,
     "metadata": {},
     "output_type": "execute_result"
    }
   ],
   "source": [
    "val example_df = Seq(\n",
    "(\"id_1\", \"20190601\", \"title_1\", \"junin\",         \"yes\"),\n",
    "(\"id_1\", \"20190601\", \"title_1\", \"rivadavia\",     \"yes\"),\n",
    "(\"id_1\", \"20190602\", \"title_1\", \"caleta olivia\", \"no\"),\n",
    "(\"id_1\", \"20190603\", \"title_1\", \"ensenada\",      \"yes\"),\n",
    "(\"id_1\", \"20190604\", \"title_1\", \"junin\",         \"no\"),\n",
    "(\"id_1\", \"20190605\", \"title_1\", \"rivadavia\",     \"yes\"),\n",
    "(\"id_1\", \"20190606\", \"title_2\", \"caleta olivia\", \"no\"),\n",
    "(\"id_1\", \"20190607\", \"title_2\", \"ensenada\",      \"yes\"),\n",
    "(\"id_1\", \"20190608\", \"title_2\", \"junin\",         \"yes\"),\n",
    "(\"id_1\", \"20190609\", \"title_2\", \"rivadavia\",     \"yes\"),\n",
    "(\"id_1\", \"20190610\", \"title_2\", \"caleta olivia\", \"no\"),\n",
    "(\"id_2\", \"20190601\", \"title_1\", \"ensenada\",      \"yes\"),\n",
    "(\"id_2\", \"20190602\", \"title_1\", \"junin\",         \"no\"),\n",
    "(\"id_2\", \"20190603\", \"title_1\", \"rivadavia\",     \"yes\"),\n",
    "(\"id_2\", \"20190604\", \"title_1\", \"caleta olivia\", \"no\"),\n",
    "(\"id_2\", \"20190605\", \"title_1\", \"ensenada\",      \"yes\"),\n",
    "(\"id_2\", \"20190606\", \"title_1\", \"junin\",         \"yes\"),\n",
    "(\"id_2\", \"20190607\", \"title_2\", \"rivadavia\",     \"yes\"),\n",
    "(\"id_2\", \"20190608\", \"title_2\", \"caleta olivia\", \"no\"),\n",
    "(\"id_2\", \"20190609\", \"title_2\", \"ensenada\",      \"yes\"),\n",
    "(\"id_2\", \"20190610\", \"title_2\", \"junin\",         \"no\"),\n",
    "(\"id_3\", \"20190601\", \"title_2\", \"rivadavia\",     \"yes\"),\n",
    "(\"id_3\", \"20190602\", \"title_2\", \"caleta olivia\", \"no\"),\n",
    "(\"id_3\", \"20190603\", \"title_2\", \"ensenada\",      \"yes\"),\n",
    "(\"id_3\", \"20190604\", \"title_2\", \"junin\",         \"yes\"),\n",
    "(\"id_3\", \"20190605\", \"title_2\", \"rivadavia\",     \"yes\"),\n",
    "(\"id_3\", \"20190606\", \"title_1\", \"caleta olivia\", \"no\"),\n",
    "(\"id_3\", \"20190607\", \"title_1\", \"ensenada\",      \"yes\"),\n",
    "(\"id_3\", \"20190608\", \"title_1\", \"junin\",         \"no\"),\n",
    "(\"id_3\", \"20190609\", \"title_1\", \"rivadavia\",     \"yes\"),\n",
    "(\"id_3\", \"20190610\", \"title_2\", \"caleta olivia\", \"no\"),\n",
    "(\"id_4\", \"20190601\", \"title_1\", \"ensenada\",      \"yes\"),\n",
    "(\"id_4\", \"20190602\", \"title_1\", \"junin\",         \"yes\"),\n",
    "(\"id_4\", \"20190603\", \"title_1\", \"rivadavia\",     \"yes\"),\n",
    "(\"id_4\", \"20190604\", \"title_2\", \"caleta olivia\", \"no\"),\n",
    "(\"id_4\", \"20190605\", \"title_2\", \"ensenada\",      \"yes\"),\n",
    "(\"id_4\", \"20190606\", \"title_2\", \"junin\",         \"no\"),\n",
    "(\"id_4\", \"20190607\", \"title_2\", \"rivadavia\",     \"yes\"),\n",
    "(\"id_4\", \"20190608\", \"title_1\", \"caleta olivia\", \"no\"),\n",
    "(\"id_4\", \"20190609\", \"title_1\", \"ensenada\",      \"yes\"),\n",
    "(\"id_4\", \"20190610\", \"title_1\", \"junin\",         \"yes\"),\n",
    "(\"id_5\", \"20190601\", \"title_1\", \"rivadavia\",     \"yes\"),\n",
    "(\"id_5\", \"20190602\", \"title_2\", \"caleta olivia\", \"no\"),\n",
    "(\"id_5\", \"20190603\", \"title_2\", \"ensenada\",      \"yes\"),\n",
    "(\"id_5\", \"20190604\", \"title_2\", \"junin\",         \"no\"),\n",
    "(\"id_5\", \"20190605\", \"title_2\", \"rivadavia\",     \"yes\"),\n",
    "(\"id_5\", \"20190606\", \"title_2\", \"caleta olivia\", \"no\"),\n",
    "(\"id_5\", \"20190607\", \"title_2\", \"ensenada\",      \"yes\"),\n",
    "(\"id_5\", \"20190608\", \"title_1\", \"junin\",         \"yes\"),\n",
    "(\"id_5\", \"20190609\", \"title_1\", \"rivadavia\",     \"yes\"),\n",
    "(\"id_5\", \"20190610\", \"title_1\", \"caleta olivia\", \"no\")\n",
    ").toDF(\"id\", \"datetrack\", \"title\", \"address_city\", \"oficial_store\")"
   ]
  },
  {
   "cell_type": "code",
   "execution_count": 9,
   "metadata": {},
   "outputs": [
    {
     "name": "stdout",
     "output_type": "stream",
     "text": [
      "+----+---------+-------+-------------+-------------+\n",
      "|  id|datetrack|  title| address_city|oficial_store|\n",
      "+----+---------+-------+-------------+-------------+\n",
      "|id_1| 20190601|title_1|        junin|          yes|\n",
      "|id_1| 20190601|title_1|    rivadavia|          yes|\n",
      "|id_1| 20190602|title_1|caleta olivia|           no|\n",
      "|id_1| 20190603|title_1|     ensenada|          yes|\n",
      "|id_1| 20190604|title_1|        junin|           no|\n",
      "|id_1| 20190605|title_1|    rivadavia|          yes|\n",
      "|id_1| 20190606|title_2|caleta olivia|           no|\n",
      "|id_1| 20190607|title_2|     ensenada|          yes|\n",
      "|id_1| 20190608|title_2|        junin|          yes|\n",
      "|id_1| 20190609|title_2|    rivadavia|          yes|\n",
      "|id_1| 20190610|title_2|caleta olivia|           no|\n",
      "|id_2| 20190601|title_1|     ensenada|          yes|\n",
      "|id_2| 20190602|title_1|        junin|           no|\n",
      "|id_2| 20190603|title_1|    rivadavia|          yes|\n",
      "|id_2| 20190604|title_1|caleta olivia|           no|\n",
      "|id_2| 20190605|title_1|     ensenada|          yes|\n",
      "|id_2| 20190606|title_1|        junin|          yes|\n",
      "|id_2| 20190607|title_2|    rivadavia|          yes|\n",
      "|id_2| 20190608|title_2|caleta olivia|           no|\n",
      "|id_2| 20190609|title_2|     ensenada|          yes|\n",
      "+----+---------+-------+-------------+-------------+\n",
      "only showing top 20 rows\n",
      "\n"
     ]
    }
   ],
   "source": [
    "example_df.show"
   ]
  },
  {
   "cell_type": "code",
   "execution_count": 12,
   "metadata": {},
   "outputs": [
    {
     "name": "stdout",
     "output_type": "stream",
     "text": [
      "+----+-----+\n",
      "|  id|count|\n",
      "+----+-----+\n",
      "|id_1|   11|\n",
      "|id_2|   10|\n",
      "|id_3|   10|\n",
      "|id_4|   10|\n",
      "|id_5|   10|\n",
      "+----+-----+\n",
      "\n"
     ]
    }
   ],
   "source": [
    "example_df.groupBy(\"id\").count().orderBy(\"id\").show"
   ]
  },
  {
   "cell_type": "code",
   "execution_count": 53,
   "metadata": {},
   "outputs": [
    {
     "data": {
      "text/plain": [
       "test_df: org.apache.spark.sql.DataFrame = [id: string, datetrack: string ... 3 more fields]\n"
      ]
     },
     "execution_count": 53,
     "metadata": {},
     "output_type": "execute_result"
    }
   ],
   "source": [
    "val test_df = example_df"
   ]
  },
  {
   "cell_type": "code",
   "execution_count": 54,
   "metadata": {},
   "outputs": [
    {
     "name": "stdout",
     "output_type": "stream",
     "text": [
      "+----+---------+-------+-------------+-------------+\n",
      "|  id|datetrack|  title| address_city|oficial_store|\n",
      "+----+---------+-------+-------------+-------------+\n",
      "|id_1| 20190601|title_1|        junin|          yes|\n",
      "|id_1| 20190601|title_1|    rivadavia|          yes|\n",
      "|id_1| 20190602|title_1|caleta olivia|           no|\n",
      "|id_1| 20190603|title_1|     ensenada|          yes|\n",
      "|id_1| 20190604|title_1|        junin|           no|\n",
      "|id_1| 20190605|title_1|    rivadavia|          yes|\n",
      "|id_1| 20190606|title_2|caleta olivia|           no|\n",
      "|id_1| 20190607|title_2|     ensenada|          yes|\n",
      "|id_1| 20190608|title_2|        junin|          yes|\n",
      "|id_1| 20190609|title_2|    rivadavia|          yes|\n",
      "|id_1| 20190610|title_2|caleta olivia|           no|\n",
      "|id_2| 20190601|title_1|     ensenada|          yes|\n",
      "|id_2| 20190602|title_1|        junin|           no|\n",
      "|id_2| 20190603|title_1|    rivadavia|          yes|\n",
      "|id_2| 20190604|title_1|caleta olivia|           no|\n",
      "|id_2| 20190605|title_1|     ensenada|          yes|\n",
      "|id_2| 20190606|title_1|        junin|          yes|\n",
      "|id_2| 20190607|title_2|    rivadavia|          yes|\n",
      "|id_2| 20190608|title_2|caleta olivia|           no|\n",
      "|id_2| 20190609|title_2|     ensenada|          yes|\n",
      "+----+---------+-------+-------------+-------------+\n",
      "only showing top 20 rows\n",
      "\n"
     ]
    }
   ],
   "source": [
    "test_df.show"
   ]
  },
  {
   "cell_type": "code",
   "execution_count": 52,
   "metadata": {},
   "outputs": [
    {
     "name": "stdout",
     "output_type": "stream",
     "text": [
      "+----+-------+-----+\n",
      "|  id|  title|count|\n",
      "+----+-------+-----+\n",
      "|id_1|title_1|    6|\n",
      "|id_1|title_2|    5|\n",
      "|id_2|title_1|    6|\n",
      "|id_2|title_2|    4|\n",
      "|id_3|title_1|    4|\n",
      "|id_3|title_2|    6|\n",
      "|id_4|title_1|    6|\n",
      "|id_4|title_2|    4|\n",
      "|id_5|title_1|    4|\n",
      "|id_5|title_2|    6|\n",
      "+----+-------+-----+\n",
      "\n"
     ]
    },
    {
     "data": {
      "text/plain": [
       "grouped_id: org.apache.spark.sql.DataFrame = [id: string, title: string ... 1 more field]\n"
      ]
     },
     "execution_count": 52,
     "metadata": {},
     "output_type": "execute_result"
    }
   ],
   "source": [
    "val grouped_id = example_df.groupBy(\"id\", \"title\").count()\n",
    "grouped_id.orderBy(\"id\").orderBy(\"id\", \"title\").show"
   ]
  },
  {
   "cell_type": "code",
   "execution_count": null,
   "metadata": {},
   "outputs": [],
   "source": []
  },
  {
   "cell_type": "code",
   "execution_count": null,
   "metadata": {},
   "outputs": [],
   "source": []
  },
  {
   "cell_type": "code",
   "execution_count": null,
   "metadata": {},
   "outputs": [],
   "source": []
  },
  {
   "cell_type": "code",
   "execution_count": 21,
   "metadata": {},
   "outputs": [
    {
     "data": {
      "text/plain": [
       "window: org.apache.spark.sql.expressions.WindowSpec = org.apache.spark.sql.expressions.WindowSpec@15d23413\r\n",
       "order_df: org.apache.spark.sql.DataFrame = [id: string, title: string ... 2 more fields]\n"
      ]
     },
     "execution_count": 21,
     "metadata": {},
     "output_type": "execute_result"
    }
   ],
   "source": [
    "val window = Window.partitionBy(\"id\").orderBy(desc(\"count\"))\n",
    "val order_df = grouped_id.withColumn(\"order\", row_number().over(window))"
   ]
  },
  {
   "cell_type": "code",
   "execution_count": 23,
   "metadata": {},
   "outputs": [
    {
     "name": "stdout",
     "output_type": "stream",
     "text": [
      "+----+-------+-----+-----+\n",
      "|  id|  title|count|order|\n",
      "+----+-------+-----+-----+\n",
      "|id_1|title_1|    6|    2|\n",
      "|id_1|title_2|    5|    1|\n",
      "|id_2|title_1|    6|    1|\n",
      "|id_2|title_2|    4|    2|\n",
      "|id_3|title_1|    4|    2|\n",
      "|id_3|title_2|    6|    1|\n",
      "|id_4|title_1|    6|    2|\n",
      "|id_4|title_2|    4|    1|\n",
      "|id_5|title_1|    4|    2|\n",
      "|id_5|title_2|    6|    1|\n",
      "+----+-------+-----+-----+\n",
      "\n"
     ]
    }
   ],
   "source": [
    "order_df.orderBy(\"id\", \"title\").show"
   ]
  },
  {
   "cell_type": "code",
   "execution_count": null,
   "metadata": {},
   "outputs": [],
   "source": []
  }
 ],
 "metadata": {
  "kernelspec": {
   "display_name": "spylon-kernel",
   "language": "scala",
   "name": "spylon-kernel"
  },
  "language_info": {
   "codemirror_mode": "text/x-scala",
   "file_extension": ".scala",
   "help_links": [
    {
     "text": "MetaKernel Magics",
     "url": "https://metakernel.readthedocs.io/en/latest/source/README.html"
    }
   ],
   "mimetype": "text/x-scala",
   "name": "scala",
   "pygments_lexer": "scala",
   "version": "0.4.1"
  }
 },
 "nbformat": 4,
 "nbformat_minor": 2
}
