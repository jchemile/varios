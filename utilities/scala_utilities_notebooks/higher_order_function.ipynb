{
 "cells": [
  {
   "cell_type": "code",
   "execution_count": null,
   "metadata": {},
   "outputs": [],
   "source": [
    "println(\"Start\")"
   ]
  },
  {
   "cell_type": "code",
   "execution_count": 3,
   "metadata": {},
   "outputs": [
    {
     "name": "stdout",
     "output_type": "stream",
     "text": [
      "sumInts: (a: Int, b: Int)Int"
     ]
    }
   ],
   "source": [
    "def sumInts(a: Int, b: Int): Int ={\n",
    "    if (a > b) 0 else a + sumInts(a+1,b)\n",
    "}"
   ]
  },
  {
   "cell_type": "code",
   "execution_count": 4,
   "metadata": {},
   "outputs": [
    {
     "name": "stdout",
     "output_type": "stream",
     "text": [
      "cube: (x: Int)Int"
     ]
    }
   ],
   "source": [
    "def cube(x: Int): Int = x*x*x"
   ]
  },
  {
   "cell_type": "code",
   "execution_count": 5,
   "metadata": {},
   "outputs": [
    {
     "name": "stdout",
     "output_type": "stream",
     "text": [
      "sumCubes: (a: Int, b: Int)Int"
     ]
    }
   ],
   "source": [
    "def sumCubes(a:Int, b:Int): Int ={\n",
    "    if (a>b) 0 else cube(a) + sumCubes(a+1,b)\n",
    "}"
   ]
  },
  {
   "cell_type": "markdown",
   "metadata": {},
   "source": [
    "# Summing with Higher-Order Functions"
   ]
  },
  {
   "cell_type": "code",
   "execution_count": 7,
   "metadata": {},
   "outputs": [
    {
     "name": "stdout",
     "output_type": "stream",
     "text": [
      "sum: (f: Int => Int, a: Int, b: Int)Int"
     ]
    }
   ],
   "source": [
    "def sum(f: Int => Int, a: Int, b:Int): Int ={\n",
    "    if(a>b) 0 else f(a) + sum(f,a+1,b)\n",
    "}\n",
    "    "
   ]
  },
  {
   "cell_type": "code",
   "execution_count": 9,
   "metadata": {},
   "outputs": [
    {
     "name": "stdout",
     "output_type": "stream",
     "text": [
      "fact: (x: Int)Int"
     ]
    }
   ],
   "source": [
    "def id(x: Int): Int = x\n",
    "def cube(x: Int): Int = x *x *x\n",
    "def fact(x: Int): Int = if(x == 0) 1 else fact(x-1)"
   ]
  },
  {
   "cell_type": "code",
   "execution_count": 10,
   "metadata": {},
   "outputs": [
    {
     "name": "stdout",
     "output_type": "stream",
     "text": [
      "sumFactorials: (a: Int, b: Int)Int"
     ]
    }
   ],
   "source": [
    "def sumInts(a:Int, b: Int) = sum(id, a, b)\n",
    "def sumCubes(a: Int, b: Int) = sum(cube,a,b)\n",
    "def sumFactorials(a: Int, b:Int) = sum(fact,a,b)"
   ]
  },
  {
   "cell_type": "markdown",
   "metadata": {},
   "source": [
    "# Anonymous Function"
   ]
  },
  {
   "cell_type": "markdown",
   "metadata": {},
   "source": [
    "Anonymous Functions are Sintactic Sugar"
   ]
  },
  {
   "cell_type": "code",
   "execution_count": 11,
   "metadata": {},
   "outputs": [
    {
     "name": "stdout",
     "output_type": "stream",
     "text": [
      "sumInts: (a: Int, b: Int)Int"
     ]
    }
   ],
   "source": [
    "def sumInts(a: Int, b:Int) = sum(x => x, a, b)"
   ]
  },
  {
   "cell_type": "code",
   "execution_count": 12,
   "metadata": {},
   "outputs": [
    {
     "name": "stdout",
     "output_type": "stream",
     "text": [
      "sumCubes: (a: Int, b: Int)Int"
     ]
    }
   ],
   "source": [
    "def sumCubes(a: Int, b:Int) = sum(x => x * x* x, a, b)"
   ]
  },
  {
   "cell_type": "markdown",
   "metadata": {},
   "source": [
    "# Tail-recursive Function"
   ]
  },
  {
   "cell_type": "code",
   "execution_count": 17,
   "metadata": {},
   "outputs": [
    {
     "name": "stdout",
     "output_type": "stream",
     "text": [
      "sum: (f: Int => Int, a: Int, b: Int)Int"
     ]
    }
   ],
   "source": [
    "def sum(f: Int => Int, a:Int, b:Int): Int = {\n",
    "    \n",
    "    def loop(a: Int, acc: Int): Int = {\n",
    "        if (a > b) acc else loop(a+1, f(a)+acc)\n",
    "    } \n",
    "    loop(a, 0)\n",
    "}"
   ]
  },
  {
   "cell_type": "code",
   "execution_count": 20,
   "metadata": {},
   "outputs": [
    {
     "name": "stdout",
     "output_type": "stream",
     "text": [
      "res4: Int = 55"
     ]
    }
   ],
   "source": [
    "sum(x => x,1,10 )"
   ]
  },
  {
   "cell_type": "code",
   "execution_count": null,
   "metadata": {},
   "outputs": [],
   "source": []
  }
 ],
 "metadata": {
  "kernelspec": {
   "display_name": "spylon-kernel",
   "language": "scala",
   "name": "spylon-kernel"
  },
  "language_info": {
   "codemirror_mode": "text/x-scala",
   "file_extension": ".scala",
   "help_links": [
    {
     "text": "MetaKernel Magics",
     "url": "https://metakernel.readthedocs.io/en/latest/source/README.html"
    }
   ],
   "mimetype": "text/x-scala",
   "name": "scala",
   "pygments_lexer": "scala",
   "version": "0.4.1"
  }
 },
 "nbformat": 4,
 "nbformat_minor": 2
}
