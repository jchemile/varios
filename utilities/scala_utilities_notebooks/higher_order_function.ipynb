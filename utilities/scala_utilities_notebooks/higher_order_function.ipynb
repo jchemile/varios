{
 "cells": [
  {
   "cell_type": "code",
   "execution_count": 1,
   "metadata": {},
   "outputs": [
    {
     "name": "stdout",
     "output_type": "stream",
     "text": [
      "Starting Spark application\n"
     ]
    },
    {
     "data": {
      "text/html": [
       "<table>\n",
       "<tr><th>ID</th><th>YARN Application ID</th><th>Kind</th><th>State</th><th>Spark UI</th><th>Driver log</th><th>Current session?</th></tr><tr><td>178</td><td>application_1553135043314_0179</td><td>spark</td><td>idle</td><td><a target=\"_blank\" href=\"https://sparkmlb.azurehdinsight.net/yarnui/hn/proxy/application_1553135043314_0179/\">Link</a></td><td><a target=\"_blank\" href=\"http://wn7-sparkm.q33fbvhpxvyuni0y4g53g3xvyg.bx.internal.cloudapp.net:30060/node/containerlogs/container_e04_1553135043314_0179_01_000001/livy\">Link</a></td><td>✔</td></tr></table>"
      ],
      "text/plain": [
       "<IPython.core.display.HTML object>"
      ]
     },
     "metadata": {},
     "output_type": "display_data"
    },
    {
     "name": "stdout",
     "output_type": "stream",
     "text": [
      "SparkSession available as 'spark'.\n",
      "Start"
     ]
    }
   ],
   "source": [
    "println(\"Start\")"
   ]
  },
  {
   "cell_type": "code",
   "execution_count": 3,
   "metadata": {},
   "outputs": [
    {
     "name": "stdout",
     "output_type": "stream",
     "text": [
      "sumInts: (a: Int, b: Int)Int"
     ]
    }
   ],
   "source": [
    "def sumInts(a: Int, b: Int): Int ={\n",
    "    if (a > b) 0 else a + sumInts(a+1,b)\n",
    "}"
   ]
  },
  {
   "cell_type": "code",
   "execution_count": 4,
   "metadata": {},
   "outputs": [
    {
     "name": "stdout",
     "output_type": "stream",
     "text": [
      "cube: (x: Int)Int"
     ]
    }
   ],
   "source": [
    "def cube(x: Int): Int = x*x*x"
   ]
  },
  {
   "cell_type": "code",
   "execution_count": 5,
   "metadata": {},
   "outputs": [
    {
     "name": "stdout",
     "output_type": "stream",
     "text": [
      "sumCubes: (a: Int, b: Int)Int"
     ]
    }
   ],
   "source": [
    "def sumCubes(a:Int, b:Int): Int ={\n",
    "    if (a>b) 0 else cube(a) + sumCubes(a+1,b)\n",
    "}"
   ]
  },
  {
   "cell_type": "markdown",
   "metadata": {},
   "source": [
    "# Summing with Higher-Order Functions"
   ]
  },
  {
   "cell_type": "code",
   "execution_count": 7,
   "metadata": {},
   "outputs": [
    {
     "name": "stdout",
     "output_type": "stream",
     "text": [
      "sum: (f: Int => Int, a: Int, b: Int)Int"
     ]
    }
   ],
   "source": [
    "def sum(f: Int => Int, a: Int, b:Int): Int ={\n",
    "    if(a>b) 0 else f(a) + sum(f,a+1,b)\n",
    "}\n",
    "    "
   ]
  },
  {
   "cell_type": "code",
   "execution_count": 9,
   "metadata": {},
   "outputs": [
    {
     "name": "stdout",
     "output_type": "stream",
     "text": [
      "fact: (x: Int)Int"
     ]
    }
   ],
   "source": [
    "def id(x: Int): Int = x\n",
    "def cube(x: Int): Int = x *x *x\n",
    "def fact(x: Int): Int = if(x == 0) 1 else fact(x-1)"
   ]
  },
  {
   "cell_type": "code",
   "execution_count": 10,
   "metadata": {},
   "outputs": [
    {
     "name": "stdout",
     "output_type": "stream",
     "text": [
      "sumFactorials: (a: Int, b: Int)Int"
     ]
    }
   ],
   "source": [
    "def sumInts(a:Int, b: Int) = sum(id, a, b)\n",
    "def sumCubes(a: Int, b: Int) = sum(cube,a,b)\n",
    "def sumFactorials(a: Int, b:Int) = sum(fact,a,b)"
   ]
  },
  {
   "cell_type": "markdown",
   "metadata": {},
   "source": [
    "# Anonymous Function"
   ]
  },
  {
   "cell_type": "markdown",
   "metadata": {},
   "source": [
    "Anonymous Functions are Sintactic Sugar"
   ]
  },
  {
   "cell_type": "code",
   "execution_count": 11,
   "metadata": {},
   "outputs": [
    {
     "name": "stdout",
     "output_type": "stream",
     "text": [
      "sumInts: (a: Int, b: Int)Int"
     ]
    }
   ],
   "source": [
    "def sumInts(a: Int, b:Int) = sum(x => x, a, b)"
   ]
  },
  {
   "cell_type": "code",
   "execution_count": 12,
   "metadata": {},
   "outputs": [
    {
     "name": "stdout",
     "output_type": "stream",
     "text": [
      "sumCubes: (a: Int, b: Int)Int"
     ]
    }
   ],
   "source": [
    "def sumCubes(a: Int, b:Int) = sum(x => x * x* x, a, b)"
   ]
  },
  {
   "cell_type": "markdown",
   "metadata": {},
   "source": [
    "# Tail-recursive Function"
   ]
  },
  {
   "cell_type": "code",
   "execution_count": 17,
   "metadata": {},
   "outputs": [
    {
     "name": "stdout",
     "output_type": "stream",
     "text": [
      "sum: (f: Int => Int, a: Int, b: Int)Int"
     ]
    }
   ],
   "source": [
    "def sum(f: Int => Int, a:Int, b:Int): Int = {\n",
    "    \n",
    "    def loop(a: Int, acc: Int): Int = {\n",
    "        if (a > b) acc else loop(a+1, f(a)+acc)\n",
    "    } \n",
    "    loop(a, 0)\n",
    "}"
   ]
  },
  {
   "cell_type": "code",
   "execution_count": 20,
   "metadata": {},
   "outputs": [
    {
     "name": "stdout",
     "output_type": "stream",
     "text": [
      "res4: Int = 55"
     ]
    }
   ],
   "source": [
    "sum(x => x,1,10 )"
   ]
  },
  {
   "cell_type": "code",
   "execution_count": null,
   "metadata": {},
   "outputs": [],
   "source": []
  }
 ],
 "metadata": {
  "kernelspec": {
   "display_name": "Spark",
   "language": "",
   "name": "sparkkernel"
  },
  "language_info": {
   "codemirror_mode": "text/x-scala",
   "mimetype": "text/x-scala",
   "name": "scala",
   "pygments_lexer": "scala"
  }
 },
 "nbformat": 4,
 "nbformat_minor": 2
}
