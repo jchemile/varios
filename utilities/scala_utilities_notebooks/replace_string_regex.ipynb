{
 "cells": [
  {
   "cell_type": "code",
   "execution_count": 1,
   "metadata": {},
   "outputs": [
    {
     "name": "stdout",
     "output_type": "stream",
     "text": [
      "Starting Spark application\n"
     ]
    },
    {
     "data": {
      "text/html": [
       "<table>\n",
       "<tr><th>ID</th><th>YARN Application ID</th><th>Kind</th><th>State</th><th>Spark UI</th><th>Driver log</th><th>Current session?</th></tr><tr><td>89</td><td>application_1553135043314_0090</td><td>spark</td><td>idle</td><td><a target=\"_blank\" href=\"https://sparkmlb.azurehdinsight.net/yarnui/hn/proxy/application_1553135043314_0090/\">Link</a></td><td><a target=\"_blank\" href=\"http://wn4-sparkm.q33fbvhpxvyuni0y4g53g3xvyg.bx.internal.cloudapp.net:30060/node/containerlogs/container_e04_1553135043314_0090_01_000001/livy\">Link</a></td><td>✔</td></tr></table>"
      ],
      "text/plain": [
       "<IPython.core.display.HTML object>"
      ]
     },
     "metadata": {},
     "output_type": "display_data"
    },
    {
     "name": "stdout",
     "output_type": "stream",
     "text": [
      "SparkSession available as 'spark'.\n",
      "Start"
     ]
    }
   ],
   "source": [
    "println(\"Start\")"
   ]
  },
  {
   "cell_type": "code",
   "execution_count": 2,
   "metadata": {},
   "outputs": [
    {
     "name": "stdout",
     "output_type": "stream",
     "text": [
      "import org.apache.spark.sql.functions._"
     ]
    }
   ],
   "source": [
    "import spark.implicits._\n",
    "import org.apache.spark.sql.functions._"
   ]
  },
  {
   "cell_type": "code",
   "execution_count": 3,
   "metadata": {},
   "outputs": [
    {
     "name": "stdout",
     "output_type": "stream",
     "text": [
      "df: org.apache.spark.sql.DataFrame = [mycol: string]"
     ]
    }
   ],
   "source": [
    "val df = Seq(\"12 https://jhafi.com xyza@gmail.com\",\n",
    "  \"12 https://jhafi.com xyza@gmail.com\",\n",
    "  \"12 https://jhafi.com xyza@gmail.com\",\n",
    "  \"12 https://jhafi.com xyza@gmail.com\").toDF(\"mycol\")"
   ]
  },
  {
   "cell_type": "code",
   "execution_count": 5,
   "metadata": {},
   "outputs": [
    {
     "name": "stdout",
     "output_type": "stream",
     "text": [
      "+--------------------+\n",
      "|               mycol|\n",
      "+--------------------+\n",
      "|12 https://jhafi....|\n",
      "|12 https://jhafi....|\n",
      "|12 https://jhafi....|\n",
      "|12 https://jhafi....|\n",
      "+--------------------+"
     ]
    }
   ],
   "source": [
    "df.show()"
   ]
  },
  {
   "cell_type": "code",
   "execution_count": 6,
   "metadata": {},
   "outputs": [
    {
     "name": "stdout",
     "output_type": "stream",
     "text": [
      "+------------------------+\n",
      "|mycol                   |\n",
      "+------------------------+\n",
      "|12 PHTEXTURL PHTEXTEMAIL|\n",
      "|12 PHTEXTURL PHTEXTEMAIL|\n",
      "|12 PHTEXTURL PHTEXTEMAIL|\n",
      "|12 PHTEXTURL PHTEXTEMAIL|\n",
      "+------------------------+"
     ]
    }
   ],
   "source": [
    "val email = \"\"\"(?i)\\b[A-Z0-9._%+-]+@[A-Z0-9.-]+\\.[A-Z]{2,4}\\b\"\"\"\n",
    "val url =\"(https?:\\\\/\\\\/(?:www\\\\.|(?!www))[a-zA-Z0-9][a-zA-Z0-9-]+[a-zA-Z0-9]\\\\.[^\\\\s]{2,}|www\\\\.[a-zA-Z0-9][a-zA-Z0-9-]+[a-zA-Z0-9]\\\\.[^\\\\s]{2,}|https?:\\\\/\\\\/(?:www\\\\.|(?!www))[a-zA-Z0-9]+\\\\.[^\\\\s]{2,}|www\\\\.[a-zA-Z0-9]+\\\\.[^\\\\s]{2,})\"\n",
    "\n",
    "val urlRegexExpression = regexp_replace($\"mycol\", url, \"PHTEXTURL\")\n",
    "val emailRegexExpression = regexp_replace($\"mycol\", email, \"PHTEXTEMAIL\")\n",
    "\n",
    "df.withColumn(\"mycol\", emailRegexExpression).withColumn(\"mycol\", urlRegexExpression).show(false)"
   ]
  },
  {
   "cell_type": "code",
   "execution_count": null,
   "metadata": {},
   "outputs": [],
   "source": []
  }
 ],
 "metadata": {
  "kernelspec": {
   "display_name": "Spark",
   "language": "",
   "name": "sparkkernel"
  },
  "language_info": {
   "codemirror_mode": "text/x-scala",
   "mimetype": "text/x-scala",
   "name": "scala",
   "pygments_lexer": "scala"
  }
 },
 "nbformat": 4,
 "nbformat_minor": 2
}
