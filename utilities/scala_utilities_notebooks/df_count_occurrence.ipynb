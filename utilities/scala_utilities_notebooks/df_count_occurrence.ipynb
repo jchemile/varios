{
 "cells": [
  {
   "cell_type": "code",
   "execution_count": 1,
   "metadata": {},
   "outputs": [
    {
     "data": {
      "text/plain": [
       "Intitializing Scala interpreter ..."
      ]
     },
     "metadata": {},
     "output_type": "display_data"
    },
    {
     "data": {
      "text/plain": [
       "Spark Web UI available at http://LAPTOP-D4GN0MQF:4051\n",
       "SparkContext available as 'sc' (version = 2.3.0, master = local[*], app id = local-1564583771117)\n",
       "SparkSession available as 'spark'\n"
      ]
     },
     "metadata": {},
     "output_type": "display_data"
    },
    {
     "name": "stdout",
     "output_type": "stream",
     "text": [
      "Start\n"
     ]
    }
   ],
   "source": [
    "println(\"Start\")"
   ]
  },
  {
   "cell_type": "code",
   "execution_count": 7,
   "metadata": {},
   "outputs": [
    {
     "name": "stdout",
     "output_type": "stream",
     "text": [
      "df: org.apache.spark.sql.DataFrame = [id: int, date: string ... 1 more field]"
     ]
    }
   ],
   "source": [
    "val df = Seq(\n",
    "  (1, \"4/8/2019\", \"CLM***120379893***John***CLM***Smith***blablabla**so..on…\"),\n",
    "  (2, \"4/8/2019\", \"CLM***120379093***John***CLM***Smith***CLM***blablabla**so..on…\"),\n",
    "  (3, \"4/8/2019\", \"CLM***139979893***John***Smith***blablabla**so..on…\")\n",
    ").toDF(\"id\", \"date\", \"content\")"
   ]
  },
  {
   "cell_type": "code",
   "execution_count": 8,
   "metadata": {},
   "outputs": [
    {
     "name": "stdout",
     "output_type": "stream",
     "text": [
      "countAll: (pattern: String)org.apache.spark.sql.expressions.UserDefinedFunction"
     ]
    }
   ],
   "source": [
    "def countAll(pattern: String) = udf((s: String) => pattern.r.findAllIn(s).size)"
   ]
  },
  {
   "cell_type": "code",
   "execution_count": 9,
   "metadata": {},
   "outputs": [
    {
     "name": "stdout",
     "output_type": "stream",
     "text": [
      "+---+--------+--------------------+---------+\n",
      "| id|    date|             content|wordcount|\n",
      "+---+--------+--------------------+---------+\n",
      "|  1|4/8/2019|CLM***120379893**...|        2|\n",
      "|  2|4/8/2019|CLM***120379093**...|        3|\n",
      "|  3|4/8/2019|CLM***139979893**...|        1|\n",
      "+---+--------+--------------------+---------+"
     ]
    }
   ],
   "source": [
    "df.withColumn(\"wordcount\", countAll(\"CLM\")($\"content\")).show"
   ]
  }
 ],
 "metadata": {
  "kernelspec": {
   "display_name": "spylon-kernel",
   "language": "scala",
   "name": "spylon-kernel"
  },
  "language_info": {
   "codemirror_mode": "text/x-scala",
   "file_extension": ".scala",
   "help_links": [
    {
     "text": "MetaKernel Magics",
     "url": "https://metakernel.readthedocs.io/en/latest/source/README.html"
    }
   ],
   "mimetype": "text/x-scala",
   "name": "scala",
   "pygments_lexer": "scala",
   "version": "0.4.1"
  }
 },
 "nbformat": 4,
 "nbformat_minor": 2
}
