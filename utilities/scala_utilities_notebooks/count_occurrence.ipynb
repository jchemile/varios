{
 "cells": [
  {
   "cell_type": "code",
   "execution_count": 1,
   "metadata": {},
   "outputs": [
    {
     "name": "stdout",
     "output_type": "stream",
     "text": [
      "Starting Spark application\n"
     ]
    },
    {
     "data": {
      "text/html": [
       "<table>\n",
       "<tr><th>ID</th><th>YARN Application ID</th><th>Kind</th><th>State</th><th>Spark UI</th><th>Driver log</th><th>Current session?</th></tr><tr><td>74</td><td>application_1553135043314_0075</td><td>spark</td><td>idle</td><td><a target=\"_blank\" href=\"https://sparkmlb.azurehdinsight.net/yarnui/hn/proxy/application_1553135043314_0075/\">Link</a></td><td><a target=\"_blank\" href=\"http://wn0-sparkm.q33fbvhpxvyuni0y4g53g3xvyg.bx.internal.cloudapp.net:30060/node/containerlogs/container_e04_1553135043314_0075_01_000001/livy\">Link</a></td><td>✔</td></tr></table>"
      ],
      "text/plain": [
       "<IPython.core.display.HTML object>"
      ]
     },
     "metadata": {},
     "output_type": "display_data"
    },
    {
     "name": "stdout",
     "output_type": "stream",
     "text": [
      "SparkSession available as 'spark'.\n",
      "Start"
     ]
    }
   ],
   "source": [
    "println(\"Start\")"
   ]
  },
  {
   "cell_type": "code",
   "execution_count": 7,
   "metadata": {},
   "outputs": [
    {
     "name": "stdout",
     "output_type": "stream",
     "text": [
      "df: org.apache.spark.sql.DataFrame = [id: int, date: string ... 1 more field]"
     ]
    }
   ],
   "source": [
    "val df = Seq(\n",
    "  (1, \"4/8/2019\", \"CLM***120379893***John***CLM***Smith***blablabla**so..on…\"),\n",
    "  (2, \"4/8/2019\", \"CLM***120379093***John***CLM***Smith***CLM***blablabla**so..on…\"),\n",
    "  (3, \"4/8/2019\", \"CLM***139979893***John***Smith***blablabla**so..on…\")\n",
    ").toDF(\"id\", \"date\", \"content\")"
   ]
  },
  {
   "cell_type": "code",
   "execution_count": 8,
   "metadata": {},
   "outputs": [
    {
     "name": "stdout",
     "output_type": "stream",
     "text": [
      "countAll: (pattern: String)org.apache.spark.sql.expressions.UserDefinedFunction"
     ]
    }
   ],
   "source": [
    "def countAll(pattern: String) = udf((s: String) => pattern.r.findAllIn(s).size)"
   ]
  },
  {
   "cell_type": "code",
   "execution_count": 9,
   "metadata": {},
   "outputs": [
    {
     "name": "stdout",
     "output_type": "stream",
     "text": [
      "+---+--------+--------------------+---------+\n",
      "| id|    date|             content|wordcount|\n",
      "+---+--------+--------------------+---------+\n",
      "|  1|4/8/2019|CLM***120379893**...|        2|\n",
      "|  2|4/8/2019|CLM***120379093**...|        3|\n",
      "|  3|4/8/2019|CLM***139979893**...|        1|\n",
      "+---+--------+--------------------+---------+"
     ]
    }
   ],
   "source": [
    "df.withColumn(\"wordcount\", countAll(\"CLM\")($\"content\")).show"
   ]
  }
 ],
 "metadata": {
  "kernelspec": {
   "display_name": "Spark",
   "language": "",
   "name": "sparkkernel"
  },
  "language_info": {
   "codemirror_mode": "text/x-scala",
   "mimetype": "text/x-scala",
   "name": "scala",
   "pygments_lexer": "scala"
  }
 },
 "nbformat": 4,
 "nbformat_minor": 2
}
