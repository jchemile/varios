{
 "cells": [
  {
   "cell_type": "code",
   "execution_count": 1,
   "metadata": {},
   "outputs": [
    {
     "data": {
      "text/plain": [
       "Intitializing Scala interpreter ..."
      ]
     },
     "metadata": {},
     "output_type": "display_data"
    },
    {
     "data": {
      "text/plain": [
       "Spark Web UI available at http://LAPTOP-D4GN0MQF:4049\n",
       "SparkContext available as 'sc' (version = 2.3.0, master = local[*], app id = local-1564583438494)\n",
       "SparkSession available as 'spark'\n"
      ]
     },
     "metadata": {},
     "output_type": "display_data"
    },
    {
     "name": "stdout",
     "output_type": "stream",
     "text": [
      "Start\n"
     ]
    }
   ],
   "source": [
    "println(\"Start\")"
   ]
  },
  {
   "cell_type": "code",
   "execution_count": 2,
   "metadata": {},
   "outputs": [
    {
     "data": {
      "text/plain": [
       "left: org.apache.spark.sql.DataFrame = [id: int, left: string]\r\n",
       "right: org.apache.spark.sql.DataFrame = [id: int, right: string]\n"
      ]
     },
     "execution_count": 2,
     "metadata": {},
     "output_type": "execute_result"
    }
   ],
   "source": [
    "val left = Seq((0, \"zero\"), (1, \"one\")).toDF(\"id\", \"left\")\n",
    "val right = Seq((0, \"zero\"), (2, \"two\"), (3, \"three\")).toDF(\"id\", \"right\")"
   ]
  },
  {
   "cell_type": "code",
   "execution_count": 3,
   "metadata": {},
   "outputs": [
    {
     "name": "stdout",
     "output_type": "stream",
     "text": [
      "+---+----+\n",
      "| id|left|\n",
      "+---+----+\n",
      "|  0|zero|\n",
      "|  1| one|\n",
      "+---+----+\n",
      "\n"
     ]
    }
   ],
   "source": [
    "left.show"
   ]
  },
  {
   "cell_type": "code",
   "execution_count": 4,
   "metadata": {},
   "outputs": [
    {
     "name": "stdout",
     "output_type": "stream",
     "text": [
      "+---+-----+\n",
      "| id|right|\n",
      "+---+-----+\n",
      "|  0| zero|\n",
      "|  2|  two|\n",
      "|  3|three|\n",
      "+---+-----+\n",
      "\n"
     ]
    }
   ],
   "source": [
    "right.show"
   ]
  },
  {
   "cell_type": "code",
   "execution_count": 5,
   "metadata": {},
   "outputs": [
    {
     "name": "stdout",
     "output_type": "stream",
     "text": [
      "+---+----+-----+\n",
      "| id|left|right|\n",
      "+---+----+-----+\n",
      "|  0|zero| zero|\n",
      "+---+----+-----+\n",
      "\n"
     ]
    }
   ],
   "source": [
    "left.join(right, \"id\").show"
   ]
  },
  {
   "cell_type": "code",
   "execution_count": null,
   "metadata": {},
   "outputs": [],
   "source": []
  }
 ],
 "metadata": {
  "kernelspec": {
   "display_name": "spylon-kernel",
   "language": "scala",
   "name": "spylon-kernel"
  },
  "language_info": {
   "codemirror_mode": "text/x-scala",
   "file_extension": ".scala",
   "help_links": [
    {
     "text": "MetaKernel Magics",
     "url": "https://metakernel.readthedocs.io/en/latest/source/README.html"
    }
   ],
   "mimetype": "text/x-scala",
   "name": "scala",
   "pygments_lexer": "scala",
   "version": "0.4.1"
  }
 },
 "nbformat": 4,
 "nbformat_minor": 2
}
