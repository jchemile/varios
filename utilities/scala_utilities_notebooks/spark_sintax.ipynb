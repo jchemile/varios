{
 "cells": [
  {
   "cell_type": "code",
   "execution_count": 4,
   "metadata": {},
   "outputs": [
    {
     "name": "stdout",
     "output_type": "stream",
     "text": [
      "defined object StartSpark"
     ]
    }
   ],
   "source": [
    "object StartSpark{}"
   ]
  },
  {
   "cell_type": "markdown",
   "metadata": {},
   "source": [
    "Spark tutorial: https://data-flair.training/blogs/apache-spark-sql-dataframe-tutorial/"
   ]
  },
  {
   "cell_type": "markdown",
   "metadata": {},
   "source": [
    "# Create a Data Frame"
   ]
  },
  {
   "cell_type": "markdown",
   "metadata": {},
   "source": [
    "<font color ='red' >Cómo importo los módulos creados de en el proyecto en el Notebook <font>"
   ]
  },
  {
   "cell_type": "code",
   "execution_count": 5,
   "metadata": {},
   "outputs": [
    {
     "name": "stdout",
     "output_type": "stream",
     "text": [
      "import org.joda.time.DateTime\n",
      "warning: Class org.joda.convert.FromString not found - continuing with a stub."
     ]
    }
   ],
   "source": [
    "import org.apache.spark.sql.{DataFrame, SparkSession}\n",
    "import org.apache.spark.sql.types.{DoubleType, LongType, StringType, IntegerType}\n",
    "import org.joda.time.DateTime"
   ]
  },
  {
   "cell_type": "markdown",
   "metadata": {},
   "source": [
    "Ejemplo tomado de: http://www.diegocalvo.es/dataframes-en-scala/"
   ]
  },
  {
   "cell_type": "code",
   "execution_count": 8,
   "metadata": {},
   "outputs": [
    {
     "name": "stdout",
     "output_type": "stream",
     "text": [
      "+----+---+---+\n",
      "|   A|  B|  C|\n",
      "+----+---+---+\n",
      "|Paco|  1|  5|\n",
      "|Sara|  2|  6|\n",
      "|Flor|  3|  7|\n",
      "|Rosa|  4|  8|\n",
      "+----+---+---+"
     ]
    }
   ],
   "source": [
    "val A = List(\"Paco\",\"Sara\",\"Flor\",\"Rosa\")\n",
    "val B = List(1,2,3,4)\n",
    "val C = List(5,6,7,8)\n",
    "\n",
    "val zip = A.zip(B).zip(C)\n",
    "val tup = zip.map{case ((w,x),y)=>(w,x,y)}\n",
    "val df = tup.toDF(\"A\",\"B\",\"C\")\n",
    "df.show"
   ]
  },
  {
   "cell_type": "code",
   "execution_count": 15,
   "metadata": {},
   "outputs": [
    {
     "name": "stderr",
     "output_type": "stream",
     "text": [
      "<console>:32: error: object mrpowers is not a member of package com.github\n",
      "       import com.github.mrpowers.spark.daria.sql.SparkSessionExt._\n",
      "                         ^\n"
     ]
    }
   ],
   "source": [
    "import org.apache.spark.sql.DataFrame\n",
    "import org.apache.spark.sql.types.{LongType, StringType}\n",
    "import com.github.mrpowers.spark.daria.sql.SparkSessionExt._\n",
    "\n",
    "val regularDf = spark.createDF(\n",
    "      List((\"MLA1234\", 3L, 2.0D, \"MLA1000\", \"20190319\")),\n",
    "      List(\n",
    "        (\"year\", StringType, true),\n",
    "        (\"month\", StringType, true),\n",
    "        (\"category_id\", StringType, true),\n",
    "        (\"sold_quantity\", LongType, true)\n",
    "      )\n",
    "    )"
   ]
  },
  {
   "cell_type": "code",
   "execution_count": 14,
   "metadata": {},
   "outputs": [
    {
     "name": "stderr",
     "output_type": "stream",
     "text": [
      "<console>:29: error: object mrpowers is not a member of package com.github\n",
      "       import com.github.mrpowers.spark.daria.sql.functions._\n",
      "                         ^\n"
     ]
    }
   ],
   "source": [
    "import com.github.mrpowers.spark.daria.sql.functions._"
   ]
  },
  {
   "cell_type": "code",
   "execution_count": 17,
   "metadata": {},
   "outputs": [
    {
     "name": "stderr",
     "output_type": "stream",
     "text": [
      "<console>:1: error: '.' expected but identifier found.\n",
      "import C:\\Users\\Joaquin Chemile\\Documents\\meli-publicsales-delta\\src\\main\\scala\\com\\nubimetrics\\data\\meli\\publicsales\\readers\n",
      "        ^\n"
     ]
    }
   ],
   "source": [
    "import C:\\Users\\Joaquin Chemile\\Documents\\meli-publicsales-delta\\src\\main\\scala\\com\\nubimetrics\\data\\meli\\publicsales\\readers"
   ]
  },
  {
   "cell_type": "code",
   "execution_count": 20,
   "metadata": {},
   "outputs": [
    {
     "name": "stderr",
     "output_type": "stream",
     "text": [
      "<console>:36: error: not found: value load\n",
      "       load.ivy(\"com.chuusai\" %% \"shapeless\" % \"2.2.0-RC6\")\n",
      "       ^\n",
      "<console>:36: error: value %% is not a member of String\n",
      "       load.ivy(\"com.chuusai\" %% \"shapeless\" % \"2.2.0-RC6\")\n",
      "                              ^\n"
     ]
    }
   ],
   "source": [
    "load.ivy(\"com.chuusai\" %% \"shapeless\" % \"2.2.0-RC6\")"
   ]
  },
  {
   "cell_type": "code",
   "execution_count": 25,
   "metadata": {},
   "outputs": [
    {
     "name": "stderr",
     "output_type": "stream",
     "text": [
      "incomplete statement\n",
      "\n"
     ]
    }
   ],
   "source": [
    "import $ivy"
   ]
  },
  {
   "cell_type": "code",
   "execution_count": 26,
   "metadata": {},
   "outputs": [
    {
     "name": "stderr",
     "output_type": "stream",
     "text": [
      "<console>:36: error: not found: value load\n",
      "       load.ivy(\"com.chuusai\" %% \"shapeless\" % \"2.2.0-RC6\")\n",
      "       ^\n",
      "<console>:36: error: value %% is not a member of String\n",
      "       load.ivy(\"com.chuusai\" %% \"shapeless\" % \"2.2.0-RC6\")\n",
      "                              ^\n"
     ]
    }
   ],
   "source": [
    "load.ivy(\"com.chuusai\" %% \"shapeless\" % \"2.2.0-RC6\")"
   ]
  },
  {
   "cell_type": "code",
   "execution_count": null,
   "metadata": {},
   "outputs": [],
   "source": []
  }
 ],
 "metadata": {
  "kernelspec": {
   "display_name": "Spark",
   "language": "",
   "name": "sparkkernel"
  },
  "language_info": {
   "codemirror_mode": "text/x-scala",
   "mimetype": "text/x-scala",
   "name": "scala",
   "pygments_lexer": "scala"
  }
 },
 "nbformat": 4,
 "nbformat_minor": 2
}
