{
 "cells": [
  {
   "cell_type": "code",
   "execution_count": 1,
   "metadata": {},
   "outputs": [
    {
     "data": {
      "text/plain": [
       "Intitializing Scala interpreter ..."
      ]
     },
     "metadata": {},
     "output_type": "display_data"
    },
    {
     "data": {
      "text/plain": [
       "Spark Web UI available at http://LAPTOP-D4GN0MQF:4042\n",
       "SparkContext available as 'sc' (version = 2.3.0, master = local[*], app id = local-1565719747321)\n",
       "SparkSession available as 'spark'\n"
      ]
     },
     "metadata": {},
     "output_type": "display_data"
    },
    {
     "name": "stdout",
     "output_type": "stream",
     "text": [
      "start\n"
     ]
    }
   ],
   "source": [
    "println(\"start\")"
   ]
  },
  {
   "cell_type": "markdown",
   "metadata": {},
   "source": [
    "# Imports"
   ]
  },
  {
   "cell_type": "code",
   "execution_count": 13,
   "metadata": {},
   "outputs": [
    {
     "data": {
      "text/plain": [
       "import org.apache.spark.sql.Row\r\n",
       "import org.apache.spark.sql.types.StructType\r\n",
       "import spark.implicits._\n"
      ]
     },
     "execution_count": 13,
     "metadata": {},
     "output_type": "execute_result"
    }
   ],
   "source": [
    "import org.apache.spark.sql.Row\n",
    "import org.apache.spark.sql.types.StructType\n",
    "import spark.implicits._"
   ]
  },
  {
   "cell_type": "code",
   "execution_count": null,
   "metadata": {},
   "outputs": [],
   "source": []
  },
  {
   "cell_type": "code",
   "execution_count": 8,
   "metadata": {},
   "outputs": [
    {
     "data": {
      "text/plain": [
       "a: org.apache.spark.sql.DataFrame = [dept_no: string, emp_name: string ... 2 more fields]\n"
      ]
     },
     "execution_count": 8,
     "metadata": {},
     "output_type": "execute_result"
    }
   ],
   "source": [
    "val a = Seq(\n",
    "            (\"10\", \"MILLER\", \"1300\", \"2017-11-03\"),\n",
    "            (\"30\", \"Martin\", \"1250\", \"2017-11-21\")\n",
    "           ).toDF(\"dept_no\",\"emp_name\",\"sal\",\"date\")"
   ]
  },
  {
   "cell_type": "code",
   "execution_count": 9,
   "metadata": {},
   "outputs": [
    {
     "name": "stdout",
     "output_type": "stream",
     "text": [
      "+-------+--------+----+----------+\n",
      "|dept_no|emp_name| sal|      date|\n",
      "+-------+--------+----+----------+\n",
      "|     10|  MILLER|1300|2017-11-03|\n",
      "|     30|  Martin|1250|2017-11-21|\n",
      "+-------+--------+----+----------+\n",
      "\n"
     ]
    }
   ],
   "source": [
    "a.show"
   ]
  },
  {
   "cell_type": "code",
   "execution_count": 10,
   "metadata": {},
   "outputs": [
    {
     "data": {
      "text/plain": [
       "lst: org.apache.spark.sql.DataFrame = [value: string]\n"
      ]
     },
     "execution_count": 10,
     "metadata": {},
     "output_type": "execute_result"
    }
   ],
   "source": [
    "val lst = List(\"10\", \"Susan\").toDF"
   ]
  },
  {
   "cell_type": "code",
   "execution_count": 11,
   "metadata": {},
   "outputs": [
    {
     "data": {
      "text/plain": [
       "data: org.apache.spark.rdd.RDD[org.apache.spark.sql.Row] = MapPartitionsRDD[9] at map at <console>:30\r\n",
       "schema: org.apache.spark.sql.types.StructType = StructType(StructField(dept_no,StringType,true), StructField(emp_name,StringType,true), StructField(sal,StringType,true), StructField(date,StringType,true), StructField(value,StringType,true))\r\n",
       "solution: org.apache.spark.sql.DataFrame = [dept_no: string, emp_name: string ... 3 more fields]\n"
      ]
     },
     "execution_count": 11,
     "metadata": {},
     "output_type": "execute_result"
    }
   ],
   "source": [
    "val data = a.rdd.zip(lst.rdd).map { case (l, r) => Row.fromSeq(l.toSeq ++ r.toSeq) }\n",
    "val schema = StructType(a.schema.fields ++ lst.schema.fields)\n",
    "val solution = spark.createDataFrame(data, schema)"
   ]
  },
  {
   "cell_type": "code",
   "execution_count": 12,
   "metadata": {},
   "outputs": [
    {
     "name": "stdout",
     "output_type": "stream",
     "text": [
      "+-------+--------+----+----------+-----+\n",
      "|dept_no|emp_name| sal|      date|value|\n",
      "+-------+--------+----+----------+-----+\n",
      "|     10|  MILLER|1300|2017-11-03|   10|\n",
      "|     30|  Martin|1250|2017-11-21|Susan|\n",
      "+-------+--------+----+----------+-----+\n",
      "\n"
     ]
    }
   ],
   "source": [
    "solution.show"
   ]
  },
  {
   "cell_type": "markdown",
   "metadata": {},
   "source": [
    "Apply function on column based on a different column value"
   ]
  },
  {
   "cell_type": "code",
   "execution_count": 15,
   "metadata": {},
   "outputs": [
    {
     "data": {
      "text/plain": [
       "df: org.apache.spark.sql.DataFrame = [TAG: string, Timestamp: string ... 1 more field]\n"
      ]
     },
     "execution_count": 15,
     "metadata": {},
     "output_type": "execute_result"
    }
   ],
   "source": [
    "var df = Seq(\n",
    "  (\"TAG1\", \"2019-06-21 01:16:00.0\",621.0947),\n",
    "  (\"TAG1\", \"2019-06-21 01:16:00.0\",621.0947),\n",
    "  (\"TAG1\", \"2019-06-21 01:16:00.0\",621.0947),\n",
    "  (\"TAG1\", \"2019-06-21 01:16:00.0\",619.9578),\n",
    "  (\"TAG2\", \"2019-06-21 01:29:00.0\",767.5475),\n",
    "  (\"TAG2\", \"2019-06-21 01:29:00.0\",768.9506),\n",
    "  (\"TAG2\", \"2019-06-21 01:29:00.0\",770.8863), //Map(Tag1 -> avg, Tag2 -> max, Tag3 -> min)\n",
    "  (\"TAG3\", \"2019-06-21 01:16:00.0\",203.7457)).toDF(\"TAG\",\"Timestamp\",\"Value\")"
   ]
  },
  {
   "cell_type": "code",
   "execution_count": 38,
   "metadata": {},
   "outputs": [
    {
     "data": {
      "text/plain": [
       "dif_aggregation: org.apache.spark.sql.DataFrame = [TAG: string, Timestamp: string ... 1 more field]\n"
      ]
     },
     "execution_count": 38,
     "metadata": {},
     "output_type": "execute_result"
    }
   ],
   "source": [
    "val dif_aggregation = df.groupBy(\n",
    "    \"TAG\", \"Timestamp\"\n",
    ").agg(\n",
    "    when(\n",
    "        col(\"TAG\") === \"TAG1\", avg(\"Value\")\n",
    "    ).otherwise(\n",
    "        when(col(\"TAG\") === \"TAG2\", max(\"Value\")).otherwise(min(\"Value\"))\n",
    "    ).as(\"Value\"))"
   ]
  },
  {
   "cell_type": "code",
   "execution_count": 39,
   "metadata": {},
   "outputs": [
    {
     "name": "stdout",
     "output_type": "stream",
     "text": [
      "+----+--------------------+----------+\n",
      "| TAG|           Timestamp|     Value|\n",
      "+----+--------------------+----------+\n",
      "|TAG3|2019-06-21 01:16:...|  203.7457|\n",
      "|TAG1|2019-06-21 01:16:...|620.810475|\n",
      "|TAG2|2019-06-21 01:29:...|  770.8863|\n",
      "+----+--------------------+----------+\n",
      "\n"
     ]
    }
   ],
   "source": [
    "dif_aggregation.show"
   ]
  },
  {
   "cell_type": "code",
   "execution_count": 33,
   "metadata": {},
   "outputs": [
    {
     "data": {
      "text/plain": [
       "res7: org.apache.spark.sql.DataFrame = [TAG: string, Timestamp: string ... 1 more field]\n"
      ]
     },
     "execution_count": 33,
     "metadata": {},
     "output_type": "execute_result"
    }
   ],
   "source": []
  },
  {
   "cell_type": "code",
   "execution_count": null,
   "metadata": {},
   "outputs": [],
   "source": []
  }
 ],
 "metadata": {
  "kernelspec": {
   "display_name": "spylon-kernel",
   "language": "scala",
   "name": "spylon-kernel"
  },
  "language_info": {
   "codemirror_mode": "text/x-scala",
   "file_extension": ".scala",
   "help_links": [
    {
     "text": "MetaKernel Magics",
     "url": "https://metakernel.readthedocs.io/en/latest/source/README.html"
    }
   ],
   "mimetype": "text/x-scala",
   "name": "scala",
   "pygments_lexer": "scala",
   "version": "0.4.1"
  }
 },
 "nbformat": 4,
 "nbformat_minor": 2
}
