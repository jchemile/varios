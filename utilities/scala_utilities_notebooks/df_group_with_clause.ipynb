{
 "cells": [
  {
   "cell_type": "code",
   "execution_count": 1,
   "metadata": {},
   "outputs": [
    {
     "data": {
      "text/plain": [
       "Intitializing Scala interpreter ..."
      ]
     },
     "metadata": {},
     "output_type": "display_data"
    },
    {
     "data": {
      "text/plain": [
       "Spark Web UI available at http://LAPTOP-D4GN0MQF:4050\n",
       "SparkContext available as 'sc' (version = 2.3.0, master = local[*], app id = local-1564583705191)\n",
       "SparkSession available as 'spark'\n"
      ]
     },
     "metadata": {},
     "output_type": "display_data"
    },
    {
     "name": "stdout",
     "output_type": "stream",
     "text": [
      "start\n"
     ]
    }
   ],
   "source": [
    "println(\"start\")"
   ]
  },
  {
   "cell_type": "code",
   "execution_count": 2,
   "metadata": {},
   "outputs": [
    {
     "name": "stdout",
     "output_type": "stream",
     "text": [
      "a: org.apache.spark.sql.DataFrame = [dept_no: string, emp_name: string ... 2 more fields]"
     ]
    }
   ],
   "source": [
    "val a = Seq(\n",
    "            (\"10\", \"MILLER\", \"1300\", \"2017-11-03\"),\n",
    "            (\"30\", \"Martin\", \"1250\", \"2017-11-21\")\n",
    "           ).toDF(\"dept_no\",\"emp_name\",\"sal\",\"date\")"
   ]
  },
  {
   "cell_type": "code",
   "execution_count": 3,
   "metadata": {},
   "outputs": [
    {
     "name": "stdout",
     "output_type": "stream",
     "text": [
      "+-------+--------+----+----------+\n",
      "|dept_no|emp_name| sal|      date|\n",
      "+-------+--------+----+----------+\n",
      "|     10|  MILLER|1300|2017-11-03|\n",
      "|     30|  Martin|1250|2017-11-21|\n",
      "+-------+--------+----+----------+"
     ]
    }
   ],
   "source": [
    "a.show"
   ]
  },
  {
   "cell_type": "code",
   "execution_count": 4,
   "metadata": {},
   "outputs": [
    {
     "name": "stdout",
     "output_type": "stream",
     "text": [
      "lst: org.apache.spark.sql.DataFrame = [value: string]"
     ]
    }
   ],
   "source": [
    "val lst = List(\"10\", \"Susan\").toDF"
   ]
  },
  {
   "cell_type": "code",
   "execution_count": 6,
   "metadata": {},
   "outputs": [
    {
     "name": "stdout",
     "output_type": "stream",
     "text": [
      "import org.apache.spark.sql.Row"
     ]
    }
   ],
   "source": [
    "import org.apache.spark.sql.Row"
   ]
  },
  {
   "cell_type": "code",
   "execution_count": 7,
   "metadata": {},
   "outputs": [
    {
     "name": "stdout",
     "output_type": "stream",
     "text": [
      "solution: org.apache.spark.sql.DataFrame = [dept_no: string, emp_name: string ... 3 more fields]"
     ]
    }
   ],
   "source": [
    "val data = a.rdd.zip(lst.rdd).map { case (l, r) => Row.fromSeq(l.toSeq ++ r.toSeq) }\n",
    "import org.apache.spark.sql.types.StructType\n",
    "val schema = StructType(a.schema.fields ++ lst.schema.fields)\n",
    "val solution = spark.createDataFrame(data, schema)"
   ]
  },
  {
   "cell_type": "code",
   "execution_count": 8,
   "metadata": {},
   "outputs": [
    {
     "name": "stdout",
     "output_type": "stream",
     "text": [
      "+-------+--------+----+----------+-----+\n",
      "|dept_no|emp_name| sal|      date|value|\n",
      "+-------+--------+----+----------+-----+\n",
      "|     10|  MILLER|1300|2017-11-03|   10|\n",
      "|     30|  Martin|1250|2017-11-21|Susan|\n",
      "+-------+--------+----+----------+-----+"
     ]
    }
   ],
   "source": [
    "solution.show"
   ]
  },
  {
   "cell_type": "code",
   "execution_count": null,
   "metadata": {},
   "outputs": [],
   "source": []
  }
 ],
 "metadata": {
  "kernelspec": {
   "display_name": "spylon-kernel",
   "language": "scala",
   "name": "spylon-kernel"
  },
  "language_info": {
   "codemirror_mode": "text/x-scala",
   "file_extension": ".scala",
   "help_links": [
    {
     "text": "MetaKernel Magics",
     "url": "https://metakernel.readthedocs.io/en/latest/source/README.html"
    }
   ],
   "mimetype": "text/x-scala",
   "name": "scala",
   "pygments_lexer": "scala",
   "version": "0.4.1"
  }
 },
 "nbformat": 4,
 "nbformat_minor": 2
}
