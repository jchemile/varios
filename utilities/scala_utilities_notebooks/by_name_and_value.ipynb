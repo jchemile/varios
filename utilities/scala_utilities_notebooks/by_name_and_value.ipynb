{
 "cells": [
  {
   "cell_type": "code",
   "execution_count": 1,
   "metadata": {},
   "outputs": [
    {
     "data": {
      "text/plain": [
       "Intitializing Scala interpreter ..."
      ]
     },
     "metadata": {},
     "output_type": "display_data"
    },
    {
     "data": {
      "text/plain": [
       "Spark Web UI available at http://LAPTOP-D4GN0MQF:4048\n",
       "SparkContext available as 'sc' (version = 2.3.0, master = local[*], app id = local-1564583231568)\n",
       "SparkSession available as 'spark'\n"
      ]
     },
     "metadata": {},
     "output_type": "display_data"
    },
    {
     "name": "stdout",
     "output_type": "stream",
     "text": [
      "Beginning\n"
     ]
    }
   ],
   "source": [
    "println(\"Beginning\")"
   ]
  },
  {
   "cell_type": "markdown",
   "metadata": {},
   "source": [
    "By Value"
   ]
  },
  {
   "cell_type": "code",
   "execution_count": 2,
   "metadata": {},
   "outputs": [
    {
     "name": "stdout",
     "output_type": "stream",
     "text": [
      "In time()\n",
      "Entered exec, calling t ...\n",
      "t = 416643828793565\n",
      "Calling t again ...\n",
      "416643828793565\n"
     ]
    },
    {
     "data": {
      "text/plain": [
       "time: ()Long\r\n",
       "exec: (t: Long)Long\n"
      ]
     },
     "execution_count": 2,
     "metadata": {},
     "output_type": "execute_result"
    }
   ],
   "source": [
    "def time(): Long = {\n",
    "  println(\"In time()\")\n",
    "   System.nanoTime\n",
    "  }\n",
    "\n",
    " def exec(t: Long): Long = {\n",
    "   println(\"Entered exec, calling t ...\")\n",
    "   println(\"t = \" + t)\n",
    "   println(\"Calling t again ...\")\n",
    "  t\n",
    "  }\n",
    "\n",
    " println(exec(time()))"
   ]
  },
  {
   "cell_type": "markdown",
   "metadata": {},
   "source": [
    "By Name"
   ]
  },
  {
   "cell_type": "code",
   "execution_count": 13,
   "metadata": {},
   "outputs": [
    {
     "name": "stdout",
     "output_type": "stream",
     "text": [
      "Entered exec, calling t ...\n",
      "Entered time() ...\n",
      "t = 12009337515353044\n",
      "Calling t again ...\n",
      "Entered time() ...\n",
      "12009337515380344"
     ]
    }
   ],
   "source": [
    " def time() = {\n",
    "   println(\"Entered time() ...\")\n",
    "   System.nanoTime\n",
    " }\n",
    "\n",
    " // `t` is now defined as a by-name parameter\n",
    " def exec(t: => Long) = {\n",
    "   println(\"Entered exec, calling t ...\")\n",
    "   println(\"t = \" + t)\n",
    "   println(\"Calling t again ...\")\n",
    "   t\n",
    " }\n",
    "\n",
    " println(exec(time()))"
   ]
  },
  {
   "cell_type": "code",
   "execution_count": null,
   "metadata": {},
   "outputs": [],
   "source": []
  }
 ],
 "metadata": {
  "kernelspec": {
   "display_name": "spylon-kernel",
   "language": "scala",
   "name": "spylon-kernel"
  },
  "language_info": {
   "codemirror_mode": "text/x-scala",
   "file_extension": ".scala",
   "help_links": [
    {
     "text": "MetaKernel Magics",
     "url": "https://metakernel.readthedocs.io/en/latest/source/README.html"
    }
   ],
   "mimetype": "text/x-scala",
   "name": "scala",
   "pygments_lexer": "scala",
   "version": "0.4.1"
  }
 },
 "nbformat": 4,
 "nbformat_minor": 2
}
