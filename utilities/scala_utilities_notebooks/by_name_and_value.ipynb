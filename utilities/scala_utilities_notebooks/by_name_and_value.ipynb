{
 "cells": [
  {
   "cell_type": "code",
   "execution_count": 1,
   "metadata": {},
   "outputs": [
    {
     "name": "stdout",
     "output_type": "stream",
     "text": [
      "Starting Spark application\n"
     ]
    },
    {
     "data": {
      "text/html": [
       "<table>\n",
       "<tr><th>ID</th><th>YARN Application ID</th><th>Kind</th><th>State</th><th>Spark UI</th><th>Driver log</th><th>Current session?</th></tr><tr><td>50</td><td>application_1553135043314_0051</td><td>spark</td><td>idle</td><td><a target=\"_blank\" href=\"https://sparkmlb.azurehdinsight.net/yarnui/hn/proxy/application_1553135043314_0051/\">Link</a></td><td><a target=\"_blank\" href=\"http://wn4-sparkm.q33fbvhpxvyuni0y4g53g3xvyg.bx.internal.cloudapp.net:30060/node/containerlogs/container_e04_1553135043314_0051_01_000001/livy\">Link</a></td><td>✔</td></tr></table>"
      ],
      "text/plain": [
       "<IPython.core.display.HTML object>"
      ]
     },
     "metadata": {},
     "output_type": "display_data"
    },
    {
     "name": "stdout",
     "output_type": "stream",
     "text": [
      "SparkSession available as 'spark'.\n",
      "Beginning"
     ]
    }
   ],
   "source": [
    "println(\"Beginning\")"
   ]
  },
  {
   "cell_type": "markdown",
   "metadata": {},
   "source": [
    "By Value"
   ]
  },
  {
   "cell_type": "code",
   "execution_count": 14,
   "metadata": {},
   "outputs": [
    {
     "name": "stdout",
     "output_type": "stream",
     "text": [
      "In time()\n",
      "Entered exec, calling t ...\n",
      "t = 12009383484838338\n",
      "Calling t again ...\n",
      "12009383484838338"
     ]
    }
   ],
   "source": [
    "def time(): Long = {\n",
    "  println(\"In time()\")\n",
    "   System.nanoTime\n",
    "  }\n",
    "\n",
    " def exec(t: Long): Long = {\n",
    "   println(\"Entered exec, calling t ...\")\n",
    "   println(\"t = \" + t)\n",
    "   println(\"Calling t again ...\")\n",
    "  t\n",
    "  }\n",
    "\n",
    " println(exec(time()))"
   ]
  },
  {
   "cell_type": "markdown",
   "metadata": {},
   "source": [
    "By Name"
   ]
  },
  {
   "cell_type": "code",
   "execution_count": 13,
   "metadata": {},
   "outputs": [
    {
     "name": "stdout",
     "output_type": "stream",
     "text": [
      "Entered exec, calling t ...\n",
      "Entered time() ...\n",
      "t = 12009337515353044\n",
      "Calling t again ...\n",
      "Entered time() ...\n",
      "12009337515380344"
     ]
    }
   ],
   "source": [
    " def time() = {\n",
    "   println(\"Entered time() ...\")\n",
    "   System.nanoTime\n",
    " }\n",
    "\n",
    " // `t` is now defined as a by-name parameter\n",
    " def exec(t: => Long) = {\n",
    "   println(\"Entered exec, calling t ...\")\n",
    "   println(\"t = \" + t)\n",
    "   println(\"Calling t again ...\")\n",
    "   t\n",
    " }\n",
    "\n",
    " println(exec(time()))"
   ]
  },
  {
   "cell_type": "code",
   "execution_count": null,
   "metadata": {},
   "outputs": [],
   "source": []
  }
 ],
 "metadata": {
  "kernelspec": {
   "display_name": "Spark",
   "language": "",
   "name": "sparkkernel"
  },
  "language_info": {
   "codemirror_mode": "text/x-scala",
   "mimetype": "text/x-scala",
   "name": "scala",
   "pygments_lexer": "scala"
  }
 },
 "nbformat": 4,
 "nbformat_minor": 2
}
