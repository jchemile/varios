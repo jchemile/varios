{
 "cells": [
  {
   "cell_type": "code",
   "execution_count": 16,
   "metadata": {},
   "outputs": [],
   "source": [
    "from datetime import datetime"
   ]
  },
  {
   "cell_type": "code",
   "execution_count": 49,
   "metadata": {},
   "outputs": [],
   "source": [
    "class Alumno:\n",
    "    def __init__(self, name, surname, bornDate, address, phone, email):\n",
    "        self.name = name\n",
    "        self.surname = surname\n",
    "        self.bornDate = bornDate\n",
    "        self.address = address\n",
    "        self.phone = phone\n",
    "        self.email = email\n",
    "        \n",
    "    def get_years(self):\n",
    "        today = datetime.now()\n",
    "        fecha = datetime.strptime(self.bornDate, \"%d/%m/%Y\")\n",
    "        years_old = ((today - fecha)/365).days       \n",
    "        return years_old\n",
    "        "
   ]
  },
  {
   "cell_type": "code",
   "execution_count": 50,
   "metadata": {},
   "outputs": [],
   "source": [
    "juanPerez = Alumno(\"Juan\", \"Perez\", \"08/07/1987\", \"Direccion falsa 1234\", \"1548688520\", \"juanperez@gmail.com\")"
   ]
  },
  {
   "cell_type": "code",
   "execution_count": 51,
   "metadata": {},
   "outputs": [],
   "source": [
    "juanPerez_years = juanPerez.get_years()"
   ]
  },
  {
   "cell_type": "code",
   "execution_count": 52,
   "metadata": {},
   "outputs": [
    {
     "name": "stdout",
     "output_type": "stream",
     "text": [
      "31\n"
     ]
    }
   ],
   "source": []
  },
  {
   "cell_type": "code",
   "execution_count": null,
   "metadata": {},
   "outputs": [],
   "source": []
  }
 ],
 "metadata": {
  "kernelspec": {
   "display_name": "Python 3",
   "language": "python",
   "name": "python3"
  },
  "language_info": {
   "codemirror_mode": {
    "name": "ipython",
    "version": 3
   },
   "file_extension": ".py",
   "mimetype": "text/x-python",
   "name": "python",
   "nbconvert_exporter": "python",
   "pygments_lexer": "ipython3",
   "version": "3.6.5"
  }
 },
 "nbformat": 4,
 "nbformat_minor": 2
}
