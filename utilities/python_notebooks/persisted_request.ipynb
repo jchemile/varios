{
 "cells": [
  {
   "cell_type": "code",
   "execution_count": 49,
   "metadata": {},
   "outputs": [],
   "source": [
    "#Manipulando la API de mercado libre:\n",
    "    #1: Obtener una lista de categorías por medio del método get\n",
    "    #2: Imprimirlas en la consola\n",
    "    #3: Guardar los los links obtenidos en un archivo de texto"
   ]
  },
  {
   "cell_type": "code",
   "execution_count": 50,
   "metadata": {},
   "outputs": [],
   "source": [
    "import requests\n",
    "import json"
   ]
  },
  {
   "cell_type": "code",
   "execution_count": 52,
   "metadata": {},
   "outputs": [],
   "source": [
    "url = 'https://api.mercadolibre.com/categories/MLM1748'"
   ]
  },
  {
   "cell_type": "code",
   "execution_count": 51,
   "metadata": {},
   "outputs": [],
   "source": [
    "# Obtengo los datos y los voy guardando en una lista por medio de un bucle for"
   ]
  },
  {
   "cell_type": "code",
   "execution_count": 53,
   "metadata": {},
   "outputs": [],
   "source": [
    "r = requests.get(url)\n",
    "dta = r.json()\n",
    "lista = []"
   ]
  },
  {
   "cell_type": "code",
   "execution_count": 54,
   "metadata": {},
   "outputs": [],
   "source": [
    "for element in dta['children_categories']:\n",
    "    ide = element['id']\n",
    "    name = element['name']\n",
    "    links = 'https://api.mercadolibre.com/categories/' + ide\n",
    "    lista.append(links)"
   ]
  },
  {
   "cell_type": "code",
   "execution_count": 55,
   "metadata": {},
   "outputs": [],
   "source": [
    "with open(\"resultado.txt\", \"w\") as f:\n",
    "    for elemento in lista:\n",
    "        f.write(elemento)\n",
    "        f.write(\"\\n\")"
   ]
  },
  {
   "cell_type": "code",
   "execution_count": 56,
   "metadata": {},
   "outputs": [],
   "source": [
    "# Abro el fichero antes de entrar al bucle y en cada iteración agrego un lugar"
   ]
  },
  {
   "cell_type": "code",
   "execution_count": 60,
   "metadata": {},
   "outputs": [],
   "source": [
    "r = requests.get(url)\n",
    "dta = r.json()"
   ]
  },
  {
   "cell_type": "code",
   "execution_count": 61,
   "metadata": {},
   "outputs": [],
   "source": [
    "with open(\"resultado.txt\", \"w\") as f:\n",
    "    for element in dta['children_categories']:\n",
    "        ide = element['id']\n",
    "        name = element['name']\n",
    "        links = 'https://api.mercadolibre.com/categories/' + ide\n",
    "        print(links, file=f)"
   ]
  },
  {
   "cell_type": "code",
   "execution_count": null,
   "metadata": {},
   "outputs": [],
   "source": []
  }
 ],
 "metadata": {
  "kernelspec": {
   "display_name": "Python 3",
   "language": "python",
   "name": "python3"
  },
  "language_info": {
   "codemirror_mode": {
    "name": "ipython",
    "version": 3
   },
   "file_extension": ".py",
   "mimetype": "text/x-python",
   "name": "python",
   "nbconvert_exporter": "python",
   "pygments_lexer": "ipython3",
   "version": "3.7.3"
  }
 },
 "nbformat": 4,
 "nbformat_minor": 2
}
