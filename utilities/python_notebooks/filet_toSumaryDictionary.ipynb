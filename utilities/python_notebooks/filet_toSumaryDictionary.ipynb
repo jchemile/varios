{
 "cells": [
  {
   "cell_type": "code",
   "execution_count": 1,
   "metadata": {},
   "outputs": [],
   "source": [
    "#Order a file where you can find the room and the amount of audiences"
   ]
  },
  {
   "cell_type": "markdown",
   "metadata": {},
   "source": [
    "# Function to create a dataset"
   ]
  },
  {
   "cell_type": "code",
   "execution_count": 2,
   "metadata": {},
   "outputs": [],
   "source": [
    "import random"
   ]
  },
  {
   "cell_type": "code",
   "execution_count": 3,
   "metadata": {},
   "outputs": [],
   "source": [
    "movies = [\"Superman\", \"Batman\", \"StarWars\"]\n",
    "years = list(range(1999,2019))\n",
    "rooms = list(range(1,7))"
   ]
  },
  {
   "cell_type": "code",
   "execution_count": 15,
   "metadata": {},
   "outputs": [],
   "source": [
    "def random_dataset():\n",
    "    return \"{}-{}-{}\".format(\n",
    "    random.choice(movies),\n",
    "    random.choice(years),\n",
    "    random.choice(rooms)\n",
    "    )"
   ]
  },
  {
   "cell_type": "code",
   "execution_count": 16,
   "metadata": {},
   "outputs": [],
   "source": [
    "dataset = [random_dataset() for _ in range(1000)]"
   ]
  },
  {
   "cell_type": "code",
   "execution_count": 17,
   "metadata": {},
   "outputs": [],
   "source": [
    "with open(\"Movies.txt\", \"w\") as f:\n",
    "    for data in dataset: print(data, file=f)"
   ]
  },
  {
   "cell_type": "markdown",
   "metadata": {},
   "source": [
    "# Audience by Room"
   ]
  },
  {
   "cell_type": "code",
   "execution_count": 9,
   "metadata": {},
   "outputs": [],
   "source": [
    "summary = {}"
   ]
  },
  {
   "cell_type": "code",
   "execution_count": 18,
   "metadata": {},
   "outputs": [],
   "source": [
    "with open(\"Movies.txt\") as f:\n",
    "    for data in f:\n",
    "        movie, year, room = data.strip().split(\"-\")\n",
    "        if year not in summary:\n",
    "            summary[year] = {}\n",
    "        if room not in summary[year]:\n",
    "            summary[year][room] = 0\n",
    "        summary[year][room] +=1"
   ]
  },
  {
   "cell_type": "code",
   "execution_count": 19,
   "metadata": {},
   "outputs": [
    {
     "data": {
      "text/plain": [
       "{'2006': {'2': 9, '3': 12, '5': 7, '1': 4, '6': 6, '4': 7},\n",
       " '2011': {'2': 10, '6': 8, '4': 2, '3': 6, '1': 6, '5': 7},\n",
       " '2016': {'4': 11, '3': 13, '2': 8, '5': 12, '6': 8, '1': 4},\n",
       " '2001': {'5': 8, '2': 6, '1': 7, '4': 13, '6': 7, '3': 8},\n",
       " '2005': {'1': 3, '5': 13, '2': 12, '6': 6, '4': 11, '3': 5},\n",
       " '2012': {'3': 8, '1': 6, '2': 10, '5': 9, '6': 7, '4': 8},\n",
       " '1999': {'1': 14, '3': 9, '5': 3, '4': 13, '6': 9, '2': 10},\n",
       " '2017': {'3': 10, '5': 6, '2': 13, '4': 11, '1': 7, '6': 1},\n",
       " '2002': {'5': 7, '6': 10, '1': 8, '2': 14, '4': 6, '3': 6},\n",
       " '2014': {'6': 6, '2': 6, '4': 4, '1': 13, '3': 9, '5': 5},\n",
       " '2007': {'4': 13, '6': 7, '5': 6, '1': 7, '2': 5, '3': 6},\n",
       " '2000': {'2': 11, '6': 9, '3': 6, '1': 13, '5': 4, '4': 6},\n",
       " '2015': {'6': 13, '3': 12, '5': 6, '1': 9, '4': 6, '2': 6},\n",
       " '2013': {'5': 10, '6': 19, '2': 11, '1': 11, '4': 10, '3': 10},\n",
       " '2004': {'3': 6, '1': 10, '4': 9, '2': 4, '5': 6, '6': 7},\n",
       " '2009': {'1': 14, '5': 9, '2': 6, '6': 9, '4': 3, '3': 10},\n",
       " '2008': {'5': 10, '2': 11, '4': 11, '1': 11, '3': 5, '6': 6},\n",
       " '2003': {'2': 12, '4': 6, '6': 6, '1': 11, '3': 7, '5': 6},\n",
       " '2010': {'1': 8, '2': 7, '3': 12, '6': 9, '4': 4, '5': 6},\n",
       " '2018': {'1': 12, '5': 8, '2': 7, '6': 10, '4': 14, '3': 5}}"
      ]
     },
     "execution_count": 19,
     "metadata": {},
     "output_type": "execute_result"
    }
   ],
   "source": [
    "summary"
   ]
  },
  {
   "cell_type": "markdown",
   "metadata": {},
   "source": [
    "# Reorder summary in a readble way"
   ]
  },
  {
   "cell_type": "code",
   "execution_count": 24,
   "metadata": {},
   "outputs": [
    {
     "name": "stdout",
     "output_type": "stream",
     "text": [
      "Year= 1999 \n",
      "Room 1= 14\n",
      "Room 2= 10\n",
      "Room 3= 9\n",
      "Room 4= 13\n",
      "Room 5= 3\n",
      "Room 6= 9\n",
      "\n",
      "Year= 2000 \n",
      "Room 1= 13\n",
      "Room 2= 11\n",
      "Room 3= 6\n",
      "Room 4= 6\n",
      "Room 5= 4\n",
      "Room 6= 9\n",
      "\n",
      "Year= 2001 \n",
      "Room 1= 7\n",
      "Room 2= 6\n",
      "Room 3= 8\n",
      "Room 4= 13\n",
      "Room 5= 8\n",
      "Room 6= 7\n",
      "\n",
      "Year= 2002 \n",
      "Room 1= 8\n",
      "Room 2= 14\n",
      "Room 3= 6\n",
      "Room 4= 6\n",
      "Room 5= 7\n",
      "Room 6= 10\n",
      "\n",
      "Year= 2003 \n",
      "Room 1= 11\n",
      "Room 2= 12\n",
      "Room 3= 7\n",
      "Room 4= 6\n",
      "Room 5= 6\n",
      "Room 6= 6\n",
      "\n",
      "Year= 2004 \n",
      "Room 1= 10\n",
      "Room 2= 4\n",
      "Room 3= 6\n",
      "Room 4= 9\n",
      "Room 5= 6\n",
      "Room 6= 7\n",
      "\n",
      "Year= 2005 \n",
      "Room 1= 3\n",
      "Room 2= 12\n",
      "Room 3= 5\n",
      "Room 4= 11\n",
      "Room 5= 13\n",
      "Room 6= 6\n",
      "\n",
      "Year= 2006 \n",
      "Room 1= 4\n",
      "Room 2= 9\n",
      "Room 3= 12\n",
      "Room 4= 7\n",
      "Room 5= 7\n",
      "Room 6= 6\n",
      "\n",
      "Year= 2007 \n",
      "Room 1= 7\n",
      "Room 2= 5\n",
      "Room 3= 6\n",
      "Room 4= 13\n",
      "Room 5= 6\n",
      "Room 6= 7\n",
      "\n",
      "Year= 2008 \n",
      "Room 1= 11\n",
      "Room 2= 11\n",
      "Room 3= 5\n",
      "Room 4= 11\n",
      "Room 5= 10\n",
      "Room 6= 6\n",
      "\n",
      "Year= 2009 \n",
      "Room 1= 14\n",
      "Room 2= 6\n",
      "Room 3= 10\n",
      "Room 4= 3\n",
      "Room 5= 9\n",
      "Room 6= 9\n",
      "\n",
      "Year= 2010 \n",
      "Room 1= 8\n",
      "Room 2= 7\n",
      "Room 3= 12\n",
      "Room 4= 4\n",
      "Room 5= 6\n",
      "Room 6= 9\n",
      "\n",
      "Year= 2011 \n",
      "Room 1= 6\n",
      "Room 2= 10\n",
      "Room 3= 6\n",
      "Room 4= 2\n",
      "Room 5= 7\n",
      "Room 6= 8\n",
      "\n",
      "Year= 2012 \n",
      "Room 1= 6\n",
      "Room 2= 10\n",
      "Room 3= 8\n",
      "Room 4= 8\n",
      "Room 5= 9\n",
      "Room 6= 7\n",
      "\n",
      "Year= 2013 \n",
      "Room 1= 11\n",
      "Room 2= 11\n",
      "Room 3= 10\n",
      "Room 4= 10\n",
      "Room 5= 10\n",
      "Room 6= 19\n",
      "\n",
      "Year= 2014 \n",
      "Room 1= 13\n",
      "Room 2= 6\n",
      "Room 3= 9\n",
      "Room 4= 4\n",
      "Room 5= 5\n",
      "Room 6= 6\n",
      "\n",
      "Year= 2015 \n",
      "Room 1= 9\n",
      "Room 2= 6\n",
      "Room 3= 12\n",
      "Room 4= 6\n",
      "Room 5= 6\n",
      "Room 6= 13\n",
      "\n",
      "Year= 2016 \n",
      "Room 1= 4\n",
      "Room 2= 8\n",
      "Room 3= 13\n",
      "Room 4= 11\n",
      "Room 5= 12\n",
      "Room 6= 8\n",
      "\n",
      "Year= 2017 \n",
      "Room 1= 7\n",
      "Room 2= 13\n",
      "Room 3= 10\n",
      "Room 4= 11\n",
      "Room 5= 6\n",
      "Room 6= 1\n",
      "\n",
      "Year= 2018 \n",
      "Room 1= 12\n",
      "Room 2= 7\n",
      "Room 3= 5\n",
      "Room 4= 14\n",
      "Room 5= 8\n",
      "Room 6= 10\n",
      "\n"
     ]
    }
   ],
   "source": [
    "for year in sorted(summary):\n",
    "    print(\"Year= {} \".format(year))\n",
    "    for room in sorted(summary[year]):\n",
    "        print(\"Room {}= {}\".format(room,summary[year][room]))\n",
    "    print()"
   ]
  },
  {
   "cell_type": "code",
   "execution_count": null,
   "metadata": {},
   "outputs": [],
   "source": []
  }
 ],
 "metadata": {
  "kernelspec": {
   "display_name": "Python 3",
   "language": "python",
   "name": "python3"
  },
  "language_info": {
   "codemirror_mode": {
    "name": "ipython",
    "version": 3
   },
   "file_extension": ".py",
   "mimetype": "text/x-python",
   "name": "python",
   "nbconvert_exporter": "python",
   "pygments_lexer": "ipython3",
   "version": "3.6.5"
  }
 },
 "nbformat": 4,
 "nbformat_minor": 2
}
