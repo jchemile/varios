{
 "cells": [
  {
   "cell_type": "markdown",
   "metadata": {},
   "source": [
    "# Objetivos"
   ]
  },
  {
   "cell_type": "markdown",
   "metadata": {},
   "source": [
    "Tomando el trello de ejemplo. Calcular:\n",
    "- Tareas llevan más tiempo sin actualizarse\n",
    "- Tareas están próximas al vencimiento\n",
    "- Responsable de cada tarea \n",
    "<br>\n",
    "<br>\n",
    "Existe un tablero de ejemplo en la siguiente url que se puede descargar: \n",
    "<a href=\"https://pypi.org/project/py-trello/\">/project/py-trello/</a> "
   ]
  },
  {
   "cell_type": "markdown",
   "metadata": {},
   "source": [
    "# Imports"
   ]
  },
  {
   "cell_type": "code",
   "execution_count": 87,
   "metadata": {},
   "outputs": [],
   "source": [
    "import json \n",
    "import pandas as pd\n",
    "import numpy as np"
   ]
  },
  {
   "cell_type": "code",
   "execution_count": 88,
   "metadata": {},
   "outputs": [],
   "source": [
    "path = 'C:/Users/User/Downloads/testFile.json'"
   ]
  },
  {
   "cell_type": "code",
   "execution_count": 89,
   "metadata": {},
   "outputs": [],
   "source": [
    "def readTrelloJson(path):\n",
    "    with open(path, 'r', encoding=\"UTF-8\") as fp:\n",
    "        data_dict = json.load(fp)\n",
    "    return data_dict"
   ]
  },
  {
   "cell_type": "code",
   "execution_count": 90,
   "metadata": {},
   "outputs": [],
   "source": [
    "testFile = readTrelloJson(path)"
   ]
  },
  {
   "cell_type": "code",
   "execution_count": 92,
   "metadata": {},
   "outputs": [
    {
     "ename": "ValueError",
     "evalue": "arrays must all be same length",
     "output_type": "error",
     "traceback": [
      "\u001b[1;31m---------------------------------------------------------------------------\u001b[0m",
      "\u001b[1;31mValueError\u001b[0m                                Traceback (most recent call last)",
      "\u001b[1;32m<ipython-input-92-c58c6f304174>\u001b[0m in \u001b[0;36m<module>\u001b[1;34m\u001b[0m\n\u001b[1;32m----> 1\u001b[1;33m \u001b[0mpd\u001b[0m\u001b[1;33m.\u001b[0m\u001b[0mDataFrame\u001b[0m\u001b[1;33m.\u001b[0m\u001b[0mfrom_dict\u001b[0m\u001b[1;33m(\u001b[0m\u001b[0mtestFile\u001b[0m\u001b[1;33m)\u001b[0m\u001b[1;33m\u001b[0m\u001b[1;33m\u001b[0m\u001b[0m\n\u001b[0m",
      "\u001b[1;32mc:\\users\\user\\appdata\\local\\programs\\python\\python38-32\\lib\\site-packages\\pandas\\core\\frame.py\u001b[0m in \u001b[0;36mfrom_dict\u001b[1;34m(cls, data, orient, dtype, columns)\u001b[0m\n\u001b[0;32m   1245\u001b[0m             \u001b[1;32mraise\u001b[0m \u001b[0mValueError\u001b[0m\u001b[1;33m(\u001b[0m\u001b[1;34m\"only recognize index or columns for orient\"\u001b[0m\u001b[1;33m)\u001b[0m\u001b[1;33m\u001b[0m\u001b[1;33m\u001b[0m\u001b[0m\n\u001b[0;32m   1246\u001b[0m \u001b[1;33m\u001b[0m\u001b[0m\n\u001b[1;32m-> 1247\u001b[1;33m         \u001b[1;32mreturn\u001b[0m \u001b[0mcls\u001b[0m\u001b[1;33m(\u001b[0m\u001b[0mdata\u001b[0m\u001b[1;33m,\u001b[0m \u001b[0mindex\u001b[0m\u001b[1;33m=\u001b[0m\u001b[0mindex\u001b[0m\u001b[1;33m,\u001b[0m \u001b[0mcolumns\u001b[0m\u001b[1;33m=\u001b[0m\u001b[0mcolumns\u001b[0m\u001b[1;33m,\u001b[0m \u001b[0mdtype\u001b[0m\u001b[1;33m=\u001b[0m\u001b[0mdtype\u001b[0m\u001b[1;33m)\u001b[0m\u001b[1;33m\u001b[0m\u001b[1;33m\u001b[0m\u001b[0m\n\u001b[0m\u001b[0;32m   1248\u001b[0m \u001b[1;33m\u001b[0m\u001b[0m\n\u001b[0;32m   1249\u001b[0m     \u001b[1;32mdef\u001b[0m \u001b[0mto_numpy\u001b[0m\u001b[1;33m(\u001b[0m\u001b[0mself\u001b[0m\u001b[1;33m,\u001b[0m \u001b[0mdtype\u001b[0m\u001b[1;33m=\u001b[0m\u001b[1;32mNone\u001b[0m\u001b[1;33m,\u001b[0m \u001b[0mcopy\u001b[0m\u001b[1;33m=\u001b[0m\u001b[1;32mFalse\u001b[0m\u001b[1;33m)\u001b[0m \u001b[1;33m->\u001b[0m \u001b[0mnp\u001b[0m\u001b[1;33m.\u001b[0m\u001b[0mndarray\u001b[0m\u001b[1;33m:\u001b[0m\u001b[1;33m\u001b[0m\u001b[1;33m\u001b[0m\u001b[0m\n",
      "\u001b[1;32mc:\\users\\user\\appdata\\local\\programs\\python\\python38-32\\lib\\site-packages\\pandas\\core\\frame.py\u001b[0m in \u001b[0;36m__init__\u001b[1;34m(self, data, index, columns, dtype, copy)\u001b[0m\n\u001b[0;32m    433\u001b[0m             )\n\u001b[0;32m    434\u001b[0m         \u001b[1;32melif\u001b[0m \u001b[0misinstance\u001b[0m\u001b[1;33m(\u001b[0m\u001b[0mdata\u001b[0m\u001b[1;33m,\u001b[0m \u001b[0mdict\u001b[0m\u001b[1;33m)\u001b[0m\u001b[1;33m:\u001b[0m\u001b[1;33m\u001b[0m\u001b[1;33m\u001b[0m\u001b[0m\n\u001b[1;32m--> 435\u001b[1;33m             \u001b[0mmgr\u001b[0m \u001b[1;33m=\u001b[0m \u001b[0minit_dict\u001b[0m\u001b[1;33m(\u001b[0m\u001b[0mdata\u001b[0m\u001b[1;33m,\u001b[0m \u001b[0mindex\u001b[0m\u001b[1;33m,\u001b[0m \u001b[0mcolumns\u001b[0m\u001b[1;33m,\u001b[0m \u001b[0mdtype\u001b[0m\u001b[1;33m=\u001b[0m\u001b[0mdtype\u001b[0m\u001b[1;33m)\u001b[0m\u001b[1;33m\u001b[0m\u001b[1;33m\u001b[0m\u001b[0m\n\u001b[0m\u001b[0;32m    436\u001b[0m         \u001b[1;32melif\u001b[0m \u001b[0misinstance\u001b[0m\u001b[1;33m(\u001b[0m\u001b[0mdata\u001b[0m\u001b[1;33m,\u001b[0m \u001b[0mma\u001b[0m\u001b[1;33m.\u001b[0m\u001b[0mMaskedArray\u001b[0m\u001b[1;33m)\u001b[0m\u001b[1;33m:\u001b[0m\u001b[1;33m\u001b[0m\u001b[1;33m\u001b[0m\u001b[0m\n\u001b[0;32m    437\u001b[0m             \u001b[1;32mimport\u001b[0m \u001b[0mnumpy\u001b[0m\u001b[1;33m.\u001b[0m\u001b[0mma\u001b[0m\u001b[1;33m.\u001b[0m\u001b[0mmrecords\u001b[0m \u001b[1;32mas\u001b[0m \u001b[0mmrecords\u001b[0m\u001b[1;33m\u001b[0m\u001b[1;33m\u001b[0m\u001b[0m\n",
      "\u001b[1;32mc:\\users\\user\\appdata\\local\\programs\\python\\python38-32\\lib\\site-packages\\pandas\\core\\internals\\construction.py\u001b[0m in \u001b[0;36minit_dict\u001b[1;34m(data, index, columns, dtype)\u001b[0m\n\u001b[0;32m    252\u001b[0m             \u001b[0marr\u001b[0m \u001b[1;32mif\u001b[0m \u001b[1;32mnot\u001b[0m \u001b[0mis_datetime64tz_dtype\u001b[0m\u001b[1;33m(\u001b[0m\u001b[0marr\u001b[0m\u001b[1;33m)\u001b[0m \u001b[1;32melse\u001b[0m \u001b[0marr\u001b[0m\u001b[1;33m.\u001b[0m\u001b[0mcopy\u001b[0m\u001b[1;33m(\u001b[0m\u001b[1;33m)\u001b[0m \u001b[1;32mfor\u001b[0m \u001b[0marr\u001b[0m \u001b[1;32min\u001b[0m \u001b[0marrays\u001b[0m\u001b[1;33m\u001b[0m\u001b[1;33m\u001b[0m\u001b[0m\n\u001b[0;32m    253\u001b[0m         ]\n\u001b[1;32m--> 254\u001b[1;33m     \u001b[1;32mreturn\u001b[0m \u001b[0marrays_to_mgr\u001b[0m\u001b[1;33m(\u001b[0m\u001b[0marrays\u001b[0m\u001b[1;33m,\u001b[0m \u001b[0mdata_names\u001b[0m\u001b[1;33m,\u001b[0m \u001b[0mindex\u001b[0m\u001b[1;33m,\u001b[0m \u001b[0mcolumns\u001b[0m\u001b[1;33m,\u001b[0m \u001b[0mdtype\u001b[0m\u001b[1;33m=\u001b[0m\u001b[0mdtype\u001b[0m\u001b[1;33m)\u001b[0m\u001b[1;33m\u001b[0m\u001b[1;33m\u001b[0m\u001b[0m\n\u001b[0m\u001b[0;32m    255\u001b[0m \u001b[1;33m\u001b[0m\u001b[0m\n\u001b[0;32m    256\u001b[0m \u001b[1;33m\u001b[0m\u001b[0m\n",
      "\u001b[1;32mc:\\users\\user\\appdata\\local\\programs\\python\\python38-32\\lib\\site-packages\\pandas\\core\\internals\\construction.py\u001b[0m in \u001b[0;36marrays_to_mgr\u001b[1;34m(arrays, arr_names, index, columns, dtype)\u001b[0m\n\u001b[0;32m     62\u001b[0m     \u001b[1;31m# figure out the index, if necessary\u001b[0m\u001b[1;33m\u001b[0m\u001b[1;33m\u001b[0m\u001b[1;33m\u001b[0m\u001b[0m\n\u001b[0;32m     63\u001b[0m     \u001b[1;32mif\u001b[0m \u001b[0mindex\u001b[0m \u001b[1;32mis\u001b[0m \u001b[1;32mNone\u001b[0m\u001b[1;33m:\u001b[0m\u001b[1;33m\u001b[0m\u001b[1;33m\u001b[0m\u001b[0m\n\u001b[1;32m---> 64\u001b[1;33m         \u001b[0mindex\u001b[0m \u001b[1;33m=\u001b[0m \u001b[0mextract_index\u001b[0m\u001b[1;33m(\u001b[0m\u001b[0marrays\u001b[0m\u001b[1;33m)\u001b[0m\u001b[1;33m\u001b[0m\u001b[1;33m\u001b[0m\u001b[0m\n\u001b[0m\u001b[0;32m     65\u001b[0m     \u001b[1;32melse\u001b[0m\u001b[1;33m:\u001b[0m\u001b[1;33m\u001b[0m\u001b[1;33m\u001b[0m\u001b[0m\n\u001b[0;32m     66\u001b[0m         \u001b[0mindex\u001b[0m \u001b[1;33m=\u001b[0m \u001b[0mensure_index\u001b[0m\u001b[1;33m(\u001b[0m\u001b[0mindex\u001b[0m\u001b[1;33m)\u001b[0m\u001b[1;33m\u001b[0m\u001b[1;33m\u001b[0m\u001b[0m\n",
      "\u001b[1;32mc:\\users\\user\\appdata\\local\\programs\\python\\python38-32\\lib\\site-packages\\pandas\\core\\internals\\construction.py\u001b[0m in \u001b[0;36mextract_index\u001b[1;34m(data)\u001b[0m\n\u001b[0;32m    363\u001b[0m             \u001b[0mlengths\u001b[0m \u001b[1;33m=\u001b[0m \u001b[0mlist\u001b[0m\u001b[1;33m(\u001b[0m\u001b[0mset\u001b[0m\u001b[1;33m(\u001b[0m\u001b[0mraw_lengths\u001b[0m\u001b[1;33m)\u001b[0m\u001b[1;33m)\u001b[0m\u001b[1;33m\u001b[0m\u001b[1;33m\u001b[0m\u001b[0m\n\u001b[0;32m    364\u001b[0m             \u001b[1;32mif\u001b[0m \u001b[0mlen\u001b[0m\u001b[1;33m(\u001b[0m\u001b[0mlengths\u001b[0m\u001b[1;33m)\u001b[0m \u001b[1;33m>\u001b[0m \u001b[1;36m1\u001b[0m\u001b[1;33m:\u001b[0m\u001b[1;33m\u001b[0m\u001b[1;33m\u001b[0m\u001b[0m\n\u001b[1;32m--> 365\u001b[1;33m                 \u001b[1;32mraise\u001b[0m \u001b[0mValueError\u001b[0m\u001b[1;33m(\u001b[0m\u001b[1;34m\"arrays must all be same length\"\u001b[0m\u001b[1;33m)\u001b[0m\u001b[1;33m\u001b[0m\u001b[1;33m\u001b[0m\u001b[0m\n\u001b[0m\u001b[0;32m    366\u001b[0m \u001b[1;33m\u001b[0m\u001b[0m\n\u001b[0;32m    367\u001b[0m             \u001b[1;32mif\u001b[0m \u001b[0mhave_dicts\u001b[0m\u001b[1;33m:\u001b[0m\u001b[1;33m\u001b[0m\u001b[1;33m\u001b[0m\u001b[0m\n",
      "\u001b[1;31mValueError\u001b[0m: arrays must all be same length"
     ]
    }
   ],
   "source": []
  },
  {
   "cell_type": "code",
   "execution_count": 97,
   "metadata": {},
   "outputs": [
    {
     "name": "stdout",
     "output_type": "stream",
     "text": [
      "cards [{'id': '4f145dab8eac41f17000eaca', 'address': None, 'checkItemStates': None, 'closed': False, 'coordinates': None, 'creationMethod': None, 'dateLastActivity': '2020-02-11T00:48:22.635Z', 'desc': 'Please feel free to fork, send pull requests, etc. Feature requests go in Trello, bugs will be tracked on Github (though they may be entered/discussed here).', 'descData': None, 'dueReminder': None, 'idBoard': '4f145d87b2f9f15d6d027b53', 'idLabels': [], 'idList': '4f145d87b2f9f15d6d027b57', 'idMembersVoted': ['4f84ff74c2036b1b5b55315f', '54370dc792175cc4bb29dec0', '5444cfabc9ae4ae55f8d5986', '52e22ba35e4bf2f768cac937', '52386e31e4f7ebc064002f5a', '57040013f5756fadf9f0e853', '58a54d6f5ec1abb708e6c411', '5720f00fe18b6b72e6653289', '5a171e6cf6299bf9c21d99ab', '5a222aa8c8de230e2291150d'], 'idShort': 1, 'idAttachmentCover': None, 'limits': {'attachments': {'perCard': {'status': 'ok', 'disableAt': 1000, 'warnAt': 900}}, 'checklists': {'perCard': {'status': 'ok', 'disableAt': 500, 'warnAt': 450}}, 'stickers': {'perCard': {'status': 'ok', 'disableAt': 70, 'warnAt': 63}}}, 'locationName': None, 'manualCoverAttachment': False, 'name': 'py-trello can be found at https://github.com/sarumont/py-trello', 'pos': 65536, 'shortLink': 'IwcZ4DR2', 'isTemplate': False, 'badges': {'attachmentsByType': {'trello': {'board': 0, 'card': 0}}, 'location': False, 'votes': 10, 'viewingMemberVoted': False, 'subscribed': False, 'fogbugz': '', 'checkItems': 0, 'checkItemsChecked': 0, 'checkItemsEarliestDue': None, 'comments': 3, 'attachments': 0, 'description': True, 'due': None, 'dueComplete': False}, 'dueComplete': False, 'due': None, 'idChecklists': [], 'idMembers': [], 'labels': [], 'shortUrl': 'https://trello.com/c/IwcZ4DR2', 'subscribed': False, 'url': 'https://trello.com/c/IwcZ4DR2/1-py-trello-can-be-found-at-https-githubcom-sarumont-py-trello', 'cover': {'idAttachment': None, 'color': None, 'idUploadedBackground': None, 'size': 'normal', 'brightness': 'light'}, 'attachments': [], 'pluginData': [], 'customFieldItems': []}, {'id': '4f8b475e39b203722b10692b', 'address': None, 'checkItemStates': None, 'closed': False, 'coordinates': None, 'creationMethod': None, 'dateLastActivity': '2019-10-08T21:22:28.567Z', 'desc': \"Install with 'pip install py-trello'\", 'descData': None, 'dueReminder': None, 'idBoard': '4f145d87b2f9f15d6d027b53', 'idLabels': [], 'idList': '4f145d87b2f9f15d6d027b57', 'idMembersVoted': ['5306fd98ffb0a59a68863f05', '53f4ac9204ea3f953059a781', '5673b92f417c1be961c1dd30'], 'idShort': 11, 'idAttachmentCover': None, 'limits': {'attachments': {'perCard': {'status': 'ok', 'disableAt': 1000, 'warnAt': 900}}, 'checklists': {'perCard': {'status': 'ok', 'disableAt': 500, 'warnAt': 450}}, 'stickers': {'perCard': {'status': 'ok', 'disableAt': 70, 'warnAt': 63}}}, 'locationName': None, 'manualCoverAttachment': False, 'name': 'PyPi page can be found at http://pypi.python.org/pypi/py-trello/', 'pos': 131072, 'shortLink': 'tFMQ6WpL', 'isTemplate': False, 'badges': {'attachmentsByType': {'trello': {'board': 0, 'card': 0}}, 'location': False, 'votes': 3, 'viewingMemberVoted': False, 'subscribed': False, 'fogbugz': '', 'checkItems': 0, 'checkItemsChecked': 0, 'checkItemsEarliestDue': None, 'comments': 4, 'attachments': 0, 'description': True, 'due': None, 'dueComplete': False}, 'dueComplete': False, 'due': None, 'idChecklists': [], 'idMembers': [], 'labels': [], 'shortUrl': 'https://trello.com/c/tFMQ6WpL', 'subscribed': False, 'url': 'https://trello.com/c/tFMQ6WpL/11-pypi-page-can-be-found-at-http-pypipythonorg-pypi-py-trello', 'cover': {'idAttachment': None, 'color': None, 'idUploadedBackground': None, 'size': 'normal', 'brightness': 'light'}, 'attachments': [], 'pluginData': [], 'customFieldItems': []}, {'id': '4f4933714abb722973065480', 'address': None, 'checkItemStates': None, 'closed': False, 'coordinates': None, 'creationMethod': None, 'dateLastActivity': '2020-02-26T17:03:22.762Z', 'desc': '', 'descData': None, 'dueReminder': None, 'idBoard': '4f145d87b2f9f15d6d027b53', 'idLabels': [], 'idList': '4f145d87b2f9f15d6d027b58', 'idMembersVoted': [], 'idShort': 9, 'idAttachmentCover': None, 'limits': {'attachments': {'perCard': {'status': 'ok', 'disableAt': 1000, 'warnAt': 900}}, 'checklists': {'perCard': {'status': 'ok', 'disableAt': 500, 'warnAt': 450}}, 'stickers': {'perCard': {'status': 'ok', 'disableAt': 70, 'warnAt': 63}}}, 'locationName': None, 'manualCoverAttachment': False, 'name': '\"no module named trello\" on run', 'pos': 65536, 'shortLink': 'g4m2mT4D', 'isTemplate': False, 'badges': {'attachmentsByType': {'trello': {'board': 0, 'card': 0}}, 'location': False, 'votes': 0, 'viewingMemberVoted': False, 'subscribed': False, 'fogbugz': '', 'checkItems': 0, 'checkItemsChecked': 0, 'checkItemsEarliestDue': None, 'comments': 34, 'attachments': 0, 'description': False, 'due': None, 'dueComplete': False}, 'dueComplete': False, 'due': None, 'idChecklists': [], 'idMembers': [], 'labels': [], 'shortUrl': 'https://trello.com/c/g4m2mT4D', 'subscribed': False, 'url': 'https://trello.com/c/g4m2mT4D/9-no-module-named-trello-on-run', 'cover': {'idAttachment': None, 'color': None, 'idUploadedBackground': None, 'size': 'normal', 'brightness': 'light'}, 'attachments': [], 'pluginData': [], 'customFieldItems': []}, {'id': '4f145e838eac41f1700140aa', 'address': None, 'checkItemStates': None, 'closed': False, 'coordinates': None, 'creationMethod': None, 'dateLastActivity': '2019-10-25T17:00:58.733Z', 'desc': '', 'descData': None, 'dueReminder': None, 'idBoard': '4f145d87b2f9f15d6d027b53', 'idLabels': [], 'idList': '4f145e1a8eac41f170010b58', 'idMembersVoted': ['58bea1a779bfcf05f2833ac5', '5a6b1bda8ce056cdb2e9498e'], 'idShort': 3, 'idAttachmentCover': None, 'limits': {'attachments': {'perCard': {'status': 'ok', 'disableAt': 1000, 'warnAt': 900}}, 'checklists': {'perCard': {'status': 'ok', 'disableAt': 500, 'warnAt': 450}}, 'stickers': {'perCard': {'status': 'ok', 'disableAt': 70, 'warnAt': 63}}}, 'locationName': None, 'manualCoverAttachment': False, 'name': 'Add comments to card', 'pos': 131072, 'shortLink': 'Y3NpAohD', 'isTemplate': False, 'badges': {'attachmentsByType': {'trello': {'board': 0, 'card': 0}}, 'location': False, 'votes': 2, 'viewingMemberVoted': False, 'subscribed': False, 'fogbugz': '', 'checkItems': 0, 'checkItemsChecked': 0, 'checkItemsEarliestDue': None, 'comments': 2, 'attachments': 0, 'description': False, 'due': None, 'dueComplete': False}, 'dueComplete': False, 'due': None, 'idChecklists': [], 'idMembers': [], 'labels': [], 'shortUrl': 'https://trello.com/c/Y3NpAohD', 'subscribed': False, 'url': 'https://trello.com/c/Y3NpAohD/3-add-comments-to-card', 'cover': {'idAttachment': None, 'color': None, 'idUploadedBackground': None, 'size': 'normal', 'brightness': 'light'}, 'attachments': [], 'pluginData': [], 'customFieldItems': []}, {'id': '4f145e868eac41f170014150', 'address': None, 'checkItemStates': None, 'closed': False, 'coordinates': None, 'creationMethod': None, 'dateLastActivity': '2018-07-30T14:55:53.988Z', 'desc': '', 'descData': None, 'dueReminder': None, 'idBoard': '4f145d87b2f9f15d6d027b53', 'idLabels': ['545a5af774d650d567bbf994'], 'idList': '4f145e1a8eac41f170010b58', 'idMembersVoted': ['5176e8a0787cd5844a000571', '4f1502e36df9b1315d093b8e', '4fe1f89e05a2e60441114140', '55dc95f285341c3695daf49f', '52a0edd3ec5411e32a00409f', '5570662d67d44b5b6557317a', '56e2b3ab9015e0f7e31d7cde', '56f66d803b416c26ef79f526', '59e14ef74859e0d1c2536838'], 'idShort': 4, 'idAttachmentCover': None, 'limits': {'attachments': {'perCard': {'status': 'ok', 'disableAt': 1000, 'warnAt': 900}}, 'checklists': {'perCard': {'status': 'ok', 'disableAt': 500, 'warnAt': 450}}, 'stickers': {'perCard': {'status': 'ok', 'disableAt': 70, 'warnAt': 63}}}, 'locationName': None, 'manualCoverAttachment': False, 'name': 'Add attachments to card', 'pos': 196608, 'shortLink': '5L574YgX', 'isTemplate': False, 'badges': {'attachmentsByType': {'trello': {'board': 0, 'card': 0}}, 'location': False, 'votes': 9, 'viewingMemberVoted': False, 'subscribed': False, 'fogbugz': '', 'checkItems': 0, 'checkItemsChecked': 0, 'checkItemsEarliestDue': None, 'comments': 9, 'attachments': 0, 'description': False, 'due': None, 'dueComplete': False}, 'dueComplete': False, 'due': None, 'idChecklists': [], 'idMembers': [], 'labels': [{'id': '545a5af774d650d567bbf994', 'idBoard': '4f145d87b2f9f15d6d027b53', 'name': 'Waiting for Trello API', 'color': 'red'}], 'shortUrl': 'https://trello.com/c/5L574YgX', 'subscribed': False, 'url': 'https://trello.com/c/5L574YgX/4-add-attachments-to-card', 'cover': {'idAttachment': None, 'color': None, 'idUploadedBackground': None, 'size': 'normal', 'brightness': 'light'}, 'attachments': [], 'pluginData': [], 'customFieldItems': []}, {'id': '4f145e8b8eac41f17001423c', 'address': None, 'checkItemStates': None, 'closed': False, 'coordinates': None, 'creationMethod': None, 'dateLastActivity': '2019-07-29T08:30:47.471Z', 'desc': '', 'descData': None, 'dueReminder': None, 'idBoard': '4f145d87b2f9f15d6d027b53', 'idLabels': ['545a5af774d650d567bbf994'], 'idList': '4f145e1a8eac41f170010b58', 'idMembersVoted': ['56f66d803b416c26ef79f526', '5ccc89b354afa549d7c23f6a'], 'idShort': 5, 'idAttachmentCover': None, 'limits': {'attachments': {'perCard': {'status': 'ok', 'disableAt': 1000, 'warnAt': 900}}, 'checklists': {'perCard': {'status': 'ok', 'disableAt': 500, 'warnAt': 450}}, 'stickers': {'perCard': {'status': 'ok', 'disableAt': 70, 'warnAt': 63}}}, 'locationName': None, 'manualCoverAttachment': False, 'name': 'Modify list', 'pos': 262144, 'shortLink': 'EwoJ7ZqT', 'isTemplate': False, 'badges': {'attachmentsByType': {'trello': {'board': 0, 'card': 0}}, 'location': False, 'votes': 2, 'viewingMemberVoted': False, 'subscribed': False, 'fogbugz': '', 'checkItems': 0, 'checkItemsChecked': 0, 'checkItemsEarliestDue': None, 'comments': 1, 'attachments': 0, 'description': False, 'due': None, 'dueComplete': False}, 'dueComplete': False, 'due': None, 'idChecklists': [], 'idMembers': [], 'labels': [{'id': '545a5af774d650d567bbf994', 'idBoard': '4f145d87b2f9f15d6d027b53', 'name': 'Waiting for Trello API', 'color': 'red'}], 'shortUrl': 'https://trello.com/c/EwoJ7ZqT', 'subscribed': False, 'url': 'https://trello.com/c/EwoJ7ZqT/5-modify-list', 'cover': {'idAttachment': None, 'color': None, 'idUploadedBackground': None, 'size': 'normal', 'brightness': 'light'}, 'attachments': [], 'pluginData': [], 'customFieldItems': []}, {'id': '4f145e8d8eac41f1700142ad', 'address': None, 'checkItemStates': None, 'closed': False, 'coordinates': None, 'creationMethod': None, 'dateLastActivity': '2017-03-26T21:21:40.342Z', 'desc': '', 'descData': None, 'dueReminder': None, 'idBoard': '4f145d87b2f9f15d6d027b53', 'idLabels': ['545a5af774d650d567bbf994'], 'idList': '4f145e1a8eac41f170010b58', 'idMembersVoted': [], 'idShort': 6, 'idAttachmentCover': None, 'limits': {'attachments': {'perCard': {'status': 'ok', 'disableAt': 1000, 'warnAt': 900}}, 'checklists': {'perCard': {'status': 'ok', 'disableAt': 500, 'warnAt': 450}}, 'stickers': {'perCard': {'status': 'ok', 'disableAt': 70, 'warnAt': 63}}}, 'locationName': None, 'manualCoverAttachment': False, 'name': 'Modify card', 'pos': 327680, 'shortLink': 'd3W2lDNU', 'isTemplate': False, 'badges': {'attachmentsByType': {'trello': {'board': 0, 'card': 0}}, 'location': False, 'votes': 0, 'viewingMemberVoted': False, 'subscribed': False, 'fogbugz': '', 'checkItems': 0, 'checkItemsChecked': 0, 'checkItemsEarliestDue': None, 'comments': 2, 'attachments': 0, 'description': False, 'due': None, 'dueComplete': False}, 'dueComplete': False, 'due': None, 'idChecklists': [], 'idMembers': [], 'labels': [{'id': '545a5af774d650d567bbf994', 'idBoard': '4f145d87b2f9f15d6d027b53', 'name': 'Waiting for Trello API', 'color': 'red'}], 'shortUrl': 'https://trello.com/c/d3W2lDNU', 'subscribed': False, 'url': 'https://trello.com/c/d3W2lDNU/6-modify-card', 'cover': {'idAttachment': None, 'color': None, 'idUploadedBackground': None, 'size': 'normal', 'brightness': 'light'}, 'attachments': [], 'pluginData': [], 'customFieldItems': []}, {'id': '4f299bd621403b8c289d660e', 'address': None, 'checkItemStates': None, 'closed': False, 'coordinates': None, 'creationMethod': None, 'dateLastActivity': '2020-02-12T16:54:59.489Z', 'desc': '', 'descData': None, 'dueReminder': None, 'idBoard': '4f145d87b2f9f15d6d027b53', 'idLabels': [], 'idList': '4f145e1a8eac41f170010b58', 'idMembersVoted': [], 'idShort': 7, 'idAttachmentCover': None, 'limits': {'attachments': {'perCard': {'status': 'ok', 'disableAt': 1000, 'warnAt': 900}}, 'checklists': {'perCard': {'status': 'ok', 'disableAt': 500, 'warnAt': 450}}, 'stickers': {'perCard': {'status': 'ok', 'disableAt': 70, 'warnAt': 63}}}, 'locationName': None, 'manualCoverAttachment': False, 'name': 'Token API / validation', 'pos': 393216, 'shortLink': 'lmDhl0lx', 'isTemplate': False, 'badges': {'attachmentsByType': {'trello': {'board': 0, 'card': 0}}, 'location': False, 'votes': 0, 'viewingMemberVoted': False, 'subscribed': False, 'fogbugz': '', 'checkItems': 2, 'checkItemsChecked': 0, 'checkItemsEarliestDue': None, 'comments': 4, 'attachments': 0, 'description': False, 'due': None, 'dueComplete': False}, 'dueComplete': False, 'due': None, 'idChecklists': ['4f299c4021403b8c289d7e53'], 'idMembers': [], 'labels': [], 'shortUrl': 'https://trello.com/c/lmDhl0lx', 'subscribed': False, 'url': 'https://trello.com/c/lmDhl0lx/7-token-api-validation', 'cover': {'idAttachment': None, 'color': None, 'idUploadedBackground': None, 'size': 'normal', 'brightness': 'light'}, 'attachments': [], 'pluginData': [], 'customFieldItems': []}, {'id': '4f145e778eac41f1700137a1', 'address': None, 'checkItemStates': None, 'closed': False, 'coordinates': None, 'creationMethod': None, 'dateLastActivity': '2019-09-24T19:37:21.618Z', 'desc': '', 'descData': None, 'dueReminder': None, 'idBoard': '4f145d87b2f9f15d6d027b53', 'idLabels': [], 'idList': '4f145e338eac41f170010fae', 'idMembersVoted': [], 'idShort': 2, 'idAttachmentCover': None, 'limits': {'attachments': {'perCard': {'status': 'ok', 'disableAt': 1000, 'warnAt': 900}}, 'checklists': {'perCard': {'status': 'ok', 'disableAt': 500, 'warnAt': 450}}, 'stickers': {'perCard': {'status': 'ok', 'disableAt': 70, 'warnAt': 63}}}, 'locationName': None, 'manualCoverAttachment': False, 'name': '3-legged OAuth', 'pos': 65536, 'shortLink': 'MgGPh9jb', 'isTemplate': False, 'badges': {'attachmentsByType': {'trello': {'board': 0, 'card': 0}}, 'location': False, 'votes': 0, 'viewingMemberVoted': False, 'subscribed': False, 'fogbugz': '', 'checkItems': 0, 'checkItemsChecked': 0, 'checkItemsEarliestDue': None, 'comments': 1, 'attachments': 0, 'description': False, 'due': None, 'dueComplete': False}, 'dueComplete': False, 'due': None, 'idChecklists': [], 'idMembers': [], 'labels': [], 'shortUrl': 'https://trello.com/c/MgGPh9jb', 'subscribed': False, 'url': 'https://trello.com/c/MgGPh9jb/2-3-legged-oauth', 'cover': {'idAttachment': None, 'color': None, 'idUploadedBackground': None, 'size': 'normal', 'brightness': 'light'}, 'attachments': [], 'pluginData': [], 'customFieldItems': []}, {'id': '4f6d2fee68134a3041773b95', 'address': None, 'checkItemStates': None, 'closed': False, 'coordinates': None, 'creationMethod': None, 'dateLastActivity': '2020-01-28T05:10:01.200Z', 'desc': \"Would be nice if you added a **setup.py** allowing to install py-trello with pip as a 3rd-part app. Uploading it to PyPI would be even better.\\n\\nI'd be able to use it from [Trello-Git](https://trello.com/board/trello-git/4f6a76f4801cba2d415aea1f) much more easily.\\n\\nThanks !\", 'descData': None, 'dueReminder': None, 'idBoard': '4f145d87b2f9f15d6d027b53', 'idLabels': [], 'idList': '4f145e338eac41f170010fae', 'idMembersVoted': ['56fb5931ef50fa1b30ab05f3'], 'idShort': 10, 'idAttachmentCover': None, 'limits': {'attachments': {'perCard': {'status': 'ok', 'disableAt': 1000, 'warnAt': 900}}, 'checklists': {'perCard': {'status': 'ok', 'disableAt': 500, 'warnAt': 450}}, 'stickers': {'perCard': {'status': 'ok', 'disableAt': 70, 'warnAt': 63}}}, 'locationName': None, 'manualCoverAttachment': False, 'name': 'Add setup.py', 'pos': 131072, 'shortLink': 'L9sqrq4k', 'isTemplate': False, 'badges': {'attachmentsByType': {'trello': {'board': 0, 'card': 0}}, 'location': False, 'votes': 1, 'viewingMemberVoted': False, 'subscribed': False, 'fogbugz': '', 'checkItems': 0, 'checkItemsChecked': 0, 'checkItemsEarliestDue': None, 'comments': 2, 'attachments': 0, 'description': True, 'due': None, 'dueComplete': False}, 'dueComplete': False, 'due': None, 'idChecklists': [], 'idMembers': ['4e952c3e836bac73b97ffb2b'], 'labels': [], 'shortUrl': 'https://trello.com/c/L9sqrq4k', 'subscribed': False, 'url': 'https://trello.com/c/L9sqrq4k/10-add-setuppy', 'cover': {'idAttachment': None, 'color': None, 'idUploadedBackground': None, 'size': 'normal', 'brightness': 'light'}, 'attachments': [], 'pluginData': [], 'customFieldItems': []}]\n"
     ]
    }
   ],
   "source": [
    "for key, value in testFile.items():\n",
    "    if key == \"cards\":\n",
    "        print (key, value)"
   ]
  },
  {
   "cell_type": "code",
   "execution_count": 86,
   "metadata": {},
   "outputs": [
    {
     "ename": "TypeError",
     "evalue": "string indices must be integers",
     "output_type": "error",
     "traceback": [
      "\u001b[1;31m---------------------------------------------------------------------------\u001b[0m",
      "\u001b[1;31mTypeError\u001b[0m                                 Traceback (most recent call last)",
      "\u001b[1;32m<ipython-input-86-59937dd3003a>\u001b[0m in \u001b[0;36m<module>\u001b[1;34m\u001b[0m\n\u001b[0;32m      1\u001b[0m \u001b[1;32mfor\u001b[0m \u001b[0mkey\u001b[0m\u001b[1;33m,\u001b[0m \u001b[0mvalue\u001b[0m \u001b[1;32min\u001b[0m \u001b[0mtestFile\u001b[0m\u001b[1;33m.\u001b[0m\u001b[0mitems\u001b[0m\u001b[1;33m(\u001b[0m\u001b[1;33m)\u001b[0m\u001b[1;33m:\u001b[0m\u001b[1;33m\u001b[0m\u001b[1;33m\u001b[0m\u001b[0m\n\u001b[1;32m----> 2\u001b[1;33m     \u001b[0mprint\u001b[0m \u001b[1;33m(\u001b[0m\u001b[0mkey\u001b[0m\u001b[1;33m[\u001b[0m\u001b[0mvalue\u001b[0m\u001b[1;33m]\u001b[0m\u001b[1;33m)\u001b[0m\u001b[1;33m\u001b[0m\u001b[1;33m\u001b[0m\u001b[0m\n\u001b[0m",
      "\u001b[1;31mTypeError\u001b[0m: string indices must be integers"
     ]
    }
   ],
   "source": []
  },
  {
   "cell_type": "code",
   "execution_count": null,
   "metadata": {},
   "outputs": [],
   "source": []
  }
 ],
 "metadata": {
  "kernelspec": {
   "display_name": "Python 3",
   "language": "python",
   "name": "python3"
  },
  "language_info": {
   "codemirror_mode": {
    "name": "ipython",
    "version": 3
   },
   "file_extension": ".py",
   "mimetype": "text/x-python",
   "name": "python",
   "nbconvert_exporter": "python",
   "pygments_lexer": "ipython3",
   "version": "3.8.1"
  }
 },
 "nbformat": 4,
 "nbformat_minor": 4
}
