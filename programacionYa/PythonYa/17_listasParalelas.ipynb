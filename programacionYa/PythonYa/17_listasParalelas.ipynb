{
 "cells": [
  {
   "cell_type": "code",
   "execution_count": 1,
   "metadata": {},
   "outputs": [],
   "source": [
    "#Cargar 5 nombres y sus edades en listas diferentes. Imprimir los mayores de edad"
   ]
  },
  {
   "cell_type": "code",
   "execution_count": 2,
   "metadata": {},
   "outputs": [],
   "source": [
    "nombres = []\n",
    "edades = []"
   ]
  },
  {
   "cell_type": "code",
   "execution_count": 3,
   "metadata": {},
   "outputs": [
    {
     "name": "stdout",
     "output_type": "stream",
     "text": [
      "Nombre: Juan\n",
      "Edad: 23\n",
      "Nombre: Pedro\n",
      "Edad: 25\n",
      "Nombre: Jose\n",
      "Edad: 10\n",
      "Nombre: Carlos\n",
      "Edad: 8\n",
      "Nombre: Maria\n",
      "Edad: 12\n"
     ]
    }
   ],
   "source": [
    "for x in range(5):\n",
    "    nom = input(\"Nombre: \")\n",
    "    nombres.append(nom)\n",
    "    edad = int(input(\"Edad: \"))\n",
    "    edades.append(edad)"
   ]
  },
  {
   "cell_type": "code",
   "execution_count": 4,
   "metadata": {},
   "outputs": [
    {
     "name": "stdout",
     "output_type": "stream",
     "text": [
      "Juan\n",
      "Pedro\n"
     ]
    }
   ],
   "source": [
    "for x in range(5):\n",
    "    if edades[x] > 18:\n",
    "        print(nombres[x])"
   ]
  },
  {
   "cell_type": "code",
   "execution_count": 5,
   "metadata": {},
   "outputs": [],
   "source": [
    "#Definir precio y producto. Mostrar productos que tengan un precio mayor al primero"
   ]
  },
  {
   "cell_type": "code",
   "execution_count": 10,
   "metadata": {},
   "outputs": [],
   "source": [
    "productos = []\n",
    "precios = []"
   ]
  },
  {
   "cell_type": "code",
   "execution_count": 11,
   "metadata": {},
   "outputs": [
    {
     "name": "stdout",
     "output_type": "stream",
     "text": [
      "Producto: a\n",
      "precio: 25\n",
      "Producto: b12\n",
      "precio: 14\n",
      "Producto: c\n",
      "precio: 5\n",
      "Producto: d\n",
      "precio: 100\n",
      "Producto: f\n",
      "precio: 54\n"
     ]
    }
   ],
   "source": [
    "for x in range(5):\n",
    "    producto = input(\"Producto: \")\n",
    "    productos.append(producto)\n",
    "    precio = int(input(\"precio: \"))\n",
    "    precios.append(precio)"
   ]
  },
  {
   "cell_type": "code",
   "execution_count": 14,
   "metadata": {},
   "outputs": [
    {
     "name": "stdout",
     "output_type": "stream",
     "text": [
      "Mayores:  2\n"
     ]
    }
   ],
   "source": [
    "cantidad = 0\n",
    "\n",
    "for x in range(5):\n",
    "    if precios[0] < precios[x]:\n",
    "        cantidad += 1\n",
    "        \n",
    "print(\"Mayores: \", cantidad)"
   ]
  },
  {
   "cell_type": "code",
   "execution_count": 15,
   "metadata": {},
   "outputs": [],
   "source": [
    "#Ingresar nombre y nota de alumno. "
   ]
  },
  {
   "cell_type": "code",
   "execution_count": 33,
   "metadata": {},
   "outputs": [],
   "source": [
    "alumnos = []\n",
    "notas = []"
   ]
  },
  {
   "cell_type": "code",
   "execution_count": 34,
   "metadata": {},
   "outputs": [
    {
     "name": "stdout",
     "output_type": "stream",
     "text": [
      "Alumno: a\n",
      "Nota: 12\n",
      "Alumno: b\n",
      "Nota: 2\n",
      "Alumno: c\n",
      "Nota: 67\n",
      "Alumno: d\n",
      "Nota: 9\n"
     ]
    }
   ],
   "source": [
    "for x in range(4):\n",
    "    alu = input(\"Alumno: \")\n",
    "    alumnos.append(alu)\n",
    "    nota = int(input(\"Nota: \"))\n",
    "    notas.append(nota)"
   ]
  },
  {
   "cell_type": "code",
   "execution_count": 27,
   "metadata": {},
   "outputs": [],
   "source": [
    "# Mostrar nombre y Nota. "
   ]
  },
  {
   "cell_type": "code",
   "execution_count": 37,
   "metadata": {},
   "outputs": [
    {
     "name": "stdout",
     "output_type": "stream",
     "text": [
      "Alumno:  a Condicion:  Muy Bueno\n",
      "Alumno:  b Condicion:  Insuficiente\n",
      "Alumno:  c Condicion:  Muy Bueno\n",
      "Alumno:  d Condicion:  Muy Bueno\n"
     ]
    }
   ],
   "source": [
    "for x in range(4):\n",
    "    condicion = \"\"\n",
    "    if notas[x] >= 8:\n",
    "        condicion = \"Muy Bueno\"\n",
    "    else:\n",
    "        if notas[x] >= 4:\n",
    "            condicion = \"Bueno\"\n",
    "        else:\n",
    "            if notas[x] > 0:\n",
    "                condicion = \"Insuficiente\"\n",
    "    \n",
    "    print(\"Alumno: \", alumnos[x], \"Condicion: \", condicion)"
   ]
  },
  {
   "cell_type": "code",
   "execution_count": 39,
   "metadata": {},
   "outputs": [
    {
     "name": "stdout",
     "output_type": "stream",
     "text": [
      "Muy buenos:  3\n"
     ]
    }
   ],
   "source": [
    "muy_bueno = 0\n",
    "\n",
    "for x in range(4):\n",
    "    if notas[x] >= 8:\n",
    "        muy_bueno += 1\n",
    "\n",
    "print(\"Muy buenos: \", muy_bueno)"
   ]
  },
  {
   "cell_type": "code",
   "execution_count": 40,
   "metadata": {},
   "outputs": [],
   "source": [
    "#Cree dos listas de elemento. Que la tercera retorne la suma"
   ]
  },
  {
   "cell_type": "code",
   "execution_count": 47,
   "metadata": {},
   "outputs": [],
   "source": [
    "lista_1 = [1,8,3,5]\n",
    "lista_2 = [3,2,6,7]"
   ]
  },
  {
   "cell_type": "code",
   "execution_count": 48,
   "metadata": {},
   "outputs": [
    {
     "name": "stdout",
     "output_type": "stream",
     "text": [
      "[4, 10, 9, 12]\n"
     ]
    }
   ],
   "source": [
    "for x in range(4):\n",
    "    lista_suma[x] = lista_1[x] + lista_2[x]\n",
    "    \n",
    "print(lista_suma)"
   ]
  },
  {
   "cell_type": "code",
   "execution_count": null,
   "metadata": {},
   "outputs": [],
   "source": []
  }
 ],
 "metadata": {
  "kernelspec": {
   "display_name": "Python 3",
   "language": "python",
   "name": "python3"
  },
  "language_info": {
   "codemirror_mode": {
    "name": "ipython",
    "version": 3
   },
   "file_extension": ".py",
   "mimetype": "text/x-python",
   "name": "python",
   "nbconvert_exporter": "python",
   "pygments_lexer": "ipython3",
   "version": "3.7.0"
  }
 },
 "nbformat": 4,
 "nbformat_minor": 2
}
