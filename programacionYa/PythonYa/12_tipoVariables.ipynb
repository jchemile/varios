{
 "cells": [
  {
   "cell_type": "code",
   "execution_count": 1,
   "metadata": {},
   "outputs": [],
   "source": [
    "#Infgresar datos y definir mayor altura\n"
   ]
  },
  {
   "cell_type": "code",
   "execution_count": 8,
   "metadata": {},
   "outputs": [
    {
     "name": "stdout",
     "output_type": "stream",
     "text": [
      "Datos de la primera persona\n",
      "Nombre: Juan\n",
      "Edad: 24\n",
      "Altura: 189\n"
     ]
    }
   ],
   "source": [
    "print(\"Datos de la primera persona\")\n",
    "nombre1 = input(\"Nombre: \")\n",
    "edad1 = int(input(\"Edad: \"))\n",
    "altura1 = float(input(\"Altura: \"))"
   ]
  },
  {
   "cell_type": "code",
   "execution_count": 9,
   "metadata": {},
   "outputs": [
    {
     "name": "stdout",
     "output_type": "stream",
     "text": [
      "Datos de la segunda persona\n",
      "Nombre: Marcos\n",
      "Edad: 25\n",
      "Altura: 169\n"
     ]
    }
   ],
   "source": [
    "print(\"Datos de la segunda persona\")\n",
    "nombre2 = input(\"Nombre: \")\n",
    "edad2 = int(input(\"Edad: \"))\n",
    "altura2 = float(input(\"Altura: \"))"
   ]
  },
  {
   "cell_type": "code",
   "execution_count": 10,
   "metadata": {},
   "outputs": [
    {
     "name": "stdout",
     "output_type": "stream",
     "text": [
      "La persona más alta es\n",
      "Juan\n"
     ]
    }
   ],
   "source": [
    "print(\"La persona más alta es\")\n",
    "if altura1 > altura2:\n",
    "    print(nombre1)\n",
    "else:\n",
    "    print(nombre2)"
   ]
  },
  {
   "cell_type": "code",
   "execution_count": 11,
   "metadata": {},
   "outputs": [],
   "source": [
    "#Cargar nombres e indicar el mayor"
   ]
  },
  {
   "cell_type": "code",
   "execution_count": 12,
   "metadata": {},
   "outputs": [
    {
     "name": "stdout",
     "output_type": "stream",
     "text": [
      "Ingrese el primer nombreJuan\n",
      "Ingrese el segundo nombreMarcos\n"
     ]
    }
   ],
   "source": [
    "nombre1 = input(\"Ingrese el primer nombre\")\n",
    "nombre2 = input(\"Ingrese el segundo nombre\")"
   ]
  },
  {
   "cell_type": "code",
   "execution_count": 13,
   "metadata": {},
   "outputs": [
    {
     "name": "stdout",
     "output_type": "stream",
     "text": [
      "Juan  Es mayor alfabeticamente\n"
     ]
    }
   ],
   "source": [
    "if nombre1 == nombre2:\n",
    "    print(\"Son Iguales\")\n",
    "else:\n",
    "    if nombre1 > nombre2:\n",
    "        print(nombre1, \" Es mayor alfabeticamente\")\n",
    "    else:\n",
    "        print(nombre1, \" Es mayor alfabeticamente\")"
   ]
  },
  {
   "cell_type": "code",
   "execution_count": 2,
   "metadata": {},
   "outputs": [
    {
     "name": "stdout",
     "output_type": "stream",
     "text": [
      "Ingrese valor: 3\n",
      "¿Desea continuar?(si/no)si\n",
      "Ingrese valor: 1231\n",
      "¿Desea continuar?(si/no)si\n",
      "Ingrese valor: 5\n",
      "¿Desea continuar?(si/no)l\n",
      "la suma es:  1239\n"
     ]
    }
   ],
   "source": [
    "# Ej 3 - Cargar valores por teclado. Informar la suma\n",
    "\n",
    "opcion = \"si\"\n",
    "suma = 0\n",
    "\n",
    "while opcion == \"si\":\n",
    "    valor = int(input(\"Ingrese valor: \"))\n",
    "    suma = suma + valor\n",
    "    opcion = input(\"¿Desea continuar?(si/no)\")\n",
    "print(\"la suma es: \", suma)"
   ]
  },
  {
   "cell_type": "code",
   "execution_count": 4,
   "metadata": {},
   "outputs": [
    {
     "name": "stdout",
     "output_type": "stream",
     "text": [
      "Ingrese el primer nombreMarcos\n",
      "Ingrese el segundo nombreAbel\n"
     ]
    }
   ],
   "source": [
    "#Realizar carga de dos nombres. Mostrar ordenados alfabeticamente\n",
    "\n",
    "nombre1 = input(\"Ingrese el primer nombre: \")\n",
    "nombre2 = input(\"Ingrese el segundo nombre: \")"
   ]
  },
  {
   "cell_type": "code",
   "execution_count": 6,
   "metadata": {},
   "outputs": [
    {
     "name": "stdout",
     "output_type": "stream",
     "text": [
      "Abel\n"
     ]
    }
   ],
   "source": [
    "if nombre1 == nombre2:\n",
    "    print(\"Son Iguales\")\n",
    "else:\n",
    "    if nombre1 < nombre2:\n",
    "        print(nombre1)\n",
    "    else:\n",
    "        print(nombre2)"
   ]
  },
  {
   "cell_type": "code",
   "execution_count": null,
   "metadata": {},
   "outputs": [],
   "source": []
  }
 ],
 "metadata": {
  "kernelspec": {
   "display_name": "Python 3",
   "language": "python",
   "name": "python3"
  },
  "language_info": {
   "codemirror_mode": {
    "name": "ipython",
    "version": 3
   },
   "file_extension": ".py",
   "mimetype": "text/x-python",
   "name": "python",
   "nbconvert_exporter": "python",
   "pygments_lexer": "ipython3",
   "version": "3.7.0"
  }
 },
 "nbformat": 4,
 "nbformat_minor": 2
}
