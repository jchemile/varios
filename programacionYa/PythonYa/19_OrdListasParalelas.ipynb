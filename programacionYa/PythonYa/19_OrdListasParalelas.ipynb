{
 "cells": [
  {
   "cell_type": "code",
   "execution_count": 1,
   "metadata": {},
   "outputs": [],
   "source": [
    "#Crear dos listas. Una con nombres y otras con notas. Ordenar las notas y los nombres respectivamente"
   ]
  },
  {
   "cell_type": "code",
   "execution_count": 2,
   "metadata": {},
   "outputs": [],
   "source": [
    "alumnos = [\"Juan\", \"Pedro\", \"Carla\", \"Maica\", \"Josefina\"]\n",
    "notas = [7,5,7,8,9]"
   ]
  },
  {
   "cell_type": "code",
   "execution_count": 10,
   "metadata": {},
   "outputs": [
    {
     "name": "stdout",
     "output_type": "stream",
     "text": [
      "Alumno 0 \n",
      "Nombre:  Juan \n",
      "Nota:  7 \n",
      "-----------\n",
      "Alumno 1 \n",
      "Nombre:  Pedro \n",
      "Nota:  5 \n",
      "-----------\n",
      "Alumno 2 \n",
      "Nombre:  Carla \n",
      "Nota:  7 \n",
      "-----------\n",
      "Alumno 3 \n",
      "Nombre:  Maica \n",
      "Nota:  8 \n",
      "-----------\n",
      "Alumno 4 \n",
      "Nombre:  Josefina \n",
      "Nota:  9 \n",
      "-----------\n"
     ]
    }
   ],
   "source": [
    "rango = len(alumnos)\n",
    "for x in range(rango):\n",
    "    print(\"Alumno\", x, \"\\nNombre: \", alumnos[x], \"\\nNota: \", notas[x], \"\\n-----------\")"
   ]
  },
  {
   "cell_type": "code",
   "execution_count": 12,
   "metadata": {},
   "outputs": [],
   "source": [
    "for k in range(4):\n",
    "    for x in range(4-k):\n",
    "        if notas[x] < notas[x + 1]:\n",
    "            auxNota = notas[x]\n",
    "            notas[x] = notas[x+ 1]\n",
    "            notas[x + 1] = auxNota\n",
    "            \n",
    "            auxAlumno = alumnos[x]\n",
    "            alumnos[x] = alumnos[x+ 1]\n",
    "            alumnos[x + 1] = auxAlumno"
   ]
  },
  {
   "cell_type": "code",
   "execution_count": 13,
   "metadata": {},
   "outputs": [
    {
     "name": "stdout",
     "output_type": "stream",
     "text": [
      "Alumno 0 \n",
      "Nombre:  Josefina \n",
      "Nota:  9 \n",
      "-----------\n",
      "Alumno 1 \n",
      "Nombre:  Maica \n",
      "Nota:  8 \n",
      "-----------\n",
      "Alumno 2 \n",
      "Nombre:  Juan \n",
      "Nota:  7 \n",
      "-----------\n",
      "Alumno 3 \n",
      "Nombre:  Pedro \n",
      "Nota:  7 \n",
      "-----------\n",
      "Alumno 4 \n",
      "Nombre:  Carla \n",
      "Nota:  5 \n",
      "-----------\n"
     ]
    }
   ],
   "source": [
    "for x in range(rango):\n",
    "    print(\"Alumno\", x, \"\\nNombre: \", alumnos[x], \"\\nNota: \", notas[x], \"\\n-----------\")"
   ]
  },
  {
   "cell_type": "code",
   "execution_count": 14,
   "metadata": {},
   "outputs": [],
   "source": [
    "#Crear una lista de paises y poblaciones. Ordenar por nombre y por poblacion"
   ]
  },
  {
   "cell_type": "code",
   "execution_count": 19,
   "metadata": {},
   "outputs": [],
   "source": [
    "paises = [\"Brazil\", \"Australia\",\"Argentina\",\"Congo\", \"Zambia\", \"Canadá\"]\n",
    "habitantes = [150,50,40,30,120,200]"
   ]
  },
  {
   "cell_type": "code",
   "execution_count": 20,
   "metadata": {},
   "outputs": [],
   "source": [
    "#Ordeno por nombre de A a Z\n",
    "for k in range(len(paises) - 1):\n",
    "    for x in range(len(paises) - 1 - k):\n",
    "        if paises[x] > paises[x + 1]:\n",
    "            auxPaises = paises[x]\n",
    "            paises[x] = paises[x + 1]\n",
    "            paises[x + 1] = auxPaises\n",
    "            \n",
    "            auxHabitantes = habitantes[x]\n",
    "            habitantes[x] = habitantes[x + 1]\n",
    "            habitantes[x + 1] = auxHabitantes"
   ]
  },
  {
   "cell_type": "code",
   "execution_count": 25,
   "metadata": {},
   "outputs": [
    {
     "name": "stdout",
     "output_type": "stream",
     "text": [
      "Argentina   40\n",
      "Australia   50\n",
      "Brazil   150\n",
      "Canadá   200\n",
      "Congo   30\n",
      "Zambia   120\n"
     ]
    }
   ],
   "source": [
    "for x in range(len(paises)):\n",
    "    print(paises[x], \" \", habitantes[x])"
   ]
  },
  {
   "cell_type": "code",
   "execution_count": 26,
   "metadata": {},
   "outputs": [],
   "source": [
    "#Ordeno por poblacion\n",
    "for k in range(len(paises) - 1):\n",
    "    for x in range(len(paises) - 1 - k):\n",
    "        if habitantes[x] > habitantes[x + 1]:\n",
    "            auxPaises = paises[x]\n",
    "            paises[x] = paises[x + 1]\n",
    "            paises[x + 1] = auxPaises\n",
    "            \n",
    "            auxHabitantes = habitantes[x]\n",
    "            habitantes[x] = habitantes[x + 1]\n",
    "            habitantes[x + 1] = auxHabitantes"
   ]
  },
  {
   "cell_type": "code",
   "execution_count": 27,
   "metadata": {},
   "outputs": [
    {
     "name": "stdout",
     "output_type": "stream",
     "text": [
      "Congo   30\n",
      "Argentina   40\n",
      "Australia   50\n",
      "Zambia   120\n",
      "Brazil   150\n",
      "Canadá   200\n"
     ]
    }
   ],
   "source": [
    "for x in range(len(paises)):\n",
    "    print(paises[x], \" \", habitantes[x])"
   ]
  },
  {
   "cell_type": "code",
   "execution_count": null,
   "metadata": {},
   "outputs": [],
   "source": []
  }
 ],
 "metadata": {
  "kernelspec": {
   "display_name": "Python 3",
   "language": "python",
   "name": "python3"
  },
  "language_info": {
   "codemirror_mode": {
    "name": "ipython",
    "version": 3
   },
   "file_extension": ".py",
   "mimetype": "text/x-python",
   "name": "python",
   "nbconvert_exporter": "python",
   "pygments_lexer": "ipython3",
   "version": "3.7.0"
  }
 },
 "nbformat": 4,
 "nbformat_minor": 2
}
