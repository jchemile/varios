{
 "cells": [
  {
   "cell_type": "code",
   "execution_count": 1,
   "metadata": {},
   "outputs": [],
   "source": [
    "#Crear y Cargar en una lista 5 enteros.\n",
    "#Implementar un algoritmo que identifique al mayor de la lista"
   ]
  },
  {
   "cell_type": "code",
   "execution_count": 2,
   "metadata": {},
   "outputs": [
    {
     "name": "stdout",
     "output_type": "stream",
     "text": [
      "Ingrese valor: 1\n",
      "Ingrese valor: 2\n",
      "Ingrese valor: 4\n",
      "Ingrese valor: 6\n",
      "Ingrese valor: 7\n"
     ]
    }
   ],
   "source": [
    "lista = []\n",
    "for x in range(5):\n",
    "    valor = int(input(\"Ingrese valor: \"))\n",
    "    lista.append(valor)"
   ]
  },
  {
   "cell_type": "code",
   "execution_count": 3,
   "metadata": {},
   "outputs": [],
   "source": [
    "mayor = lista[0]\n",
    "for x in range(1,5):\n",
    "    if lista[x] > mayor:\n",
    "        mayor = lista[x]"
   ]
  },
  {
   "cell_type": "code",
   "execution_count": 9,
   "metadata": {},
   "outputs": [
    {
     "ename": "NameError",
     "evalue": "name 'lista' is not defined",
     "output_type": "error",
     "traceback": [
      "\u001b[1;31m---------------------------------------------------------------------------\u001b[0m",
      "\u001b[1;31mNameError\u001b[0m                                 Traceback (most recent call last)",
      "\u001b[1;32m<ipython-input-9-e6b61b39a3b8>\u001b[0m in \u001b[0;36m<module>\u001b[1;34m()\u001b[0m\n\u001b[1;32m----> 1\u001b[1;33m \u001b[0mprint\u001b[0m\u001b[1;33m(\u001b[0m\u001b[1;34m\"Lista: \"\u001b[0m\u001b[1;33m,\u001b[0m \u001b[0mlista\u001b[0m\u001b[1;33m,\u001b[0m \u001b[1;34m\"Mayor: \"\u001b[0m\u001b[1;33m,\u001b[0m \u001b[0mmayor\u001b[0m\u001b[1;33m)\u001b[0m\u001b[1;33m\u001b[0m\u001b[0m\n\u001b[0m",
      "\u001b[1;31mNameError\u001b[0m: name 'lista' is not defined"
     ]
    }
   ],
   "source": [
    "print(\"Lista: \", lista, \"Mayor: \", mayor)"
   ]
  },
  {
   "cell_type": "code",
   "execution_count": 5,
   "metadata": {},
   "outputs": [],
   "source": [
    "#Crear y Cargar en una lista 5 enteros.\n",
    "#Implementar un algoritmo que identifique al menor de la lista"
   ]
  },
  {
   "cell_type": "code",
   "execution_count": 7,
   "metadata": {},
   "outputs": [],
   "source": [
    "menor = lista[0]\n",
    "for x in range(1, 5):\n",
    "    if lista[x] < menor:\n",
    "        menor = lista[x]"
   ]
  },
  {
   "cell_type": "code",
   "execution_count": 8,
   "metadata": {},
   "outputs": [
    {
     "name": "stdout",
     "output_type": "stream",
     "text": [
      "Lista:  [1, 2, 4, 6, 7] Mayor:  7 Menor:  1\n"
     ]
    }
   ],
   "source": [
    "print(\"Lista: \", lista, \"Mayor: \", mayor, \"Menor: \", menor)"
   ]
  },
  {
   "cell_type": "code",
   "execution_count": 4,
   "metadata": {},
   "outputs": [
    {
     "name": "stdout",
     "output_type": "stream",
     "text": [
      "Ingrese nombre: Juan\n",
      "Ingrese nombre: Abel\n",
      "Ingrese nombre: Carla\n",
      "Ingrese nombre: Bautista\n",
      "Ingrese nombre: Josefina\n"
     ]
    }
   ],
   "source": [
    "#Ingresar los nombres de 5 personas. Mostrar el de menor orden alfabético\n",
    "nombres = []\n",
    "x = 0\n",
    "\n",
    "while x < 5:\n",
    "    nombre = input(\"Ingrese nombre: \")\n",
    "    nombres.append(nombre)\n",
    "    x += 1"
   ]
  },
  {
   "cell_type": "code",
   "execution_count": 7,
   "metadata": {},
   "outputs": [],
   "source": [
    "menorOrden = nombres[0]\n",
    "for x in range(1,5):\n",
    "    if menorOrden > nombres[x]:\n",
    "        menorOrden = nombres[x]"
   ]
  },
  {
   "cell_type": "code",
   "execution_count": 8,
   "metadata": {},
   "outputs": [
    {
     "name": "stdout",
     "output_type": "stream",
     "text": [
      "Nombres:  ['Juan', 'Abel', 'Carla', 'Bautista', 'Josefina'] . Menor Orden:  Abel\n"
     ]
    }
   ],
   "source": [
    "print(\"Nombres: \", nombres, \". Menor Orden: \", menorOrden)"
   ]
  },
  {
   "cell_type": "code",
   "execution_count": 10,
   "metadata": {},
   "outputs": [],
   "source": [
    "#Cargar una lista con 5 elementos. Buscar el mayor. Mostrar si se repite."
   ]
  },
  {
   "cell_type": "code",
   "execution_count": 11,
   "metadata": {},
   "outputs": [
    {
     "name": "stdout",
     "output_type": "stream",
     "text": [
      "Ingrese valor: 1\n",
      "Ingrese valor: 5\n",
      "Ingrese valor: 43\n",
      "Ingrese valor: 43\n",
      "Ingrese valor: 8\n"
     ]
    }
   ],
   "source": [
    "lista = []\n",
    "for x in range(5):\n",
    "    valor = int(input(\"Ingrese valor: \"))\n",
    "    lista.append(valor)"
   ]
  },
  {
   "cell_type": "code",
   "execution_count": 16,
   "metadata": {},
   "outputs": [],
   "source": [
    "mayor = lista[0]\n",
    "\n",
    "for x in range(1,5):\n",
    "    if mayor < lista[x]:\n",
    "        mayor = lista[x]"
   ]
  },
  {
   "cell_type": "code",
   "execution_count": 18,
   "metadata": {},
   "outputs": [],
   "source": [
    "repite = 0\n",
    "\n",
    "for x in range(1,5):\n",
    "    if mayor == lista[x]:\n",
    "        repite += 1"
   ]
  },
  {
   "cell_type": "code",
   "execution_count": 19,
   "metadata": {},
   "outputs": [
    {
     "name": "stdout",
     "output_type": "stream",
     "text": [
      "Lista:  [1, 5, 43, 43, 8] Mayor:  43 Se Repite:  2\n"
     ]
    }
   ],
   "source": [
    "print(\"Lista: \", lista, \"Mayor: \", mayor, \"Se Repite: \", repite)"
   ]
  },
  {
   "cell_type": "code",
   "execution_count": null,
   "metadata": {},
   "outputs": [],
   "source": []
  }
 ],
 "metadata": {
  "kernelspec": {
   "display_name": "Python 3",
   "language": "python",
   "name": "python3"
  },
  "language_info": {
   "codemirror_mode": {
    "name": "ipython",
    "version": 3
   },
   "file_extension": ".py",
   "mimetype": "text/x-python",
   "name": "python",
   "nbconvert_exporter": "python",
   "pygments_lexer": "ipython3",
   "version": "3.7.0"
  }
 },
 "nbformat": 4,
 "nbformat_minor": 2
}
