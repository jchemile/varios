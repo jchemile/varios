{
 "cells": [
  {
   "cell_type": "code",
   "execution_count": 1,
   "metadata": {},
   "outputs": [
    {
     "name": "stdout",
     "output_type": "stream",
     "text": [
      "Nombre: Juan\n",
      "Primer carcter:  J .Cantidad de letras:  4\n"
     ]
    }
   ],
   "source": [
    "#Ejemplo 1 - Cargar nombre y mostrar primer caracter\n",
    "nombre = input(\"Nombre: \")\n",
    "print(\"Primer carcter: \", nombre[0], \".Cantidad de letras: \", len(nombre))"
   ]
  },
  {
   "cell_type": "code",
   "execution_count": 4,
   "metadata": {},
   "outputs": [
    {
     "name": "stdout",
     "output_type": "stream",
     "text": [
      "Nombre: abel\n"
     ]
    }
   ],
   "source": [
    "#Ejemplo 2 - Cargar el nombre. Si comienza con minúscula informar\n",
    "nombre = input(\"Nombre: \")"
   ]
  },
  {
   "cell_type": "code",
   "execution_count": 5,
   "metadata": {},
   "outputs": [
    {
     "name": "stdout",
     "output_type": "stream",
     "text": [
      "Empieza con Vocal\n"
     ]
    }
   ],
   "source": [
    "if nombre[0] == \"a\" or nombre[0] == \"e\" or nombre[0] == \"i\" or nombre[0] == \"o\" or nombre[0] == \"u\":\n",
    "    print(\"Empieza con Vocal\")\n",
    "else:\n",
    "    print(\"No empieza con Vocal\")"
   ]
  },
  {
   "cell_type": "code",
   "execution_count": 6,
   "metadata": {},
   "outputs": [
    {
     "name": "stdout",
     "output_type": "stream",
     "text": [
      "mail: juanito@gmail.com\n"
     ]
    }
   ],
   "source": [
    "#Ejemplo 3 - verificar si el string contiene @\n",
    "mail = input(\"mail: \")"
   ]
  },
  {
   "cell_type": "code",
   "execution_count": 9,
   "metadata": {},
   "outputs": [
    {
     "name": "stdout",
     "output_type": "stream",
     "text": [
      "Contiene @\n"
     ]
    }
   ],
   "source": [
    "for i in mail:\n",
    "    if i == \"@\":\n",
    "        print(\"Contiene @\")"
   ]
  },
  {
   "cell_type": "code",
   "execution_count": 10,
   "metadata": {},
   "outputs": [
    {
     "name": "stdout",
     "output_type": "stream",
     "text": [
      "Contiene @\n"
     ]
    }
   ],
   "source": [
    "cantidad = 0\n",
    "x = 0\n",
    "\n",
    "while x < len(mail):\n",
    "    if mail[x] == \"@\":\n",
    "        cantidad = cantidad + 1\n",
    "    x = x + 1\n",
    "    \n",
    "if cantidad == 1:\n",
    "    print(\"Contiene @\")\n",
    "else:\n",
    "    print(\"No contiene @\")"
   ]
  },
  {
   "cell_type": "code",
   "execution_count": 16,
   "metadata": {},
   "outputs": [
    {
     "name": "stdout",
     "output_type": "stream",
     "text": [
      "mAriA\n",
      "Upper: MARIA Lower: maria Capitalize: Maria\n"
     ]
    }
   ],
   "source": [
    "#Con un string = maRiA  realizar modificaciones con upper, lower y capitalize\n",
    "\n",
    "string = \"mAriA\"\n",
    "print(string)\n",
    "print(\"Upper:\", string.upper(), \"Lower:\", string.lower(), \"Capitalize:\", string.capitalize() )"
   ]
  },
  {
   "cell_type": "code",
   "execution_count": 24,
   "metadata": {},
   "outputs": [
    {
     "name": "stdout",
     "output_type": "stream",
     "text": [
      "Espacios =  47\n"
     ]
    }
   ],
   "source": [
    "#Contar espacios\n",
    "texto = \"De 3 toneladsde peso y fabricado íntegramente en el país, servirá para generar sistemas de alerta temprana de inundaciones elaborar mapas de riesgo de enfermedades de los cultivos, vigilancia del mar argentino frente a la pesca ilegal, y también para dar soporte a la gestión de emergencias ambientales\"\n",
    "\n",
    "espacio = 0\n",
    "for letra in texto:\n",
    "    if letra == \" \":\n",
    "        espacio += 1\n",
    "        \n",
    "print(\"Espacios = \", espacio)"
   ]
  },
  {
   "cell_type": "code",
   "execution_count": 25,
   "metadata": {},
   "outputs": [],
   "source": [
    "texto_minuscula = texto.lower()\n",
    "\n",
    "vocales = 0"
   ]
  },
  {
   "cell_type": "code",
   "execution_count": 26,
   "metadata": {},
   "outputs": [
    {
     "name": "stdout",
     "output_type": "stream",
     "text": [
      "Vocales:  106\n"
     ]
    }
   ],
   "source": [
    "for letra in texto_minuscula:\n",
    "    if letra == \"a\" or letra == \"e\" or letra == \"i\" or letra == \"o\" or letra == \"u\":\n",
    "        vocales += 1\n",
    "        \n",
    "print(\"Vocales: \", vocales)"
   ]
  },
  {
   "cell_type": "code",
   "execution_count": 30,
   "metadata": {},
   "outputs": [
    {
     "name": "stdout",
     "output_type": "stream",
     "text": [
      "Ingrese clave. Tienen que ser más de 5 caracteres:\n",
      "123\n"
     ]
    }
   ],
   "source": [
    "#String de 20 a 30 caracteres\n",
    "clave = input(\"Ingrese clave. Tienen que ser más de 5 caracteres:\\n\")"
   ]
  },
  {
   "cell_type": "code",
   "execution_count": 31,
   "metadata": {},
   "outputs": [
    {
     "name": "stdout",
     "output_type": "stream",
     "text": [
      "Son menos de 5\n"
     ]
    }
   ],
   "source": [
    "if len(clave) < 5:\n",
    "    print(\"Son menos de 5\")\n",
    "else:\n",
    "    print(\"Es correcto\")"
   ]
  },
  {
   "cell_type": "code",
   "execution_count": null,
   "metadata": {},
   "outputs": [],
   "source": []
  }
 ],
 "metadata": {
  "kernelspec": {
   "display_name": "Python 3",
   "language": "python",
   "name": "python3"
  },
  "language_info": {
   "codemirror_mode": {
    "name": "ipython",
    "version": 3
   },
   "file_extension": ".py",
   "mimetype": "text/x-python",
   "name": "python",
   "nbconvert_exporter": "python",
   "pygments_lexer": "ipython3",
   "version": "3.7.0"
  }
 },
 "nbformat": 4,
 "nbformat_minor": 2
}
