{
 "cells": [
  {
   "cell_type": "code",
   "execution_count": 3,
   "metadata": {},
   "outputs": [
    {
     "name": "stdout",
     "output_type": "stream",
     "text": [
      "Tabla del 5 usando while\n",
      "5\n",
      "10\n",
      "15\n",
      "20\n",
      "25\n",
      "30\n",
      "35\n",
      "40\n",
      "45\n",
      "50\n"
     ]
    }
   ],
   "source": [
    "#Usando While\n",
    "print(\"Tabla del 5 usando while\")\n",
    "x = 5\n",
    "while x <= 50:\n",
    "    print(x)\n",
    "    x = x + 5"
   ]
  },
  {
   "cell_type": "code",
   "execution_count": 4,
   "metadata": {},
   "outputs": [
    {
     "name": "stdout",
     "output_type": "stream",
     "text": [
      "Tabla del 5 usando for\n",
      "5\n",
      "10\n",
      "15\n",
      "20\n",
      "25\n",
      "30\n",
      "35\n",
      "40\n",
      "45\n",
      "50\n"
     ]
    }
   ],
   "source": [
    "#Usando For\n",
    "print(\"Tabla del 5 usando for\")\n",
    "for x in range(5,51,5):\n",
    "    print(x)"
   ]
  },
  {
   "cell_type": "code",
   "execution_count": 8,
   "metadata": {},
   "outputs": [
    {
     "name": "stdout",
     "output_type": "stream",
     "text": [
      "Ingrese un valor. Si ingresa -1 el programa finalizará\n",
      "1\n",
      "Ingrese un valor. Si ingresa -1 el programa finalizará\n",
      "2\n",
      "Ingrese un valor. Si ingresa -1 el programa finalizará\n",
      "4\n",
      "Ingrese un valor. Si ingresa -1 el programa finalizará\n",
      "3\n",
      "Ingrese un valor. Si ingresa -1 el programa finalizará\n",
      "-1\n",
      "El total ingresado es 10\n"
     ]
    }
   ],
   "source": [
    "#Valor por teclado y sumar. Finaliza con -1\n",
    "\n",
    "x = int(input(\"Ingrese un valor. Si ingresa -1 el programa finalizará\\n\"))\n",
    "total = 0\n",
    "\n",
    "while x > -1:\n",
    "    total = total + x\n",
    "    x = int(input(\"Ingrese un valor. Si ingresa -1 el programa finalizará\\n\"))\n",
    "\n",
    "print(\"El total ingresado es\", total)"
   ]
  },
  {
   "cell_type": "code",
   "execution_count": 11,
   "metadata": {},
   "outputs": [
    {
     "name": "stdout",
     "output_type": "stream",
     "text": [
      "Ingrese un valor\n",
      "1\n",
      "Ingrese un valor\n",
      "2\n",
      "Ingrese un valor\n",
      "3\n",
      "Ingrese un valor\n",
      "4\n",
      "Ingrese un valor\n",
      "5\n",
      "Ingrese un valor\n",
      "6\n",
      "Ingrese un valor\n",
      "7\n",
      "Ingrese un valor\n",
      "8\n",
      "Ingrese un valor\n",
      "9\n",
      "Ingrese un valor\n",
      "10\n",
      "La suma total ingresada es igual a  55\n"
     ]
    }
   ],
   "source": [
    "#Ejercicio para comentarios\n",
    "n = 0\n",
    "suma = 0\n",
    "numero = 0\n",
    "\n",
    "while n < 10:\n",
    "    numero = int(input(\"Ingrese un valor\\n\"))\n",
    "    suma = suma + numero\n",
    "    n = n + 1\n",
    "    \n",
    "print(\"La suma total ingresada es igual a \", suma)"
   ]
  },
  {
   "cell_type": "code",
   "execution_count": null,
   "metadata": {},
   "outputs": [],
   "source": []
  }
 ],
 "metadata": {
  "kernelspec": {
   "display_name": "Python 3",
   "language": "python",
   "name": "python3"
  },
  "language_info": {
   "codemirror_mode": {
    "name": "ipython",
    "version": 3
   },
   "file_extension": ".py",
   "mimetype": "text/x-python",
   "name": "python",
   "nbconvert_exporter": "python",
   "pygments_lexer": "ipython3",
   "version": "3.7.0"
  }
 },
 "nbformat": 4,
 "nbformat_minor": 2
}
