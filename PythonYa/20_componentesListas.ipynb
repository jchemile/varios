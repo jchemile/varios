{
 "cells": [
  {
   "cell_type": "code",
   "execution_count": 1,
   "metadata": {},
   "outputs": [],
   "source": [
    "#Crear una lista con otra lista dentro y que tenga tres enteros dentro"
   ]
  },
  {
   "cell_type": "code",
   "execution_count": 10,
   "metadata": {},
   "outputs": [],
   "source": [
    "lista = [[1,2,3],[4,5,6],[7,8,9],[10,11,12]]"
   ]
  },
  {
   "cell_type": "code",
   "execution_count": 11,
   "metadata": {},
   "outputs": [
    {
     "name": "stdout",
     "output_type": "stream",
     "text": [
      "[[1, 2, 3], [4, 5, 6], [7, 8, 9], [10, 11, 12]]\n"
     ]
    }
   ],
   "source": [
    "print(lista)"
   ]
  },
  {
   "cell_type": "code",
   "execution_count": 12,
   "metadata": {},
   "outputs": [
    {
     "name": "stdout",
     "output_type": "stream",
     "text": [
      "[1, 2, 3]\n"
     ]
    }
   ],
   "source": [
    "print(lista[0])"
   ]
  },
  {
   "cell_type": "code",
   "execution_count": 13,
   "metadata": {},
   "outputs": [
    {
     "name": "stdout",
     "output_type": "stream",
     "text": [
      "1\n"
     ]
    }
   ],
   "source": [
    "print(lista[0][0])"
   ]
  },
  {
   "cell_type": "code",
   "execution_count": 14,
   "metadata": {},
   "outputs": [
    {
     "name": "stdout",
     "output_type": "stream",
     "text": [
      "1\n",
      "2\n",
      "3\n"
     ]
    }
   ],
   "source": [
    "for i in range(len(lista[0])):\n",
    "    print(lista[0][i])"
   ]
  },
  {
   "cell_type": "code",
   "execution_count": 15,
   "metadata": {},
   "outputs": [
    {
     "name": "stdout",
     "output_type": "stream",
     "text": [
      "1\n",
      "2\n",
      "3\n",
      "4\n",
      "5\n",
      "6\n",
      "7\n",
      "8\n",
      "9\n",
      "10\n",
      "11\n",
      "12\n"
     ]
    }
   ],
   "source": [
    "for k in range(len(lista)):\n",
    "    for x in range(len(lista[k])):\n",
    "        print(lista[k][x])"
   ]
  },
  {
   "cell_type": "code",
   "execution_count": 17,
   "metadata": {},
   "outputs": [],
   "source": [
    "#Crear una lista. Dentro otra lsita que teiene que tener dos elemento con 5 enteros. Mostrar la suma de los elementos"
   ]
  },
  {
   "cell_type": "code",
   "execution_count": 18,
   "metadata": {},
   "outputs": [],
   "source": [
    "lista = [[1,1,1,1,1],[2,2,2,2,2]]"
   ]
  },
  {
   "cell_type": "code",
   "execution_count": 20,
   "metadata": {},
   "outputs": [
    {
     "name": "stdout",
     "output_type": "stream",
     "text": [
      "Suma 1: 5 \n",
      "Suma 2: 10\n"
     ]
    }
   ],
   "source": [
    "suma1 = lista[0][0] + lista[0][1] + lista[0][2] + lista[0][3] + lista[0][4]\n",
    "suma2 = lista[1][0] + lista[1][1] + lista[1][2] + lista[1][3] + lista[1][4]\n",
    "print(\"Suma 1:\", suma1, \"\\nSuma 2:\", suma2)"
   ]
  },
  {
   "cell_type": "code",
   "execution_count": 21,
   "metadata": {},
   "outputs": [
    {
     "name": "stdout",
     "output_type": "stream",
     "text": [
      "Suma 1: 5 \n",
      "Suma 2: 10\n"
     ]
    }
   ],
   "source": [
    "#Con una iteración\n",
    "suma1 = 0\n",
    "suma2 = 0\n",
    "for x in range(len(lista[0])):\n",
    "    suma1 += lista[0][x]\n",
    "    \n",
    "for x in range(len(lista[1])):\n",
    "    suma2 += lista[1][x]\n",
    "    \n",
    "print(\"Suma 1:\", suma1, \"\\nSuma 2:\", suma2)"
   ]
  },
  {
   "cell_type": "code",
   "execution_count": 23,
   "metadata": {},
   "outputs": [
    {
     "name": "stdout",
     "output_type": "stream",
     "text": [
      "5\n",
      "10\n"
     ]
    }
   ],
   "source": [
    "for k in range(len(lista)):\n",
    "    suma = 0\n",
    "    for x in range(len(lista[k])):\n",
    "        suma += lista[k][x] \n",
    "    print(suma)    "
   ]
  },
  {
   "cell_type": "code",
   "execution_count": 24,
   "metadata": {},
   "outputs": [],
   "source": [
    "#Crear una lista que tenga 5 elementos. Cada elemento debe ser una lista. La listas deben tener elementos variables"
   ]
  },
  {
   "cell_type": "code",
   "execution_count": 27,
   "metadata": {},
   "outputs": [],
   "source": [
    "lista = [[1],[1,2],[1,2,3],[1,2,3,4],[1,2,3,4,5]]"
   ]
  },
  {
   "cell_type": "code",
   "execution_count": 29,
   "metadata": {},
   "outputs": [
    {
     "name": "stdout",
     "output_type": "stream",
     "text": [
      "35\n"
     ]
    }
   ],
   "source": [
    "suma = 0\n",
    "for k in range(len(lista)):\n",
    "    for x in range(len(lista[k])):\n",
    "        suma += lista[k][x]\n",
    "print(suma)"
   ]
  },
  {
   "cell_type": "code",
   "execution_count": 35,
   "metadata": {},
   "outputs": [
    {
     "name": "stdout",
     "output_type": "stream",
     "text": [
      "[[100, 7, 85, 8], [4, 8, 56, 25], [67, 89, 23, 1], [78, 56]]\n"
     ]
    }
   ],
   "source": [
    "#Ejercicio 1 - Se tiene una lista. Imprimir mi lista. Cambiar a 0 los valores mayores del primer elemento de la lista\n",
    "#volver a imprimir\n",
    "\n",
    "lista = [[100,7,85,8],[4,8,56,25],[67,89,23,1],[78,56]]\n",
    "print(lista)"
   ]
  },
  {
   "cell_type": "code",
   "execution_count": 42,
   "metadata": {},
   "outputs": [],
   "source": [
    "for k in range(len(lista)):\n",
    "    for x in range(len(lista[k])):\n",
    "        if k == 0:\n",
    "            if lista[k][x] > 50:\n",
    "                lista[k][x] = 0"
   ]
  },
  {
   "cell_type": "code",
   "execution_count": 43,
   "metadata": {},
   "outputs": [
    {
     "name": "stdout",
     "output_type": "stream",
     "text": [
      "[[0, 7, 0, 8], [4, 8, 56, 25], [67, 89, 23, 1], [78, 56]]\n"
     ]
    }
   ],
   "source": [
    "print(lista)"
   ]
  },
  {
   "cell_type": "code",
   "execution_count": 44,
   "metadata": {},
   "outputs": [
    {
     "name": "stdout",
     "output_type": "stream",
     "text": [
      "[[4, 12, 5, 66], [14, 6, 25], [3, 4, 5, 67, 89, 23, 11], [78, 56]]\n"
     ]
    }
   ],
   "source": [
    "#Ejercicio2 - Imprimir lista. Fijar como cero todos los valores mayores a 10. Volver a imprimir\n",
    "lista = [[4,12,5,66],[14,6,25],[3,4,5,67,89,23,11],[78,56]]\n",
    "print(lista)"
   ]
  },
  {
   "cell_type": "code",
   "execution_count": 45,
   "metadata": {},
   "outputs": [
    {
     "name": "stdout",
     "output_type": "stream",
     "text": [
      "[[4, 0, 5, 0], [0, 6, 0], [3, 4, 5, 0, 0, 0, 0], [0, 0]]\n"
     ]
    }
   ],
   "source": [
    "for k in range(len(lista)):\n",
    "    for x in range(len(lista[k])):\n",
    "        if lista[k][x] > 10:\n",
    "            lista[k][x] = 0\n",
    "print(lista)"
   ]
  },
  {
   "cell_type": "code",
   "execution_count": 46,
   "metadata": {},
   "outputs": [
    {
     "name": "stdout",
     "output_type": "stream",
     "text": [
      "[0, 0]\n"
     ]
    }
   ],
   "source": [
    "#Imprimir el último elemento de la lista principal\n",
    "print(lista[-1])"
   ]
  },
  {
   "cell_type": "code",
   "execution_count": null,
   "metadata": {},
   "outputs": [],
   "source": []
  }
 ],
 "metadata": {
  "kernelspec": {
   "display_name": "Python 3",
   "language": "python",
   "name": "python3"
  },
  "language_info": {
   "codemirror_mode": {
    "name": "ipython",
    "version": 3
   },
   "file_extension": ".py",
   "mimetype": "text/x-python",
   "name": "python",
   "nbconvert_exporter": "python",
   "pygments_lexer": "ipython3",
   "version": "3.7.0"
  }
 },
 "nbformat": 4,
 "nbformat_minor": 2
}
