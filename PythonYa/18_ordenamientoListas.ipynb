{
 "cells": [
  {
   "cell_type": "code",
   "execution_count": 5,
   "metadata": {},
   "outputs": [],
   "source": [
    "sueldos = [123,3,5,67,156]"
   ]
  },
  {
   "cell_type": "code",
   "execution_count": 8,
   "metadata": {},
   "outputs": [],
   "source": [
    "#Ordeno Sueldos\n",
    "for x in range(4):\n",
    "    if sueldos[x] > sueldos[x +1]:\n",
    "        aux = sueldos[x]\n",
    "        sueldos[x] = sueldos[x +1]\n",
    "        sueldos[x+1] = aux\n",
    "    "
   ]
  },
  {
   "cell_type": "code",
   "execution_count": 9,
   "metadata": {},
   "outputs": [
    {
     "name": "stdout",
     "output_type": "stream",
     "text": [
      "[3, 5, 67, 123, 156]\n"
     ]
    }
   ],
   "source": [
    "print(sueldos)"
   ]
  },
  {
   "cell_type": "code",
   "execution_count": 27,
   "metadata": {},
   "outputs": [],
   "source": [
    "#Lista Paises\n",
    "paises = [\"Zaire\", \"Brazil\",\"Perú\", \"Bolivia\",\"Argentina\"]"
   ]
  },
  {
   "cell_type": "code",
   "execution_count": 28,
   "metadata": {},
   "outputs": [],
   "source": [
    "#Ordeno Paises\n",
    "for k in range(4):\n",
    "    for x in range(4-k):\n",
    "        if paises[x] > paises[x + 1]:\n",
    "            aux = paises[x]\n",
    "            paises[x] = paises[x + 1]\n",
    "            paises[x + 1] = aux"
   ]
  },
  {
   "cell_type": "code",
   "execution_count": 29,
   "metadata": {},
   "outputs": [
    {
     "name": "stdout",
     "output_type": "stream",
     "text": [
      "['Argentina', 'Bolivia', 'Brazil', 'Perú', 'Zaire']\n"
     ]
    }
   ],
   "source": [
    "print(paises)"
   ]
  },
  {
   "cell_type": "code",
   "execution_count": 34,
   "metadata": {},
   "outputs": [],
   "source": [
    "#Sueldos\n",
    "sueldos = [123,3,5,67,156]"
   ]
  },
  {
   "cell_type": "code",
   "execution_count": 32,
   "metadata": {},
   "outputs": [],
   "source": [
    "for k in range(len(sueldos) - 1):\n",
    "    for x in range(len(sueldos) - 1 - k):\n",
    "        if sueldos[x] > sueldos[x + 1]:\n",
    "            aux = sueldos[x]\n",
    "            sueldos[x] = sueldos[x + 1]\n",
    "            sueldos[x + 1] = aux"
   ]
  },
  {
   "cell_type": "code",
   "execution_count": 35,
   "metadata": {},
   "outputs": [
    {
     "name": "stdout",
     "output_type": "stream",
     "text": [
      "[123, 3, 5, 67, 156]\n"
     ]
    }
   ],
   "source": [
    "print(sueldos)"
   ]
  },
  {
   "cell_type": "code",
   "execution_count": 36,
   "metadata": {},
   "outputs": [],
   "source": [
    "#Elementos\n",
    "elementos = [45, 98, 65, 154, 890]"
   ]
  },
  {
   "cell_type": "code",
   "execution_count": 37,
   "metadata": {},
   "outputs": [],
   "source": [
    "#Mayor a Menor\n",
    "for k in range(len(elementos) - 1):\n",
    "    for x in range(len(elementos) - 1 - k):\n",
    "        if elementos[x] < elementos[x+1]:\n",
    "            aux = elementos[x]\n",
    "            elementos[x] = elementos[x + 1]\n",
    "            elementos[x + 1] = aux"
   ]
  },
  {
   "cell_type": "code",
   "execution_count": 38,
   "metadata": {},
   "outputs": [
    {
     "name": "stdout",
     "output_type": "stream",
     "text": [
      "[890, 154, 98, 65, 45]\n"
     ]
    }
   ],
   "source": [
    "print(elementos)"
   ]
  },
  {
   "cell_type": "code",
   "execution_count": 39,
   "metadata": {},
   "outputs": [],
   "source": [
    "#De Menor a Mayor\n",
    "for k in range(len(elementos) - 1):\n",
    "    for x in range(len(elementos) - 1 - k):\n",
    "        if elementos[x] > elementos[x + 1]:\n",
    "            aux = elementos[x]\n",
    "            elementos[x] = elementos[x + 1]\n",
    "            elementos[x + 1] = aux"
   ]
  },
  {
   "cell_type": "code",
   "execution_count": 40,
   "metadata": {},
   "outputs": [
    {
     "name": "stdout",
     "output_type": "stream",
     "text": [
      "[45, 65, 98, 154, 890]\n"
     ]
    }
   ],
   "source": [
    "print(elementos)"
   ]
  },
  {
   "cell_type": "code",
   "execution_count": null,
   "metadata": {},
   "outputs": [],
   "source": []
  }
 ],
 "metadata": {
  "kernelspec": {
   "display_name": "Python 3",
   "language": "python",
   "name": "python3"
  },
  "language_info": {
   "codemirror_mode": {
    "name": "ipython",
    "version": 3
   },
   "file_extension": ".py",
   "mimetype": "text/x-python",
   "name": "python",
   "nbconvert_exporter": "python",
   "pygments_lexer": "ipython3",
   "version": "3.7.0"
  }
 },
 "nbformat": 4,
 "nbformat_minor": 2
}
