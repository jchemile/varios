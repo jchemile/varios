{
 "cells": [
  {
   "cell_type": "code",
   "execution_count": 1,
   "metadata": {},
   "outputs": [],
   "source": [
    "lista = [10,20,30,40]"
   ]
  },
  {
   "cell_type": "code",
   "execution_count": 2,
   "metadata": {},
   "outputs": [],
   "source": [
    "lista.append(120)"
   ]
  },
  {
   "cell_type": "code",
   "execution_count": 3,
   "metadata": {},
   "outputs": [
    {
     "data": {
      "text/plain": [
       "[10, 20, 30, 40, 120]"
      ]
     },
     "execution_count": 3,
     "metadata": {},
     "output_type": "execute_result"
    }
   ],
   "source": [
    "lista"
   ]
  },
  {
   "cell_type": "code",
   "execution_count": 4,
   "metadata": {},
   "outputs": [
    {
     "data": {
      "text/plain": [
       "30"
      ]
     },
     "execution_count": 4,
     "metadata": {},
     "output_type": "execute_result"
    }
   ],
   "source": [
    "lista.pop(2)"
   ]
  },
  {
   "cell_type": "code",
   "execution_count": 6,
   "metadata": {},
   "outputs": [
    {
     "data": {
      "text/plain": [
       "[10, 20, 40, 120]"
      ]
     },
     "execution_count": 6,
     "metadata": {},
     "output_type": "execute_result"
    }
   ],
   "source": [
    "lista"
   ]
  },
  {
   "cell_type": "code",
   "execution_count": 7,
   "metadata": {},
   "outputs": [
    {
     "name": "stdout",
     "output_type": "stream",
     "text": [
      "[10, 20, 40, 120]\n"
     ]
    }
   ],
   "source": [
    "lista1 = [10,20,30,40,50]\n",
    "print(lista)"
   ]
  },
  {
   "cell_type": "code",
   "execution_count": 8,
   "metadata": {},
   "outputs": [
    {
     "data": {
      "text/plain": [
       "10"
      ]
     },
     "execution_count": 8,
     "metadata": {},
     "output_type": "execute_result"
    }
   ],
   "source": [
    "lista.pop(0)"
   ]
  },
  {
   "cell_type": "code",
   "execution_count": 9,
   "metadata": {},
   "outputs": [
    {
     "data": {
      "text/plain": [
       "[20, 40, 120]"
      ]
     },
     "execution_count": 9,
     "metadata": {},
     "output_type": "execute_result"
    }
   ],
   "source": [
    "lista"
   ]
  },
  {
   "cell_type": "code",
   "execution_count": 12,
   "metadata": {},
   "outputs": [],
   "source": [
    "#Problema 2:\n",
    "#Crear una lista y almacenar 10 enteros pedidos por teclado. Eliminar todos los elementos que sean iguales al número entero 5."
   ]
  },
  {
   "cell_type": "code",
   "execution_count": 13,
   "metadata": {},
   "outputs": [
    {
     "name": "stdout",
     "output_type": "stream",
     "text": [
      "Ingrese valor:1\n",
      "Ingrese valor:2\n",
      "Ingrese valor:3\n",
      "Ingrese valor:4\n",
      "Ingrese valor:5\n",
      "Ingrese valor:6\n",
      "Ingrese valor:7\n",
      "Ingrese valor:8\n",
      "Ingrese valor:9\n",
      "Ingrese valor:10\n"
     ]
    }
   ],
   "source": [
    "lista = []\n",
    "for x in range(10):\n",
    "    valor = int(input(\"Ingrese valor:\"))\n",
    "    lista.append(valor)"
   ]
  },
  {
   "cell_type": "code",
   "execution_count": 14,
   "metadata": {},
   "outputs": [
    {
     "name": "stdout",
     "output_type": "stream",
     "text": [
      "[1, 2, 3, 4, 5, 6, 7, 8, 9, 10]\n"
     ]
    }
   ],
   "source": [
    "print(lista)"
   ]
  },
  {
   "cell_type": "code",
   "execution_count": 15,
   "metadata": {},
   "outputs": [],
   "source": [
    "posicion = 0\n",
    "while posicion < len(lista):\n",
    "    if lista[posicion] == 5:\n",
    "        lista.pop(posicion)\n",
    "    else:\n",
    "        posicion=posicion +1"
   ]
  },
  {
   "cell_type": "code",
   "execution_count": 16,
   "metadata": {},
   "outputs": [
    {
     "name": "stdout",
     "output_type": "stream",
     "text": [
      "[1, 2, 3, 4, 6, 7, 8, 9, 10]\n"
     ]
    }
   ],
   "source": [
    "print(lista)"
   ]
  },
  {
   "cell_type": "code",
   "execution_count": 19,
   "metadata": {},
   "outputs": [
    {
     "data": {
      "text/plain": [
       "'\\nCrear dos listas paralelas. En la primera ingresar los nombres de empleados y en la segunda los sueldos de cada empleado.\\nIngresar por teclado cuando inicia el programa la cantidad de empleados de la empresa.\\nBorrar luego todos los empleados que tienen un sueldo mayor a 10000 (tanto el sueldo como su nombre)\\n'"
      ]
     },
     "execution_count": 19,
     "metadata": {},
     "output_type": "execute_result"
    }
   ],
   "source": [
    "#Problema 3\n",
    "\"\"\"\n",
    "Crear dos listas paralelas. En la primera ingresar los nombres de empleados y en la segunda los sueldos de cada empleado.\n",
    "Ingresar por teclado cuando inicia el programa la cantidad de empleados de la empresa.\n",
    "Borrar luego todos los empleados que tienen un sueldo mayor a 10000 (tanto el sueldo como su nombre)\n",
    "\"\"\""
   ]
  },
  {
   "cell_type": "code",
   "execution_count": 34,
   "metadata": {},
   "outputs": [],
   "source": [
    "nombres = []\n",
    "sueldos = []"
   ]
  },
  {
   "cell_type": "code",
   "execution_count": 35,
   "metadata": {},
   "outputs": [],
   "source": [
    "def carga_usuarios(nombre, sueldo, cant):\n",
    "    \n",
    "    for i in range(cant):\n",
    "        nom = input(\"Ingrese Nombre: \")\n",
    "        nombre.append(nom)\n",
    "        suel = int(input(\"Ingrese sueldo: \"))\n",
    "        sueldo.append(suel)"
   ]
  },
  {
   "cell_type": "code",
   "execution_count": 36,
   "metadata": {},
   "outputs": [
    {
     "name": "stdout",
     "output_type": "stream",
     "text": [
      "Ingrese Nombre: a\n",
      "Ingrese sueldo: 10\n",
      "Ingrese Nombre: b\n",
      "Ingrese sueldo: 10\n",
      "Ingrese Nombre: c\n",
      "Ingrese sueldo: 15\n",
      "Ingrese Nombre: d\n",
      "Ingrese sueldo: 20\n",
      "Ingrese Nombre: e\n",
      "Ingrese sueldo: 25\n"
     ]
    }
   ],
   "source": [
    "carga_usuarios(nombres,sueldos,5)"
   ]
  },
  {
   "cell_type": "code",
   "execution_count": 77,
   "metadata": {},
   "outputs": [],
   "source": [
    "def eliminar(nombre, sueldo):\n",
    "    for i in range(len(nombre)):\n",
    "        if sueldo[i] > 10:\n",
    "            nombre.pop(i)\n",
    "            sueldo.pop(i)"
   ]
  },
  {
   "cell_type": "code",
   "execution_count": 78,
   "metadata": {},
   "outputs": [],
   "source": [
    "def imprimir(nombres,sueldos):\n",
    "    for i in range(len(nombres)):\n",
    "        print(\"Nombre\",  nombres[i], \"Sueldo\", sueldos[i])"
   ]
  },
  {
   "cell_type": "code",
   "execution_count": 79,
   "metadata": {},
   "outputs": [
    {
     "name": "stdout",
     "output_type": "stream",
     "text": [
      "Nombre d Sueldo 20\n"
     ]
    }
   ],
   "source": [
    "imprimir(nombres, sueldos)"
   ]
  },
  {
   "cell_type": "code",
   "execution_count": 80,
   "metadata": {},
   "outputs": [],
   "source": [
    "eliminar(nombres, sueldos)"
   ]
  },
  {
   "cell_type": "code",
   "execution_count": 81,
   "metadata": {},
   "outputs": [],
   "source": [
    "imprimir(nombres, sueldos)"
   ]
  },
  {
   "cell_type": "code",
   "execution_count": 20,
   "metadata": {},
   "outputs": [
    {
     "data": {
      "text/plain": [
       "'\\nCrear una lista de 5 enteros y cargarlos por teclado.\\nBorrar los elementos mayores o iguales a 10 y generar una nueva lista con dichos valores.\\n'"
      ]
     },
     "execution_count": 20,
     "metadata": {},
     "output_type": "execute_result"
    }
   ],
   "source": [
    "#Problema 4\n",
    "\"\"\"\n",
    "Crear una lista de 5 enteros y cargarlos por teclado.\n",
    "Borrar los elementos mayores o iguales a 10 y generar una nueva lista con dichos valores.\n",
    "\"\"\""
   ]
  },
  {
   "cell_type": "code",
   "execution_count": 103,
   "metadata": {},
   "outputs": [],
   "source": [
    "lista_de_enteros = []"
   ]
  },
  {
   "cell_type": "code",
   "execution_count": 104,
   "metadata": {},
   "outputs": [],
   "source": [
    "def carga_enteros(lista_enteros, cant):\n",
    "    for i in range(cant):\n",
    "        ent = int(input(\"Ingrese entero: \"))\n",
    "        lista_enteros.append(ent)"
   ]
  },
  {
   "cell_type": "code",
   "execution_count": 114,
   "metadata": {},
   "outputs": [
    {
     "name": "stdout",
     "output_type": "stream",
     "text": [
      "Ingrese entero: 15\n",
      "Ingrese entero: 10\n",
      "Ingrese entero: 2\n",
      "Ingrese entero: 6\n",
      "Ingrese entero: 70\n"
     ]
    }
   ],
   "source": [
    "carga_enteros(lista_de_enteros, 5)"
   ]
  },
  {
   "cell_type": "code",
   "execution_count": 122,
   "metadata": {},
   "outputs": [],
   "source": [
    "def eliminar_enteros(lista):\n",
    "    nueva_lista = []\n",
    "    for i in range(len(lista)):\n",
    "        if lista[i] >= 10:\n",
    "            print(i)\n",
    "            print(lista[i], \"Es mayor que \", 10)\n",
    "            nueva_lista.append(lista[i])\n",
    "            lista.pop()\n",
    "    return nueva_lista"
   ]
  },
  {
   "cell_type": "code",
   "execution_count": 123,
   "metadata": {},
   "outputs": [
    {
     "name": "stdout",
     "output_type": "stream",
     "text": [
      "2\n",
      "15 Es mayor que  10\n"
     ]
    }
   ],
   "source": [
    "prueba = eliminar_enteros(lista_de_enteros)"
   ]
  },
  {
   "cell_type": "code",
   "execution_count": 124,
   "metadata": {},
   "outputs": [
    {
     "name": "stdout",
     "output_type": "stream",
     "text": [
      "[15]\n"
     ]
    }
   ],
   "source": [
    "print(prueba)"
   ]
  },
  {
   "cell_type": "code",
   "execution_count": 125,
   "metadata": {},
   "outputs": [
    {
     "data": {
      "text/plain": [
       "[1, 5]"
      ]
     },
     "execution_count": 125,
     "metadata": {},
     "output_type": "execute_result"
    }
   ],
   "source": [
    "lista_de_enteros"
   ]
  },
  {
   "cell_type": "code",
   "execution_count": null,
   "metadata": {},
   "outputs": [],
   "source": []
  }
 ],
 "metadata": {
  "kernelspec": {
   "display_name": "Python 3",
   "language": "python",
   "name": "python3"
  },
  "language_info": {
   "codemirror_mode": {
    "name": "ipython",
    "version": 3
   },
   "file_extension": ".py",
   "mimetype": "text/x-python",
   "name": "python",
   "nbconvert_exporter": "python",
   "pygments_lexer": "ipython3",
   "version": "3.6.5"
  }
 },
 "nbformat": 4,
 "nbformat_minor": 2
}
