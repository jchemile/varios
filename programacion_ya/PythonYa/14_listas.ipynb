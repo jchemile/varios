{
 "cells": [
  {
   "cell_type": "code",
   "execution_count": 2,
   "metadata": {},
   "outputs": [],
   "source": [
    "#Almacenar 5 enteros en una lista. Sumar todos los elementos. retornar la suma"
   ]
  },
  {
   "cell_type": "code",
   "execution_count": 4,
   "metadata": {},
   "outputs": [],
   "source": [
    "lista = [10,7,3,7,2]\n",
    "suma = 0\n",
    "x = 0"
   ]
  },
  {
   "cell_type": "code",
   "execution_count": 5,
   "metadata": {},
   "outputs": [],
   "source": [
    "while x < len(lista):\n",
    "    suma += lista[x]\n",
    "    x += 1"
   ]
  },
  {
   "cell_type": "code",
   "execution_count": 9,
   "metadata": {},
   "outputs": [
    {
     "name": "stdout",
     "output_type": "stream",
     "text": [
      "[10, 7, 3, 7, 2]\n",
      "Suma igual a:  29\n"
     ]
    }
   ],
   "source": [
    "print(lista)\n",
    "print(\"Suma igual a: \", suma)"
   ]
  },
  {
   "cell_type": "code",
   "execution_count": 10,
   "metadata": {},
   "outputs": [],
   "source": [
    "#Definir una lista con 8 enteros y contar cuántos son mayor a 100\n",
    "lista_enteros = [10, 108,150,2,4,9,442]"
   ]
  },
  {
   "cell_type": "code",
   "execution_count": 12,
   "metadata": {},
   "outputs": [
    {
     "name": "stdout",
     "output_type": "stream",
     "text": [
      "Mayores:  3\n"
     ]
    }
   ],
   "source": [
    "mayor = 0\n",
    "for elemento in lista_enteros:\n",
    "    if elemento > 100:\n",
    "        mayor += 1\n",
    "print(\"Mayores: \", mayor)"
   ]
  },
  {
   "cell_type": "code",
   "execution_count": 13,
   "metadata": {},
   "outputs": [
    {
     "name": "stdout",
     "output_type": "stream",
     "text": [
      "10\n",
      "108\n",
      "150\n",
      "9\n",
      "442\n"
     ]
    }
   ],
   "source": [
    "#Definir una lista. Mostrar los elmentos mayores a 7\n",
    "for elemento in lista_enteros:\n",
    "    if elemento >= 7:\n",
    "        print(elemento)"
   ]
  },
  {
   "cell_type": "code",
   "execution_count": 16,
   "metadata": {},
   "outputs": [],
   "source": [
    "#Almacenar una lista de 5 peronas. Contar cuántas de ellas tienen un nombre con más de 5 caracteres\n",
    "nombres = [\"Juan\", \"Abel\", \"Joaquín\", \"Silvia\", \"Mateo\"]"
   ]
  },
  {
   "cell_type": "code",
   "execution_count": 21,
   "metadata": {},
   "outputs": [
    {
     "name": "stdout",
     "output_type": "stream",
     "text": [
      "Mayores a 5 caracteres 3\n"
     ]
    }
   ],
   "source": [
    "mayor = 0\n",
    "for nombre in nombres:\n",
    "    if len(nombre) >= 5:\n",
    "        mayor += 1\n",
    "print(\"Mayores a 5 caracteres\", mayor)"
   ]
  },
  {
   "cell_type": "code",
   "execution_count": null,
   "metadata": {},
   "outputs": [],
   "source": []
  },
  {
   "cell_type": "code",
   "execution_count": null,
   "metadata": {},
   "outputs": [],
   "source": []
  }
 ],
 "metadata": {
  "kernelspec": {
   "display_name": "Python 3",
   "language": "python",
   "name": "python3"
  },
  "language_info": {
   "codemirror_mode": {
    "name": "ipython",
    "version": 3
   },
   "file_extension": ".py",
   "mimetype": "text/x-python",
   "name": "python",
   "nbconvert_exporter": "python",
   "pygments_lexer": "ipython3",
   "version": "3.7.0"
  }
 },
 "nbformat": 4,
 "nbformat_minor": 2
}
