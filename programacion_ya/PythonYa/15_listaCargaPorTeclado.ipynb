{
 "cells": [
  {
   "cell_type": "code",
   "execution_count": 1,
   "metadata": {},
   "outputs": [],
   "source": [
    "#Definir lista vacía y cargar valores por teclado"
   ]
  },
  {
   "cell_type": "code",
   "execution_count": 2,
   "metadata": {},
   "outputs": [
    {
     "name": "stdout",
     "output_type": "stream",
     "text": [
      "Ingrese valor: 1\n",
      "Ingrese valor: 2\n",
      "Ingrese valor: 3\n",
      "Ingrese valor: 4\n",
      "Ingrese valor: 5\n",
      "[1, 2, 3, 4, 5]\n"
     ]
    }
   ],
   "source": [
    "lista = []\n",
    "for x in range(5):\n",
    "    valor = int(input(\"Ingrese valor: \"))\n",
    "    lista.append(valor)\n",
    "\n",
    "print(lista)"
   ]
  },
  {
   "cell_type": "code",
   "execution_count": 4,
   "metadata": {},
   "outputs": [],
   "source": [
    "#Ingresar valores. Finalizar la carga con un cero"
   ]
  },
  {
   "cell_type": "code",
   "execution_count": 6,
   "metadata": {},
   "outputs": [
    {
     "name": "stdout",
     "output_type": "stream",
     "text": [
      "Ingrese valor: 1\n"
     ]
    }
   ],
   "source": [
    "lista = []\n",
    "valor = int(input(\"Ingrese valor: \"))"
   ]
  },
  {
   "cell_type": "code",
   "execution_count": 7,
   "metadata": {},
   "outputs": [
    {
     "name": "stdout",
     "output_type": "stream",
     "text": [
      "Ingrese valor: 2\n",
      "Ingrese valor: 3\n",
      "Ingrese valor: 4\n",
      "Ingrese valor: 5\n",
      "Ingrese valor: 6\n",
      "Ingrese valor: 7\n",
      "Ingrese valor: 0\n"
     ]
    }
   ],
   "source": [
    "while valor != 0:\n",
    "    lista.append(valor)\n",
    "    valor = int(input(\"Ingrese valor: \"))"
   ]
  },
  {
   "cell_type": "code",
   "execution_count": 8,
   "metadata": {},
   "outputs": [
    {
     "name": "stdout",
     "output_type": "stream",
     "text": [
      "Tamaño de la lista:  7\n"
     ]
    }
   ],
   "source": [
    "print(\"Tamaño de la lista: \", len(lista))"
   ]
  },
  {
   "cell_type": "code",
   "execution_count": 9,
   "metadata": {},
   "outputs": [],
   "source": [
    "# Crear lista de sueldo de 5 operarios. Imprimir la lista y el promedio de sueldos"
   ]
  },
  {
   "cell_type": "code",
   "execution_count": 10,
   "metadata": {},
   "outputs": [
    {
     "name": "stdout",
     "output_type": "stream",
     "text": [
      "Ingrese el sueldo del operario: 1\n",
      "Ingrese el sueldo del operario: 2\n",
      "Ingrese el sueldo del operario: 3\n",
      "Ingrese el sueldo del operario: 4\n",
      "Ingrese el sueldo del operario: 5\n",
      "Sueldos:  [1, 2, 3, 4, 5] Promedio:  3.0\n"
     ]
    }
   ],
   "source": [
    "sueldos = []\n",
    "x = 0\n",
    "suma = 0\n",
    "\n",
    "while x < 5:\n",
    "    sueldo = int(input(\"Ingrese el sueldo del operario: \"))\n",
    "    sueldos.append(sueldo)\n",
    "    suma += sueldo \n",
    "    x += 1\n",
    "    \n",
    "print(\"Sueldos: \", sueldos, \"Promedio: \", suma/5 )"
   ]
  },
  {
   "cell_type": "code",
   "execution_count": 11,
   "metadata": {},
   "outputs": [],
   "source": [
    "# Cargar 5 personas. Calcular el promedio. Calcular cuántas son más altas que el promedio"
   ]
  },
  {
   "cell_type": "code",
   "execution_count": 1,
   "metadata": {},
   "outputs": [
    {
     "name": "stderr",
     "output_type": "stream",
     "text": [
      "C:\\Users\\Usuario\\Anaconda3\\lib\\site-packages\\ipykernel\\parentpoller.py:116: UserWarning: Parent poll failed.  If the frontend dies,\n",
      "                the kernel may be left running.  Please let us know\n",
      "                about your system (bitness, Python, etc.) at\n",
      "                ipython-dev@scipy.org\n",
      "  ipython-dev@scipy.org\"\"\")\n"
     ]
    },
    {
     "name": "stdout",
     "output_type": "stream",
     "text": [
      "Ingrese la altura: 10\n",
      "Ingrese la altura: 20\n",
      "Ingrese la altura: 30\n",
      "Ingrese la altura: 40\n",
      "Ingrese la altura: 50\n",
      "Alturas:  [10.0, 20.0, 30.0, 40.0, 50.0] .Promedio:  30.0 .Sobre el promedio:  2\n"
     ]
    }
   ],
   "source": [
    "alturas = []\n",
    "x = 0\n",
    "suma = 0\n",
    "sobre_promedio = 0\n",
    "promedio = 0\n",
    "\n",
    "while x < 5:\n",
    "    altura = float(input(\"Ingrese la altura: \"))\n",
    "    alturas.append(altura)\n",
    "    suma += altura\n",
    "    x += 1\n",
    "    \n",
    "promedio = suma / 5\n",
    "\n",
    "for altura in alturas:\n",
    "    if altura > promedio:\n",
    "        sobre_promedio += 1\n",
    "        \n",
    "print(\"Alturas: \", alturas, \".Promedio: \", promedio, \".Sobre el promedio: \", sobre_promedio)"
   ]
  },
  {
   "cell_type": "code",
   "execution_count": 3,
   "metadata": {},
   "outputs": [],
   "source": [
    "#Crear dos listas. Almacenar los sueldos en dos listas. Imprimirlas"
   ]
  },
  {
   "cell_type": "code",
   "execution_count": 5,
   "metadata": {},
   "outputs": [
    {
     "name": "stdout",
     "output_type": "stream",
     "text": [
      "Sueldo Mañana: 1\n",
      "Sueldo Mañana: 2\n",
      "Sueldo Mañana: 3\n",
      "Sueldo Mañana: 4\n",
      "Sueldo Tarde: 1\n",
      "Sueldo Tarde: 2\n",
      "Sueldo Tarde: 3\n",
      "Sueldo Tarde: 4\n",
      "Mañana:  [1, 2, 3, 4] Tarde:  [1, 2, 3, 4]\n"
     ]
    }
   ],
   "source": [
    "turnoMan = []\n",
    "turnoTar = []\n",
    "x = 0\n",
    "\n",
    "while x < 4:\n",
    "    sueldo = int(input(\"Sueldo Mañana: \"))\n",
    "    turnoMan.append(sueldo)\n",
    "    x += 1\n",
    "\n",
    "while x > 0:\n",
    "    sueldo = int(input(\"Sueldo Tarde: \"))\n",
    "    turnoTar.append(sueldo)\n",
    "    x -= 1\n",
    "    \n",
    "print(\"Mañana: \", turnoMan, \"Tarde: \", turnoTar)"
   ]
  },
  {
   "cell_type": "code",
   "execution_count": null,
   "metadata": {},
   "outputs": [],
   "source": []
  }
 ],
 "metadata": {
  "kernelspec": {
   "display_name": "Python 3",
   "language": "python",
   "name": "python3"
  },
  "language_info": {
   "codemirror_mode": {
    "name": "ipython",
    "version": 3
   },
   "file_extension": ".py",
   "mimetype": "text/x-python",
   "name": "python",
   "nbconvert_exporter": "python",
   "pygments_lexer": "ipython3",
   "version": "3.7.0"
  }
 },
 "nbformat": 4,
 "nbformat_minor": 2
}
